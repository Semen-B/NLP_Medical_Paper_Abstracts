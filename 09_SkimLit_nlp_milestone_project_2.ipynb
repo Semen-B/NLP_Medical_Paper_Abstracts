{
 "cells": [
  {
   "cell_type": "code",
   "execution_count": 1,
   "id": "78c500d4",
   "metadata": {},
   "outputs": [
    {
     "name": "stdout",
     "output_type": "stream",
     "text": [
      "GPU 0: NVIDIA GeForce RTX 3060 Laptop GPU (UUID: GPU-63841278-b94a-af1d-b385-7d84275529fb)\n"
     ]
    }
   ],
   "source": [
    "# Check for GPU\n",
    "!nvidia-smi -L\n"
   ]
  },
  {
   "cell_type": "code",
   "execution_count": 2,
   "id": "6b45d932",
   "metadata": {
    "scrolled": true
   },
   "outputs": [
    {
     "name": "stdout",
     "output_type": "stream",
     "text": [
      "On branch master\n",
      "Your branch is up to date with 'origin/master'.\n",
      "\n",
      "Changes not staged for commit:\n",
      "  (use \"git add <file>...\" to update what will be committed)\n",
      "  (use \"git restore <file>...\" to discard changes in working directory)\n",
      "\tmodified:   09_SkimLit_nlp_milestone_project_2.ipynb\n",
      "\n",
      "Untracked files:\n",
      "  (use \"git add <file>...\" to include in what will be committed)\n",
      "\t.ipynb_checkpoints/\n",
      "\t02. Neural Network Classification with TensorFlow.ipynb\n",
      "\t03. Convolutional Neural Networks and Computer Vision with TensorFlow.ipynb\n",
      "\t04_transfer_learning_in_tensorflow_part_1_feature_extraction.ipynb\n",
      "\t05_transfer_learning_in_tensorflow_part_2_fine_tuning.ipynb\n",
      "\t\"06. Transfer Learning with TensorFlow Part 3 Scaling up (\\360\\237\\215\\224\\360\\237\\221\\201 Food Vision mini).ipynb\"\n",
      "\t06_101_food_class_10_percent_saved_big_dog_model.zip\n",
      "\t06_101_food_class_10_percent_saved_big_dog_model.zip.1\n",
      "\t06_101_food_class_10_percent_saved_big_dog_model/\n",
      "\t07_efficientnetb0_feature_extract_model_mixed_precision.zip\n",
      "\t07_efficientnetb0_feature_extract_model_mixed_precision/\n",
      "\t07_food_vision_milestone_project_1.ipynb\n",
      "\t08_introduction_to_nlp_in_tensorflow.ipynb\n",
      "\t101_classes_10_percent_data_model_checkpoint.data-00000-of-00001\n",
      "\t101_classes_10_percent_data_model_checkpoint.index\n",
      "\t101_food_classes_10_percent.zip\n",
      "\t101_food_classes_10_percent/\n",
      "\t10_food_classes_10_percent.zip\n",
      "\t10_food_classes_10_percent.zip.1\n",
      "\t10_food_classes_10_percent/\n",
      "\t10_food_classes_1_percent.zip\n",
      "\t10_food_classes_1_percent.zip.1\n",
      "\t10_food_classes_1_percent/\n",
      "\t10_food_classes_all_data/\n",
      "\tBig_dog_model/\n",
      "\tNLP-Neural-Networks-for-Joint-Sentence-Classification-in-Medical-Paper-Abstracts/\n",
      "\tTransfer_lerning_myself_test.ipynb\n",
      "\tUntitled.ipynb\n",
      "\tUntitled1.ipynb\n",
      "\tUntitled2.ipynb\n",
      "\t__MACOSX/\n",
      "\t__pycache__/\n",
      "\tcheckpoint\n",
      "\tconfusion_matrix.png\n",
      "\tdesktop.ini\n",
      "\tfood_vision_model_checkpoints.data-00000-of-00001\n",
      "\tfood_vision_model_checkpoints.index\n",
      "\thelper_functions.py\n",
      "\thelper_functions.py.1\n",
      "\thelper_functions.py.2\n",
      "\thelper_functions.py.3\n",
      "\thelper_functions.py.4\n",
      "\tmodel_checkpoints_food_vision/\n",
      "\tmodel_checkpoints_food_vision_2/\n",
      "\tmy_LSTM/\n",
      "\tmy_LSTM_3/\n",
      "\tmy_LSTM_5/\n",
      "\tmy_LSTM_7/\n",
      "\tmy_LSTM_8/\n",
      "\tmy_dir_for_twiter_1/\n",
      "\tnlp_getting_started.zip\n",
      "\tpizza_steak/\n",
      "\tpubmed-rct/\n",
      "\tsample_submission.csv\n",
      "\tsaved_trained_model_multyclass/\n",
      "\tten_percent_model_checkpoints_weights/\n",
      "\ttensorflow_hub/\n",
      "\ttesla_model_3/\n",
      "\ttest.csv\n",
      "\ttrain.csv\n",
      "\ttraining_logs/\n",
      "\ttransfer_learning/\n",
      "\ttransfer_learning_7/\n",
      "\ttransfet_lerning/\n",
      "\n",
      "no changes added to commit (use \"git add\" and/or \"git commit -a\")\n"
     ]
    }
   ],
   "source": [
    "!git status"
   ]
  },
  {
   "cell_type": "code",
   "execution_count": 3,
   "id": "cd8a6fae",
   "metadata": {},
   "outputs": [
    {
     "name": "stderr",
     "output_type": "stream",
     "text": [
      "fatal: destination path 'NLP-Neural-Networks-for-Joint-Sentence-Classification-in-Medical-Paper-Abstracts' already exists and is not an empty directory.\n"
     ]
    }
   ],
   "source": [
    "! git clone https://github.com/Semen-B/NLP-Neural-Networks-for-Joint-Sentence-Classification-in-Medical-Paper-Abstracts.git"
   ]
  },
  {
   "cell_type": "code",
   "execution_count": 4,
   "id": "79fa9ad5",
   "metadata": {},
   "outputs": [
    {
     "name": "stderr",
     "output_type": "stream",
     "text": [
      "warning: LF will be replaced by CRLF in 09_SkimLit_nlp_milestone_project_2.ipynb.\n",
      "The file will have its original line endings in your working directory\n"
     ]
    }
   ],
   "source": [
    "! git add 09_SkimLit_nlp_milestone_project_2.ipynb"
   ]
  },
  {
   "cell_type": "code",
   "execution_count": 5,
   "id": "bec39327",
   "metadata": {},
   "outputs": [
    {
     "name": "stdout",
     "output_type": "stream",
     "text": [
      "[master e0b5b2a] sixth commit\n",
      " 1 file changed, 518 insertions(+), 88 deletions(-)\n"
     ]
    }
   ],
   "source": [
    "! git commit -m \"sixth commit\""
   ]
  },
  {
   "cell_type": "code",
   "execution_count": 6,
   "id": "465635d5",
   "metadata": {},
   "outputs": [
    {
     "name": "stderr",
     "output_type": "stream",
     "text": [
      "error: remote origin already exists.\n"
     ]
    }
   ],
   "source": [
    "! git remote add origin https://github.com/Semen-B/NLP_Medical_Paper_Abstracts.git"
   ]
  },
  {
   "cell_type": "code",
   "execution_count": 7,
   "id": "2638cfd2",
   "metadata": {},
   "outputs": [],
   "source": [
    "! git branch -M master"
   ]
  },
  {
   "cell_type": "code",
   "execution_count": 8,
   "id": "abb19766",
   "metadata": {},
   "outputs": [
    {
     "name": "stdout",
     "output_type": "stream",
     "text": [
      "* master\n",
      "  tmp\n"
     ]
    }
   ],
   "source": [
    "! git branch"
   ]
  },
  {
   "cell_type": "code",
   "execution_count": 9,
   "id": "029dd88e",
   "metadata": {},
   "outputs": [
    {
     "name": "stdout",
     "output_type": "stream",
     "text": [
      "Branch 'master' set up to track remote branch 'master' from 'origin'.\n"
     ]
    },
    {
     "name": "stderr",
     "output_type": "stream",
     "text": [
      "To https://github.com/Semen-B/NLP_Medical_Paper_Abstracts.git\n",
      "   617c94c..e0b5b2a  master -> master\n"
     ]
    }
   ],
   "source": [
    "! git push -u origin master"
   ]
  },
  {
   "cell_type": "code",
   "execution_count": 10,
   "id": "07bf5105",
   "metadata": {},
   "outputs": [],
   "source": [
    "! git reset"
   ]
  },
  {
   "cell_type": "code",
   "execution_count": 11,
   "id": "f888a0f0",
   "metadata": {},
   "outputs": [
    {
     "name": "stderr",
     "output_type": "stream",
     "text": [
      "fatal: destination path 'pubmed-rct' already exists and is not an empty directory.\n"
     ]
    }
   ],
   "source": [
    "!git clone https://github.com/Franck-Dernoncourt/pubmed-rct.git"
   ]
  },
  {
   "cell_type": "code",
   "execution_count": 12,
   "id": "2ff290fc",
   "metadata": {
    "scrolled": true
   },
   "outputs": [
    {
     "name": "stdout",
     "output_type": "stream",
     "text": [
      " Volume in drive C has no label.\n",
      " Volume Serial Number is AA66-8B4D\n",
      "\n",
      " Directory of C:\\Users\\semen\\Desktop\\pythonProject\\pubmed-rct\n",
      "\n",
      "01.05.2022  17:05    <DIR>          .\n",
      "01.05.2022  17:05    <DIR>          ..\n",
      "01.05.2022  17:14    <DIR>          PubMed_200k_RCT\n",
      "01.05.2022  17:16    <DIR>          PubMed_200k_RCT_numbers_replaced_with_at_sign\n",
      "01.05.2022  17:05    <DIR>          PubMed_20k_RCT\n",
      "01.05.2022  17:05    <DIR>          PubMed_20k_RCT_numbers_replaced_with_at_sign\n",
      "01.05.2022  17:05             2ÿ403 README.md\n",
      "               1 File(s)          2ÿ403 bytes\n",
      "               6 Dir(s)  308ÿ581ÿ752ÿ832 bytes free\n"
     ]
    }
   ],
   "source": [
    "!dir pubmed-rct"
   ]
  },
  {
   "cell_type": "code",
   "execution_count": 13,
   "id": "d7f80738",
   "metadata": {},
   "outputs": [
    {
     "name": "stdout",
     "output_type": "stream",
     "text": [
      " Volume in drive C has no label.\n",
      " Volume Serial Number is AA66-8B4D\n",
      "\n",
      " Directory of C:\\Users\\semen\\Desktop\\pythonProject\\pubmed-rct\\PubMed_20k_RCT_numbers_replaced_with_at_sign\n",
      "\n",
      "01.05.2022  17:05    <DIR>          .\n",
      "01.05.2022  17:05    <DIR>          ..\n",
      "01.05.2022  17:05         4ÿ880ÿ409 dev.txt\n",
      "01.05.2022  17:05         4ÿ846ÿ504 test.txt\n",
      "01.05.2022  17:05        29ÿ118ÿ832 train.txt\n",
      "               3 File(s)     38ÿ845ÿ745 bytes\n",
      "               2 Dir(s)  308ÿ581ÿ752ÿ832 bytes free\n"
     ]
    }
   ],
   "source": [
    "# Check what files are in the PubMed_20K dataset \n",
    "!dir pubmed-rct\\PubMed_20k_RCT_numbers_replaced_with_at_sign"
   ]
  },
  {
   "cell_type": "code",
   "execution_count": 14,
   "id": "36290cad",
   "metadata": {},
   "outputs": [],
   "source": [
    "# Create function to read the lines of a document\n",
    "def get_lines(filename):\n",
    "  \"\"\"\n",
    "  Reads filename (a text file) and returns the lines of text as a list.\n",
    "  \n",
    "  Args:\n",
    "      filename: a string containing the target filepath to read.\n",
    "  \n",
    "  Returns:\n",
    "      A list of strings with one string per line from the target filename.\n",
    "      For example:\n",
    "      [\"this is the first line of filename\",\n",
    "       \"this is the second line of filename\",\n",
    "       \"...\"]\n",
    "  \"\"\"\n",
    "  with open(filename, \"r\") as f:\n",
    "    return f.readlines()"
   ]
  },
  {
   "cell_type": "code",
   "execution_count": 15,
   "id": "4a419acd",
   "metadata": {
    "scrolled": true
   },
   "outputs": [],
   "source": [
    "def create_list_of_dic(filename):\n",
    "    my_list_dic=[]\n",
    "    my_list = str(get_lines(filename))\n",
    "    sample = my_list.split('###')\n",
    "    for f in range(len(sample)):\n",
    "        count = 0\n",
    "        separator = \"\\\\n\"\n",
    "        semple_1 = sample[f].split(separator)\n",
    "        total_lines = len(semple_1)-4\n",
    "        for i in semple_1[1:-2]:\n",
    "            temp_dic = {}\n",
    "            _key, value, *other = i.split('\\\\t')\n",
    "            temp_dic['target'] = ''.join(char for char in _key if char.isalnum())\n",
    "            temp_dic['text'] = value.lower()\n",
    "            temp_dic['line_number'] = count\n",
    "            temp_dic['total_lines'] = total_lines\n",
    "            my_list_dic.append(temp_dic)\n",
    "            count+=1\n",
    "    return my_list_dic"
   ]
  },
  {
   "cell_type": "code",
   "execution_count": 16,
   "id": "c2dbf86e",
   "metadata": {},
   "outputs": [
    {
     "data": {
      "text/plain": [
       "[{'target': 'OBJECTIVE',\n",
       "  'text': 'to investigate the efficacy of @ weeks of daily low-dose oral prednisolone in improving pain , mobility , and systemic low-grade inflammation in the short term and whether the effect would be sustained at @ weeks in older adults with moderate to severe knee osteoarthritis ( oa ) .',\n",
       "  'line_number': 0,\n",
       "  'total_lines': 11},\n",
       " {'target': 'METHODS',\n",
       "  'text': 'a total of @ patients with primary knee oa were randomized @:@ ; @ received @ mg/day of prednisolone and @ received placebo for @ weeks .',\n",
       "  'line_number': 1,\n",
       "  'total_lines': 11},\n",
       " {'target': 'METHODS',\n",
       "  'text': 'outcome measures included pain reduction and improvement in function scores and systemic inflammation markers .',\n",
       "  'line_number': 2,\n",
       "  'total_lines': 11},\n",
       " {'target': 'METHODS',\n",
       "  'text': 'pain was assessed using the visual analog pain scale ( @-@ mm ) .',\n",
       "  'line_number': 3,\n",
       "  'total_lines': 11},\n",
       " {'target': 'METHODS',\n",
       "  'text': 'secondary outcome measures included the western ontario and mcmaster universities osteoarthritis index scores , patient global assessment ( pga ) of the severity of knee oa , and @-min walk distance ( @mwd ) .',\n",
       "  'line_number': 4,\n",
       "  'total_lines': 11},\n",
       " {'target': 'METHODS',\n",
       "  'text': 'serum levels of interleukin @ ( il-@ ) , il-@ , tumor necrosis factor ( tnf ) - , and high-sensitivity c-reactive protein ( hscrp ) were measured .',\n",
       "  'line_number': 5,\n",
       "  'total_lines': 11},\n",
       " {'target': 'RESULTS',\n",
       "  'text': 'there was a clinically relevant reduction in the intervention group compared to the placebo group for knee pain , physical function , pga , and @mwd at @ weeks .',\n",
       "  'line_number': 6,\n",
       "  'total_lines': 11},\n",
       " {'target': 'RESULTS',\n",
       "  'text': 'the mean difference between treatment arms ( @ % ci ) was @ ( @-@ @ ) , p < @ ; @ ( @-@ @ ) , p < @ ; @ ( @-@ @ ) , p < @ ; and @ ( @-@ @ ) , p < @ , respectively .',\n",
       "  'line_number': 7,\n",
       "  'total_lines': 11},\n",
       " {'target': 'RESULTS',\n",
       "  'text': 'further , there was a clinically relevant reduction in the serum levels of il-@ , il-@ , tnf - , and hscrp at @ weeks in the intervention group when compared to the placebo group .',\n",
       "  'line_number': 8,\n",
       "  'total_lines': 11},\n",
       " {'target': 'RESULTS',\n",
       "  'text': 'these differences remained significant at @ weeks .',\n",
       "  'line_number': 9,\n",
       "  'total_lines': 11},\n",
       " {'target': 'RESULTS',\n",
       "  'text': 'the outcome measures in rheumatology clinical trials-osteoarthritis research society international responder rate was @ % in the intervention group and @ % in the placebo group ( p < @ ) .',\n",
       "  'line_number': 10,\n",
       "  'total_lines': 11},\n",
       " {'target': 'CONCLUSIONS',\n",
       "  'text': 'low-dose oral prednisolone had both a short-term and a longer sustained effect resulting in less knee pain , better physical function , and attenuation of systemic inflammation in older patients with knee oa ( clinicaltrials.gov identifier nct@ ) .',\n",
       "  'line_number': 11,\n",
       "  'total_lines': 11},\n",
       " {'target': 'BACKGROUND',\n",
       "  'text': 'emotional eating is associated with overeating and the development of obesity .',\n",
       "  'line_number': 0,\n",
       "  'total_lines': 10},\n",
       " {'target': 'BACKGROUND',\n",
       "  'text': 'yet , empirical evidence for individual ( trait ) differences in emotional eating and cognitive mechanisms that contribute to eating during sad mood remain equivocal .',\n",
       "  'line_number': 1,\n",
       "  'total_lines': 10},\n",
       " {'target': 'OBJECTIVE',\n",
       "  'text': 'the aim of this study was to test if attention bias for food moderates the effect of self-reported emotional eating during sad mood ( vs neutral mood ) on actual food intake .',\n",
       "  'line_number': 2,\n",
       "  'total_lines': 10},\n",
       " {'target': 'OBJECTIVE',\n",
       "  'text': 'it was expected that emotional eating is predictive of elevated attention for food and higher food intake after an experimentally induced sad mood and that attentional maintenance on food predicts food intake during a sad versus a neutral mood .',\n",
       "  'line_number': 3,\n",
       "  'total_lines': 10},\n",
       " {'target': 'METHODS',\n",
       "  'text': 'participants ( n = @ ) were randomly assigned to one of the two experimental mood induction conditions ( sad/neutral ) .',\n",
       "  'line_number': 4,\n",
       "  'total_lines': 10},\n",
       " {'target': 'METHODS',\n",
       "  'text': 'attentional biases for high caloric foods were measured by eye tracking during a visual probe task with pictorial food and neutral stimuli .',\n",
       "  'line_number': 5,\n",
       "  'total_lines': 10},\n",
       " {'target': 'METHODS',\n",
       "  'text': 'self-reported emotional eating was assessed with the dutch eating behavior questionnaire ( debq ) and ad libitum food intake was tested by a disguised food offer .',\n",
       "  'line_number': 6,\n",
       "  'total_lines': 10},\n",
       " {'target': 'RESULTS',\n",
       "  'text': 'hierarchical multivariate regression modeling showed that self-reported emotional eating did not account for changes in attention allocation for food or food intake in either condition .',\n",
       "  'line_number': 7,\n",
       "  'total_lines': 10},\n",
       " {'target': 'RESULTS',\n",
       "  'text': 'yet , attention maintenance on food cues was significantly related to increased intake specifically in the neutral condition , but not in the sad mood condition .',\n",
       "  'line_number': 8,\n",
       "  'total_lines': 10},\n",
       " {'target': 'CONCLUSIONS',\n",
       "  'text': 'the current findings show that self-reported emotional eating ( based on the debq ) might not validly predict who overeats when sad , at least not in a laboratory setting with healthy women .',\n",
       "  'line_number': 9,\n",
       "  'total_lines': 10},\n",
       " {'target': 'CONCLUSIONS',\n",
       "  'text': 'results further suggest that attention maintenance on food relates to eating motivation when in a neutral affective state , and might therefore be a cognitive mechanism contributing to increased food intake in general , but maybe not during sad mood .',\n",
       "  'line_number': 10,\n",
       "  'total_lines': 10},\n",
       " {'target': 'BACKGROUND',\n",
       "  'text': 'although working smoke alarms halve deaths in residential fires , many households do not keep alarms operational .',\n",
       "  'line_number': 0,\n",
       "  'total_lines': 14},\n",
       " {'target': 'BACKGROUND',\n",
       "  'text': 'we tested whether theory-based education increases alarm operability .',\n",
       "  'line_number': 1,\n",
       "  'total_lines': 14},\n",
       " {'target': 'METHODS',\n",
       "  'text': 'randomised multiarm trial , with a single arm randomly selected for use each day , in low-income neighbourhoods in maryland , usa .',\n",
       "  'line_number': 2,\n",
       "  'total_lines': 14},\n",
       " {'target': 'METHODS',\n",
       "  'text': \"intervention arms : ( @ ) full education combining a health belief module with a social-cognitive theory module that provided hands-on practice installing alarm batteries and using the alarm 's hush button ; ( @ ) hands-on practice social-cognitive module supplemented by typical fire department education ; ( @ ) current norm receiving typical fire department education only .\",\n",
       "  'line_number': 3,\n",
       "  'total_lines': 14},\n",
       " {'target': 'METHODS',\n",
       "  'text': 'four hundred and thirty-six homes recruited through churches or by knocking on doors in @-@ .',\n",
       "  'line_number': 4,\n",
       "  'total_lines': 14},\n",
       " {'target': 'METHODS',\n",
       "  'text': 'follow-up visits checked alarm operability in @ homes ( @ % ) @-@ @ years after installation .',\n",
       "  'line_number': 5,\n",
       "  'total_lines': 14},\n",
       " {'target': 'METHODS',\n",
       "  'text': 'number of homes with working alarms defined as alarms with working batteries or hard-wired and number of working alarms per home .',\n",
       "  'line_number': 6,\n",
       "  'total_lines': 14},\n",
       " {'target': 'METHODS',\n",
       "  'text': 'regressions controlled for alarm status preintervention ; demographics and beliefs about fire risks and alarm effectiveness .',\n",
       "  'line_number': 7,\n",
       "  'total_lines': 14},\n",
       " {'target': 'RESULTS',\n",
       "  'text': 'homes in the full education and practice arms were more likely to have a functioning smoke alarm at follow-up ( or = @ , @ % ci @ to @ ) and had an average of @ more working alarms per home ( @ % ci @ to @ ) .',\n",
       "  'line_number': 8,\n",
       "  'total_lines': 14},\n",
       " {'target': 'RESULTS',\n",
       "  'text': 'working alarms per home rose @ % .',\n",
       "  'line_number': 9,\n",
       "  'total_lines': 14},\n",
       " {'target': 'RESULTS',\n",
       "  'text': 'full education and practice had similar effectiveness ( p = @ on both outcome measures ) .',\n",
       "  'line_number': 10,\n",
       "  'total_lines': 14},\n",
       " {'target': 'CONCLUSIONS',\n",
       "  'text': 'without exceeding typical fire department installation time , installers can achieve greater smoke alarm operability .',\n",
       "  'line_number': 11,\n",
       "  'total_lines': 14},\n",
       " {'target': 'CONCLUSIONS',\n",
       "  'text': 'hands-on practice is key .',\n",
       "  'line_number': 12,\n",
       "  'total_lines': 14},\n",
       " {'target': 'CONCLUSIONS',\n",
       "  'text': 'two years after installation , for every three homes that received hands-on practice , one had an additional working alarm .',\n",
       "  'line_number': 13,\n",
       "  'total_lines': 14},\n",
       " {'target': 'BACKGROUND',\n",
       "  'text': 'http://www.clinicaltrials.gov number nct@ .',\n",
       "  'line_number': 14,\n",
       "  'total_lines': 14},\n",
       " {'target': 'OBJECTIVE',\n",
       "  'text': 'to evaluate the performance ( efficacy , safety and acceptability ) of a new micro-adherent absorbent dressing ( urgoclean ) compared with a hydrofiber dressing ( aquacel ) in the local management of venous leg ulcers , in the debridement stage .',\n",
       "  'line_number': 0,\n",
       "  'total_lines': 16},\n",
       " {'target': 'METHODS',\n",
       "  'text': 'a non-inferiority european randomised controlled clinical trial ( rct ) was conducted in @ centres , on patients presenting with venous or predominantly venous , mixed aetiology leg ulcers at their sloughy stage ( with more than @ % of the wound bed covered with slough at baseline ) .',\n",
       "  'line_number': 1,\n",
       "  'total_lines': 16},\n",
       " {'target': 'METHODS',\n",
       "  'text': 'patients were followed over a @-week period and assessed weekly .',\n",
       "  'line_number': 2,\n",
       "  'total_lines': 16},\n",
       " {'target': 'METHODS',\n",
       "  'text': 'the primary judgement criteria was the relative regression of the wound surface area after the @-week treatment period .',\n",
       "  'line_number': 3,\n",
       "  'total_lines': 16},\n",
       " {'target': 'METHODS',\n",
       "  'text': 'secondary endpoints were the relative reduction of sloughy tissue and the percentage of patients presenting with a debrided wound .',\n",
       "  'line_number': 4,\n",
       "  'total_lines': 16},\n",
       " {'target': 'RESULTS',\n",
       "  'text': 'altogether , @ patients were randomised to either urgoclean ( test group ; n = @ ) or aquacel ( control group ; n = @ ) dressings .',\n",
       "  'line_number': 5,\n",
       "  'total_lines': 16},\n",
       " {'target': 'RESULTS',\n",
       "  'text': 'regarding the wound healing process predictive factors ( wound area , duration , abpi value , recurrence ) , at baseline , the two groups were well balanced , for both wound and patient characteristics .',\n",
       "  'line_number': 6,\n",
       "  'total_lines': 16},\n",
       " {'target': 'RESULTS',\n",
       "  'text': 'compression therapy was administered to both groups and after a median @-day treatment period , the percentage of relative reduction of the wound surface area was very similar ( -@ % vs -@ % in the urgoclean and control groups , respectively ) .',\n",
       "  'line_number': 7,\n",
       "  'total_lines': 16},\n",
       " {'target': 'RESULTS',\n",
       "  'text': 'when considering the secondary criteria at week @ , the relative reduction of sloughy tissue was significantly higher in the urgoclean group than in the control group ( -@ % vs -@,@ % ; p = @ ) .',\n",
       "  'line_number': 8,\n",
       "  'total_lines': 16},\n",
       " {'target': 'RESULTS',\n",
       "  'text': 'the percentage of debrided wounds was also significantly higher in the test group ( @ % vs @ % ; p = @ ) .',\n",
       "  'line_number': 9,\n",
       "  'total_lines': 16},\n",
       " {'target': 'CONCLUSIONS',\n",
       "  'text': \"this ` earth ' rct confirmed that the urgoclean dressing has similar efficacy and safety compared to aquacel .\",\n",
       "  'line_number': 10,\n",
       "  'total_lines': 16},\n",
       " {'target': 'CONCLUSIONS',\n",
       "  'text': 'however , urgoclean also showed better autolytic properties than the control group in the management of venous leg ulcers at the sloughy stage .',\n",
       "  'line_number': 11,\n",
       "  'total_lines': 16}]"
      ]
     },
     "execution_count": 16,
     "metadata": {},
     "output_type": "execute_result"
    }
   ],
   "source": [
    "my_dic = create_list_of_dic('pubmed-rct/PubMed_20k_RCT_numbers_replaced_with_at_sign/train.txt')\n",
    "my_dic[:50]"
   ]
  },
  {
   "cell_type": "code",
   "execution_count": 17,
   "id": "8bb104de",
   "metadata": {},
   "outputs": [
    {
     "data": {
      "text/plain": [
       "180040"
      ]
     },
     "execution_count": 17,
     "metadata": {},
     "output_type": "execute_result"
    }
   ],
   "source": [
    "len(my_dic)"
   ]
  },
  {
   "cell_type": "code",
   "execution_count": 18,
   "id": "9f491430",
   "metadata": {},
   "outputs": [],
   "source": [
    "! git add 09_SkimLit_nlp_milestone_project_2.ipynb"
   ]
  },
  {
   "cell_type": "code",
   "execution_count": 19,
   "id": "8cb60b11",
   "metadata": {},
   "outputs": [
    {
     "name": "stdout",
     "output_type": "stream",
     "text": [
      "On branch master\n",
      "Your branch is up to date with 'origin/master'.\n",
      "\n",
      "Untracked files:\n",
      "  (use \"git add <file>...\" to include in what will be committed)\n",
      "\t.ipynb_checkpoints/\n",
      "\t02. Neural Network Classification with TensorFlow.ipynb\n",
      "\t03. Convolutional Neural Networks and Computer Vision with TensorFlow.ipynb\n",
      "\t04_transfer_learning_in_tensorflow_part_1_feature_extraction.ipynb\n",
      "\t05_transfer_learning_in_tensorflow_part_2_fine_tuning.ipynb\n",
      "\t\"06. Transfer Learning with TensorFlow Part 3 Scaling up (\\360\\237\\215\\224\\360\\237\\221\\201 Food Vision mini).ipynb\"\n",
      "\t06_101_food_class_10_percent_saved_big_dog_model.zip\n",
      "\t06_101_food_class_10_percent_saved_big_dog_model.zip.1\n",
      "\t06_101_food_class_10_percent_saved_big_dog_model/\n",
      "\t07_efficientnetb0_feature_extract_model_mixed_precision.zip\n",
      "\t07_efficientnetb0_feature_extract_model_mixed_precision/\n",
      "\t07_food_vision_milestone_project_1.ipynb\n",
      "\t08_introduction_to_nlp_in_tensorflow.ipynb\n",
      "\t101_classes_10_percent_data_model_checkpoint.data-00000-of-00001\n",
      "\t101_classes_10_percent_data_model_checkpoint.index\n",
      "\t101_food_classes_10_percent.zip\n",
      "\t101_food_classes_10_percent/\n",
      "\t10_food_classes_10_percent.zip\n",
      "\t10_food_classes_10_percent.zip.1\n",
      "\t10_food_classes_10_percent/\n",
      "\t10_food_classes_1_percent.zip\n",
      "\t10_food_classes_1_percent.zip.1\n",
      "\t10_food_classes_1_percent/\n",
      "\t10_food_classes_all_data/\n",
      "\tBig_dog_model/\n",
      "\tNLP-Neural-Networks-for-Joint-Sentence-Classification-in-Medical-Paper-Abstracts/\n",
      "\tTransfer_lerning_myself_test.ipynb\n",
      "\tUntitled.ipynb\n",
      "\tUntitled1.ipynb\n",
      "\tUntitled2.ipynb\n",
      "\t__MACOSX/\n",
      "\t__pycache__/\n",
      "\tcheckpoint\n",
      "\tconfusion_matrix.png\n",
      "\tdesktop.ini\n",
      "\tfood_vision_model_checkpoints.data-00000-of-00001\n",
      "\tfood_vision_model_checkpoints.index\n",
      "\thelper_functions.py\n",
      "\thelper_functions.py.1\n",
      "\thelper_functions.py.2\n",
      "\thelper_functions.py.3\n",
      "\thelper_functions.py.4\n",
      "\tmodel_checkpoints_food_vision/\n",
      "\tmodel_checkpoints_food_vision_2/\n",
      "\tmy_LSTM/\n",
      "\tmy_LSTM_3/\n",
      "\tmy_LSTM_5/\n",
      "\tmy_LSTM_7/\n",
      "\tmy_LSTM_8/\n",
      "\tmy_dir_for_twiter_1/\n",
      "\tnlp_getting_started.zip\n",
      "\tpizza_steak/\n",
      "\tpubmed-rct/\n",
      "\tsample_submission.csv\n",
      "\tsaved_trained_model_multyclass/\n",
      "\tten_percent_model_checkpoints_weights/\n",
      "\ttensorflow_hub/\n",
      "\ttesla_model_3/\n",
      "\ttest.csv\n",
      "\ttrain.csv\n",
      "\ttraining_logs/\n",
      "\ttransfer_learning/\n",
      "\ttransfer_learning_7/\n",
      "\ttransfet_lerning/\n",
      "\n",
      "nothing added to commit but untracked files present (use \"git add\" to track)\n"
     ]
    }
   ],
   "source": [
    "!git commit -m \"new commit accuracy\""
   ]
  },
  {
   "cell_type": "code",
   "execution_count": 20,
   "id": "7222917b",
   "metadata": {},
   "outputs": [],
   "source": [
    "def preprocess_text_with_line_numbers(filename):\n",
    "    \"\"\"Returns a list of dictionaries of abstract line data.\n",
    "\n",
    "    Takes in filename, reads its contents and sorts through each line,\n",
    "    extracting things like the target label, the text of the sentence,\n",
    "    how many sentences are in the current abstract and what sentence number\n",
    "    the target line is.\n",
    "\n",
    "    Args:\n",
    "      filename: a string of the target text file to read and extract line data\n",
    "      from.\n",
    "\n",
    "    Returns:\n",
    "      A list of dictionaries each containing a line from an abstract,\n",
    "      the lines label, the lines position in the abstract and the total number\n",
    "      of lines in the abstract where the line is from. For example:\n",
    "\n",
    "      [{\"target\": 'CONCLUSION',\n",
    "        \"text\": The study couldn't have gone better, turns out people are kinder than you think\",\n",
    "        \"line_number\": 8,\n",
    "        \"total_lines\": 8}]\n",
    "    \"\"\"\n",
    "    input_lines = get_lines(filename) # get all lines from filename\n",
    "    abstract_lines = \"\" # create an empty abstract\n",
    "    abstract_samples = [] # create an empty list of abstracts\n",
    "\n",
    "    # Loop through each line in target file\n",
    "    for line in input_lines:\n",
    "        if line.startswith(\"###\"): # check to see if line is an ID line\n",
    "            abstract_id = line\n",
    "            abstract_lines = \"\" # reset abstract string\n",
    "        elif line.isspace(): # check to see if line is a new line\n",
    "            abstract_line_split = abstract_lines.splitlines() # split abstract into separate lines\n",
    "\n",
    "            # Iterate through each line in abstract and count them at the same time\n",
    "            for abstract_line_number, abstract_line in enumerate(abstract_line_split):\n",
    "                line_data = {} # create empty dict to store data from line\n",
    "                target_text_split = abstract_line.split(\"\\t\") # split target label from text\n",
    "                line_data[\"target\"] = target_text_split[0] # get target label\n",
    "                line_data[\"text\"] = target_text_split[1].lower() # get target text and lower it\n",
    "                line_data[\"line_number\"] = abstract_line_number # what number line does the line appear in the abstract?\n",
    "                line_data[\"total_lines\"] = len(abstract_line_split) - 1 # how many total lines are in the abstract? (start from 0)\n",
    "                abstract_samples.append(line_data) # add line data to abstract samples list\n",
    "\n",
    "        else: # if the above conditions aren't fulfilled, the line contains a labelled sentence\n",
    "            abstract_lines += line\n",
    "\n",
    "    return abstract_samples"
   ]
  },
  {
   "cell_type": "code",
   "execution_count": 21,
   "id": "50c07f08",
   "metadata": {},
   "outputs": [],
   "source": [
    "data_dir = \"pubmed-rct/PubMed_20k_RCT_numbers_replaced_with_at_sign/\"\n",
    "train_samples = preprocess_text_with_line_numbers('pubmed-rct/PubMed_20k_RCT_numbers_replaced_with_at_sign/train.txt')\n",
    "val_samples = preprocess_text_with_line_numbers(data_dir + \"dev.txt\") # dev is another name for validation set\n",
    "test_samples = preprocess_text_with_line_numbers(data_dir + \"test.txt\")\n"
   ]
  },
  {
   "cell_type": "code",
   "execution_count": 22,
   "id": "18491a06",
   "metadata": {
    "scrolled": true
   },
   "outputs": [
    {
     "data": {
      "text/plain": [
       "[{'target': 'OBJECTIVE',\n",
       "  'text': 'to investigate the efficacy of @ weeks of daily low-dose oral prednisolone in improving pain , mobility , and systemic low-grade inflammation in the short term and whether the effect would be sustained at @ weeks in older adults with moderate to severe knee osteoarthritis ( oa ) .',\n",
       "  'line_number': 0,\n",
       "  'total_lines': 11},\n",
       " {'target': 'METHODS',\n",
       "  'text': 'a total of @ patients with primary knee oa were randomized @:@ ; @ received @ mg/day of prednisolone and @ received placebo for @ weeks .',\n",
       "  'line_number': 1,\n",
       "  'total_lines': 11},\n",
       " {'target': 'METHODS',\n",
       "  'text': 'outcome measures included pain reduction and improvement in function scores and systemic inflammation markers .',\n",
       "  'line_number': 2,\n",
       "  'total_lines': 11},\n",
       " {'target': 'METHODS',\n",
       "  'text': 'pain was assessed using the visual analog pain scale ( @-@ mm ) .',\n",
       "  'line_number': 3,\n",
       "  'total_lines': 11},\n",
       " {'target': 'METHODS',\n",
       "  'text': 'secondary outcome measures included the western ontario and mcmaster universities osteoarthritis index scores , patient global assessment ( pga ) of the severity of knee oa , and @-min walk distance ( @mwd ) .',\n",
       "  'line_number': 4,\n",
       "  'total_lines': 11},\n",
       " {'target': 'METHODS',\n",
       "  'text': 'serum levels of interleukin @ ( il-@ ) , il-@ , tumor necrosis factor ( tnf ) - , and high-sensitivity c-reactive protein ( hscrp ) were measured .',\n",
       "  'line_number': 5,\n",
       "  'total_lines': 11},\n",
       " {'target': 'RESULTS',\n",
       "  'text': 'there was a clinically relevant reduction in the intervention group compared to the placebo group for knee pain , physical function , pga , and @mwd at @ weeks .',\n",
       "  'line_number': 6,\n",
       "  'total_lines': 11},\n",
       " {'target': 'RESULTS',\n",
       "  'text': 'the mean difference between treatment arms ( @ % ci ) was @ ( @-@ @ ) , p < @ ; @ ( @-@ @ ) , p < @ ; @ ( @-@ @ ) , p < @ ; and @ ( @-@ @ ) , p < @ , respectively .',\n",
       "  'line_number': 7,\n",
       "  'total_lines': 11},\n",
       " {'target': 'RESULTS',\n",
       "  'text': 'further , there was a clinically relevant reduction in the serum levels of il-@ , il-@ , tnf - , and hscrp at @ weeks in the intervention group when compared to the placebo group .',\n",
       "  'line_number': 8,\n",
       "  'total_lines': 11},\n",
       " {'target': 'RESULTS',\n",
       "  'text': 'these differences remained significant at @ weeks .',\n",
       "  'line_number': 9,\n",
       "  'total_lines': 11},\n",
       " {'target': 'RESULTS',\n",
       "  'text': 'the outcome measures in rheumatology clinical trials-osteoarthritis research society international responder rate was @ % in the intervention group and @ % in the placebo group ( p < @ ) .',\n",
       "  'line_number': 10,\n",
       "  'total_lines': 11},\n",
       " {'target': 'CONCLUSIONS',\n",
       "  'text': 'low-dose oral prednisolone had both a short-term and a longer sustained effect resulting in less knee pain , better physical function , and attenuation of systemic inflammation in older patients with knee oa ( clinicaltrials.gov identifier nct@ ) .',\n",
       "  'line_number': 11,\n",
       "  'total_lines': 11},\n",
       " {'target': 'BACKGROUND',\n",
       "  'text': 'emotional eating is associated with overeating and the development of obesity .',\n",
       "  'line_number': 0,\n",
       "  'total_lines': 10},\n",
       " {'target': 'BACKGROUND',\n",
       "  'text': 'yet , empirical evidence for individual ( trait ) differences in emotional eating and cognitive mechanisms that contribute to eating during sad mood remain equivocal .',\n",
       "  'line_number': 1,\n",
       "  'total_lines': 10},\n",
       " {'target': 'OBJECTIVE',\n",
       "  'text': 'the aim of this study was to test if attention bias for food moderates the effect of self-reported emotional eating during sad mood ( vs neutral mood ) on actual food intake .',\n",
       "  'line_number': 2,\n",
       "  'total_lines': 10},\n",
       " {'target': 'OBJECTIVE',\n",
       "  'text': 'it was expected that emotional eating is predictive of elevated attention for food and higher food intake after an experimentally induced sad mood and that attentional maintenance on food predicts food intake during a sad versus a neutral mood .',\n",
       "  'line_number': 3,\n",
       "  'total_lines': 10},\n",
       " {'target': 'METHODS',\n",
       "  'text': 'participants ( n = @ ) were randomly assigned to one of the two experimental mood induction conditions ( sad/neutral ) .',\n",
       "  'line_number': 4,\n",
       "  'total_lines': 10},\n",
       " {'target': 'METHODS',\n",
       "  'text': 'attentional biases for high caloric foods were measured by eye tracking during a visual probe task with pictorial food and neutral stimuli .',\n",
       "  'line_number': 5,\n",
       "  'total_lines': 10},\n",
       " {'target': 'METHODS',\n",
       "  'text': 'self-reported emotional eating was assessed with the dutch eating behavior questionnaire ( debq ) and ad libitum food intake was tested by a disguised food offer .',\n",
       "  'line_number': 6,\n",
       "  'total_lines': 10},\n",
       " {'target': 'RESULTS',\n",
       "  'text': 'hierarchical multivariate regression modeling showed that self-reported emotional eating did not account for changes in attention allocation for food or food intake in either condition .',\n",
       "  'line_number': 7,\n",
       "  'total_lines': 10},\n",
       " {'target': 'RESULTS',\n",
       "  'text': 'yet , attention maintenance on food cues was significantly related to increased intake specifically in the neutral condition , but not in the sad mood condition .',\n",
       "  'line_number': 8,\n",
       "  'total_lines': 10},\n",
       " {'target': 'CONCLUSIONS',\n",
       "  'text': 'the current findings show that self-reported emotional eating ( based on the debq ) might not validly predict who overeats when sad , at least not in a laboratory setting with healthy women .',\n",
       "  'line_number': 9,\n",
       "  'total_lines': 10},\n",
       " {'target': 'CONCLUSIONS',\n",
       "  'text': 'results further suggest that attention maintenance on food relates to eating motivation when in a neutral affective state , and might therefore be a cognitive mechanism contributing to increased food intake in general , but maybe not during sad mood .',\n",
       "  'line_number': 10,\n",
       "  'total_lines': 10},\n",
       " {'target': 'BACKGROUND',\n",
       "  'text': 'although working smoke alarms halve deaths in residential fires , many households do not keep alarms operational .',\n",
       "  'line_number': 0,\n",
       "  'total_lines': 14},\n",
       " {'target': 'BACKGROUND',\n",
       "  'text': 'we tested whether theory-based education increases alarm operability .',\n",
       "  'line_number': 1,\n",
       "  'total_lines': 14},\n",
       " {'target': 'METHODS',\n",
       "  'text': 'randomised multiarm trial , with a single arm randomly selected for use each day , in low-income neighbourhoods in maryland , usa .',\n",
       "  'line_number': 2,\n",
       "  'total_lines': 14},\n",
       " {'target': 'METHODS',\n",
       "  'text': \"intervention arms : ( @ ) full education combining a health belief module with a social-cognitive theory module that provided hands-on practice installing alarm batteries and using the alarm 's hush button ; ( @ ) hands-on practice social-cognitive module supplemented by typical fire department education ; ( @ ) current norm receiving typical fire department education only .\",\n",
       "  'line_number': 3,\n",
       "  'total_lines': 14},\n",
       " {'target': 'METHODS',\n",
       "  'text': 'four hundred and thirty-six homes recruited through churches or by knocking on doors in @-@ .',\n",
       "  'line_number': 4,\n",
       "  'total_lines': 14},\n",
       " {'target': 'METHODS',\n",
       "  'text': 'follow-up visits checked alarm operability in @ homes ( @ % ) @-@ @ years after installation .',\n",
       "  'line_number': 5,\n",
       "  'total_lines': 14},\n",
       " {'target': 'METHODS',\n",
       "  'text': 'number of homes with working alarms defined as alarms with working batteries or hard-wired and number of working alarms per home .',\n",
       "  'line_number': 6,\n",
       "  'total_lines': 14},\n",
       " {'target': 'METHODS',\n",
       "  'text': 'regressions controlled for alarm status preintervention ; demographics and beliefs about fire risks and alarm effectiveness .',\n",
       "  'line_number': 7,\n",
       "  'total_lines': 14},\n",
       " {'target': 'RESULTS',\n",
       "  'text': 'homes in the full education and practice arms were more likely to have a functioning smoke alarm at follow-up ( or = @ , @ % ci @ to @ ) and had an average of @ more working alarms per home ( @ % ci @ to @ ) .',\n",
       "  'line_number': 8,\n",
       "  'total_lines': 14},\n",
       " {'target': 'RESULTS',\n",
       "  'text': 'working alarms per home rose @ % .',\n",
       "  'line_number': 9,\n",
       "  'total_lines': 14},\n",
       " {'target': 'RESULTS',\n",
       "  'text': 'full education and practice had similar effectiveness ( p = @ on both outcome measures ) .',\n",
       "  'line_number': 10,\n",
       "  'total_lines': 14},\n",
       " {'target': 'CONCLUSIONS',\n",
       "  'text': 'without exceeding typical fire department installation time , installers can achieve greater smoke alarm operability .',\n",
       "  'line_number': 11,\n",
       "  'total_lines': 14},\n",
       " {'target': 'CONCLUSIONS',\n",
       "  'text': 'hands-on practice is key .',\n",
       "  'line_number': 12,\n",
       "  'total_lines': 14},\n",
       " {'target': 'CONCLUSIONS',\n",
       "  'text': 'two years after installation , for every three homes that received hands-on practice , one had an additional working alarm .',\n",
       "  'line_number': 13,\n",
       "  'total_lines': 14},\n",
       " {'target': 'BACKGROUND',\n",
       "  'text': 'http://www.clinicaltrials.gov number nct@ .',\n",
       "  'line_number': 14,\n",
       "  'total_lines': 14},\n",
       " {'target': 'OBJECTIVE',\n",
       "  'text': 'to evaluate the performance ( efficacy , safety and acceptability ) of a new micro-adherent absorbent dressing ( urgoclean ) compared with a hydrofiber dressing ( aquacel ) in the local management of venous leg ulcers , in the debridement stage .',\n",
       "  'line_number': 0,\n",
       "  'total_lines': 16},\n",
       " {'target': 'METHODS',\n",
       "  'text': 'a non-inferiority european randomised controlled clinical trial ( rct ) was conducted in @ centres , on patients presenting with venous or predominantly venous , mixed aetiology leg ulcers at their sloughy stage ( with more than @ % of the wound bed covered with slough at baseline ) .',\n",
       "  'line_number': 1,\n",
       "  'total_lines': 16},\n",
       " {'target': 'METHODS',\n",
       "  'text': 'patients were followed over a @-week period and assessed weekly .',\n",
       "  'line_number': 2,\n",
       "  'total_lines': 16},\n",
       " {'target': 'METHODS',\n",
       "  'text': 'the primary judgement criteria was the relative regression of the wound surface area after the @-week treatment period .',\n",
       "  'line_number': 3,\n",
       "  'total_lines': 16},\n",
       " {'target': 'METHODS',\n",
       "  'text': 'secondary endpoints were the relative reduction of sloughy tissue and the percentage of patients presenting with a debrided wound .',\n",
       "  'line_number': 4,\n",
       "  'total_lines': 16},\n",
       " {'target': 'RESULTS',\n",
       "  'text': 'altogether , @ patients were randomised to either urgoclean ( test group ; n = @ ) or aquacel ( control group ; n = @ ) dressings .',\n",
       "  'line_number': 5,\n",
       "  'total_lines': 16},\n",
       " {'target': 'RESULTS',\n",
       "  'text': 'regarding the wound healing process predictive factors ( wound area , duration , abpi value , recurrence ) , at baseline , the two groups were well balanced , for both wound and patient characteristics .',\n",
       "  'line_number': 6,\n",
       "  'total_lines': 16},\n",
       " {'target': 'RESULTS',\n",
       "  'text': 'compression therapy was administered to both groups and after a median @-day treatment period , the percentage of relative reduction of the wound surface area was very similar ( -@ % vs -@ % in the urgoclean and control groups , respectively ) .',\n",
       "  'line_number': 7,\n",
       "  'total_lines': 16},\n",
       " {'target': 'RESULTS',\n",
       "  'text': 'when considering the secondary criteria at week @ , the relative reduction of sloughy tissue was significantly higher in the urgoclean group than in the control group ( -@ % vs -@,@ % ; p = @ ) .',\n",
       "  'line_number': 8,\n",
       "  'total_lines': 16},\n",
       " {'target': 'RESULTS',\n",
       "  'text': 'the percentage of debrided wounds was also significantly higher in the test group ( @ % vs @ % ; p = @ ) .',\n",
       "  'line_number': 9,\n",
       "  'total_lines': 16},\n",
       " {'target': 'CONCLUSIONS',\n",
       "  'text': \"this ` earth ' rct confirmed that the urgoclean dressing has similar efficacy and safety compared to aquacel .\",\n",
       "  'line_number': 10,\n",
       "  'total_lines': 16},\n",
       " {'target': 'CONCLUSIONS',\n",
       "  'text': 'however , urgoclean also showed better autolytic properties than the control group in the management of venous leg ulcers at the sloughy stage .',\n",
       "  'line_number': 11,\n",
       "  'total_lines': 16},\n",
       " {'target': 'CONCLUSIONS',\n",
       "  'text': 'the new urgoclean dressing therefore represents a promising therapeutic option within the current range of autolytic dressings available .',\n",
       "  'line_number': 12,\n",
       "  'total_lines': 16},\n",
       " {'target': 'BACKGROUND',\n",
       "  'text': 'this study was sponsored by a grant from the pharmaceutical company laboratoires urgo .',\n",
       "  'line_number': 13,\n",
       "  'total_lines': 16},\n",
       " {'target': 'BACKGROUND',\n",
       "  'text': 's. bohbot and o. tacca are employees of laboratoires urgo .',\n",
       "  'line_number': 14,\n",
       "  'total_lines': 16},\n",
       " {'target': 'BACKGROUND',\n",
       "  'text': 's. meaume , j. dissemond and g. perceau have received monetary compensation as presenters for laboratoires urgo .',\n",
       "  'line_number': 15,\n",
       "  'total_lines': 16},\n",
       " {'target': 'BACKGROUND',\n",
       "  'text': 'data management and statistical analyses were conducted independently by vertical ( paris , france ) .',\n",
       "  'line_number': 16,\n",
       "  'total_lines': 16},\n",
       " {'target': 'OBJECTIVE',\n",
       "  'text': 'eye movements ( em ) during recall of an aversive memory is a treatment element unique to eye movement desensitization and reprocessing ( emdr ) .',\n",
       "  'line_number': 0,\n",
       "  'total_lines': 11},\n",
       " {'target': 'OBJECTIVE',\n",
       "  'text': 'experimental studies have shown that em reduce memory vividness and/or emotionality shortly after the intervention .',\n",
       "  'line_number': 1,\n",
       "  'total_lines': 11},\n",
       " {'target': 'OBJECTIVE',\n",
       "  'text': 'however , it is unclear whether the immediate effects of the intervention reflect actual changes in memory .',\n",
       "  'line_number': 2,\n",
       "  'total_lines': 11},\n",
       " {'target': 'OBJECTIVE',\n",
       "  'text': 'the aim of this study was to test whether immediate reductions in memory vividness and emotionality persist at a @h follow up and whether the magnitude of these effects is related to the duration of the intervention .',\n",
       "  'line_number': 3,\n",
       "  'total_lines': 11},\n",
       " {'target': 'METHODS',\n",
       "  'text': \"seventy-three undergraduates recalled two negative autobiographical memories , one with em ( `` recall with em '' ) and one without ( `` recall only '' ) .\",\n",
       "  'line_number': 4,\n",
       "  'total_lines': 11},\n",
       " {'target': 'METHODS',\n",
       "  'text': 'half of participants recalled each memory for four periods of @s , the other half for eight periods of @s .',\n",
       "  'line_number': 5,\n",
       "  'total_lines': 11},\n",
       " {'target': 'METHODS',\n",
       "  'text': 'memory vividness/emotionality were self-rated at a pre-test , an immediate post-test , and a @h follow-up test .',\n",
       "  'line_number': 6,\n",
       "  'total_lines': 11},\n",
       " {'target': 'RESULTS',\n",
       "  'text': 'in both duration groups , recall with em , but not recall only , caused an immediate decrease in memory vividness .',\n",
       "  'line_number': 7,\n",
       "  'total_lines': 11},\n",
       " {'target': 'RESULTS',\n",
       "  'text': 'there were no immediate reductions in memory emotionality .',\n",
       "  'line_number': 8,\n",
       "  'total_lines': 11},\n",
       " {'target': 'RESULTS',\n",
       "  'text': \"furthermore , only the ` eight periods ' group showed that recall with em , but not recall only , caused a decrease in both memory emotionality and memory vividness from the pre-test to the follow-up .\",\n",
       "  'line_number': 9,\n",
       "  'total_lines': 11},\n",
       " {'target': 'CONCLUSIONS',\n",
       "  'text': 'only self-report measures were used .',\n",
       "  'line_number': 10,\n",
       "  'total_lines': 11},\n",
       " {'target': 'CONCLUSIONS',\n",
       "  'text': 'the findings suggest that recall with em causes @-hchanges in memory vividness/emotionality , which may explain part of the emdr treatment effect , and these effects are related to intervention duration .',\n",
       "  'line_number': 11,\n",
       "  'total_lines': 11},\n",
       " {'target': 'OBJECTIVE',\n",
       "  'text': 'few studies have tested the impact of motivational interviewing ( mi ) delivered by primary care providers on pediatric obesity .',\n",
       "  'line_number': 0,\n",
       "  'total_lines': 12},\n",
       " {'target': 'OBJECTIVE',\n",
       "  'text': 'this study tested the efficacy of mi delivered by providers and registered dietitians ( rds ) to parents of overweight children aged @ through @ .',\n",
       "  'line_number': 1,\n",
       "  'total_lines': 12},\n",
       " {'target': 'METHODS',\n",
       "  'text': 'forty-two practices from the pediatric research in office settings network of the american academy of pediatrics were randomly assigned to @ of @ groups .',\n",
       "  'line_number': 2,\n",
       "  'total_lines': 12},\n",
       " {'target': 'METHODS',\n",
       "  'text': 'group @ ( usual care ) measured bmi percentile at baseline and @ - and @-year follow-up .',\n",
       "  'line_number': 3,\n",
       "  'total_lines': 12},\n",
       " {'target': 'METHODS',\n",
       "  'text': 'group @ ( provider only ) delivered @ mi counseling sessions to parents of the index child over @ years .',\n",
       "  'line_number': 4,\n",
       "  'total_lines': 12},\n",
       " {'target': 'METHODS',\n",
       "  'text': 'group @ ( provider + rd ) delivered @ provider mi sessions plus @ mi sessions from a rd. .',\n",
       "  'line_number': 5,\n",
       "  'total_lines': 12},\n",
       " {'target': 'METHODS',\n",
       "  'text': 'the primary outcome was child bmi percentile at @-year follow up .',\n",
       "  'line_number': 6,\n",
       "  'total_lines': 12},\n",
       " {'target': 'RESULTS',\n",
       "  'text': 'at @-year follow-up , the adjusted bmi percentile was @ , @ , and @ for groups @ , @ , and @ , respectively .',\n",
       "  'line_number': 7,\n",
       "  'total_lines': 12},\n",
       " {'target': 'RESULTS',\n",
       "  'text': 'the group @ mean was significantly ( p = @ ) lower than group @ .',\n",
       "  'line_number': 8,\n",
       "  'total_lines': 12},\n",
       " {'target': 'RESULTS',\n",
       "  'text': 'mean changes from baseline in bmi percentile were @ , @ , and @ across groups @ , @ , and @ .',\n",
       "  'line_number': 9,\n",
       "  'total_lines': 12},\n",
       " {'target': 'CONCLUSIONS',\n",
       "  'text': 'mi delivered by providers and rds ( group @ ) resulted in statistically significant reductions in bmi percentile .',\n",
       "  'line_number': 10,\n",
       "  'total_lines': 12},\n",
       " {'target': 'CONCLUSIONS',\n",
       "  'text': 'research is needed to determine the clinical significance and persistence of the bmi effects observed .',\n",
       "  'line_number': 11,\n",
       "  'total_lines': 12},\n",
       " {'target': 'CONCLUSIONS',\n",
       "  'text': 'how the intervention can be brought to scale ( in particular , how to train physicians to use mi effectively and how best to train rds and integrate them into primary care settings ) also merits future research .',\n",
       "  'line_number': 12,\n",
       "  'total_lines': 12},\n",
       " {'target': 'BACKGROUND',\n",
       "  'text': 'antithrombin ( at ) concentrations are reduced after cardiac surgery with cardiopulmonary bypass compared with the preoperative levels .',\n",
       "  'line_number': 0,\n",
       "  'total_lines': 9},\n",
       " {'target': 'BACKGROUND',\n",
       "  'text': 'low postoperative at is associated with worse short - and mid-term clinical outcomes .',\n",
       "  'line_number': 1,\n",
       "  'total_lines': 9},\n",
       " {'target': 'BACKGROUND',\n",
       "  'text': 'the aim of the study is to evaluate the effects of at administration on activation of the coagulation and fibrinolytic systems , platelet function , and the inflammatory response in patients with low postoperative at levels .',\n",
       "  'line_number': 2,\n",
       "  'total_lines': 9},\n",
       " {'target': 'METHODS',\n",
       "  'text': 'sixty patients with postoperative at levels of less than @ % were randomly assigned to receive purified at ( @ iu in three administrations ) or placebo in the postoperative intensive care unit .',\n",
       "  'line_number': 3,\n",
       "  'total_lines': 9},\n",
       " {'target': 'METHODS',\n",
       "  'text': 'thirty patients with postoperative at levels greater than @ % were observed as controls .',\n",
       "  'line_number': 4,\n",
       "  'total_lines': 9},\n",
       " {'target': 'METHODS',\n",
       "  'text': 'interleukin @ ( a marker of inflammation ) , prothrombin fragment @-@ ( a marker of thrombin generation ) , plasmin-antiplasmin complex ( a marker of fibrinolysis ) , and platelet factor @ ( a marker of platelet activation ) were measured at six different times .',\n",
       "  'line_number': 5,\n",
       "  'total_lines': 9},\n",
       " {'target': 'RESULTS',\n",
       "  'text': 'compared with the no at group and control patients , patients receiving at showed significantly higher at values until @ hours after the last administration .',\n",
       "  'line_number': 6,\n",
       "  'total_lines': 9},\n",
       " {'target': 'RESULTS',\n",
       "  'text': 'analysis of variance for repeated measures showed a significant effect of study treatment in reducing prothrombin fragment @-@ ( p = @ ; interaction with time sample , p = @ ) and plasmin-antiplasmin complex ( p < @ ; interaction with time sample , p < @ ) values but not interleukin @ ( p = @ ; interaction with time sample , p = @ ) and platelet factor @ ( p = @ ; interaction with time sample , p = @ ) .',\n",
       "  'line_number': 7,\n",
       "  'total_lines': 9},\n",
       " {'target': 'RESULTS',\n",
       "  'text': 'no difference in chest tube drainage , reopening for bleeding , and blood transfusion was observed .',\n",
       "  'line_number': 8,\n",
       "  'total_lines': 9},\n",
       " {'target': 'CONCLUSIONS',\n",
       "  'text': 'antithrombin administration in patients with low at activity after surgery with cardiopulmonary bypass reduces postoperative thrombin generation and fibrinolysis with no effects on platelet activation and inflammatory response .',\n",
       "  'line_number': 9,\n",
       "  'total_lines': 9},\n",
       " {'target': 'OBJECTIVE',\n",
       "  'text': 'we evaluated patients at tertiary -lsb- both percutaneous coronary intervention ( pci ) and coronary artery bypass grafting ( cabg ) capable -rsb- and primary hospitals in the early-acs trial .',\n",
       "  'line_number': 0,\n",
       "  'total_lines': 10},\n",
       " {'target': 'BACKGROUND',\n",
       "  'text': 'early invasive management is recommended for high-risk non-st-segment elevation acute coronary syndromes .',\n",
       "  'line_number': 1,\n",
       "  'total_lines': 10},\n",
       " {'target': 'METHODS',\n",
       "  'text': \"we evaluated outcomes in @,@ patients presenting to : tertiary sites , primary sites with transfer to tertiary sites ( `` transferred '' ) and those who remained at primary sites ( `` non-transfer '' ) .\",\n",
       "  'line_number': 2,\n",
       "  'total_lines': 10},\n",
       " {'target': 'RESULTS',\n",
       "  'text': 'there were @ tertiary ( n = @,@ patients ) and @ primary hospitals -lsb- n = @,@ patients ( @ transferred ; @,@ non-transfer ) -rsb- .',\n",
       "  'line_number': 3,\n",
       "  'total_lines': 10},\n",
       " {'target': 'RESULTS',\n",
       "  'text': 'significant delays occurred in time from symptom onset to angiography ( @ hr ) , pci ( @h ) , and cabg ( @ hr ) for transferred patients ( p < @ ) .',\n",
       "  'line_number': 4,\n",
       "  'total_lines': 10},\n",
       " {'target': 'RESULTS',\n",
       "  'text': 'non-transfer patients had less @-day death/myocardial infarction -lsb- @ % vs. @ % ( tertiary ) ; adjusted odds ratio ( or ) : @ ( @-@ @ ) , p = @ -rsb- ; transferred ( @ % ) and tertiary patients were similar -lsb- adjusted or : @ ( @-@ @ ) , p = @ -rsb- .',\n",
       "  'line_number': 5,\n",
       "  'total_lines': 10},\n",
       " {'target': 'RESULTS',\n",
       "  'text': 'non-transfer patients had lower @-year mortality -lsb- @ % vs. @ % ( tertiary ) ; adjusted hazard ratio ( hr ) : @ ( @-@ @ ) , p = @ -rsb- : there was no difference between transferred and tertiary patients -lsb- @ % vs. @ % ; adjusted hr : @ ( @-@ @ ) , p = @ -rsb- .',\n",
       "  'line_number': 6,\n",
       "  'total_lines': 10},\n",
       " {'target': 'RESULTS',\n",
       "  'text': 'despite similar rates of catheterization , gusto severe/moderate bleeding within @ hr was less in non-transfer -lsb- @ % vs. @ % ( tertiary ) ; adjusted or : @ ( @-@ @ ) , p < @ -rsb- , whereas transferred ( @ % ) and tertiary patients were similar -lsb- adjusted or : @ ( @-@ @ ) , p = @ -rsb- .',\n",
       "  'line_number': 7,\n",
       "  'total_lines': 10},\n",
       " {'target': 'RESULTS',\n",
       "  'text': 'there was no difference in non-cabg bleeding .',\n",
       "  'line_number': 8,\n",
       "  'total_lines': 10},\n",
       " {'target': 'CONCLUSIONS',\n",
       "  'text': 'timely angiography and revascularization were often not achieved in transferred patients .',\n",
       "  'line_number': 9,\n",
       "  'total_lines': 10}]"
      ]
     },
     "execution_count": 22,
     "metadata": {},
     "output_type": "execute_result"
    }
   ],
   "source": [
    "# Check the first abstract of our training data\n",
    "train_samples[:100]"
   ]
  },
  {
   "cell_type": "code",
   "execution_count": 23,
   "id": "41a21fe6",
   "metadata": {},
   "outputs": [
    {
     "data": {
      "text/plain": [
       "180040"
      ]
     },
     "execution_count": 23,
     "metadata": {},
     "output_type": "execute_result"
    }
   ],
   "source": [
    "len(train_samples)"
   ]
  },
  {
   "cell_type": "code",
   "execution_count": 24,
   "id": "263ad87e",
   "metadata": {},
   "outputs": [],
   "source": [
    "import pandas as pd\n",
    "train_df = pd.DataFrame(train_samples)\n",
    "val_df = pd.DataFrame(val_samples)\n",
    "test_df = pd.DataFrame(test_samples)"
   ]
  },
  {
   "cell_type": "code",
   "execution_count": 25,
   "id": "60e6e85b",
   "metadata": {},
   "outputs": [
    {
     "data": {
      "text/plain": [
       "METHODS        59353\n",
       "RESULTS        57953\n",
       "CONCLUSIONS    27168\n",
       "BACKGROUND     21727\n",
       "OBJECTIVE      13839\n",
       "Name: target, dtype: int64"
      ]
     },
     "execution_count": 25,
     "metadata": {},
     "output_type": "execute_result"
    }
   ],
   "source": [
    "train_df['target'].value_counts()"
   ]
  },
  {
   "cell_type": "code",
   "execution_count": 26,
   "id": "085b4cdf",
   "metadata": {},
   "outputs": [
    {
     "data": {
      "text/plain": [
       "<AxesSubplot:ylabel='Frequency'>"
      ]
     },
     "execution_count": 26,
     "metadata": {},
     "output_type": "execute_result"
    },
    {
     "data": {
      "image/png": "[encoded data removed]",
      "text/plain": [
       "<Figure size 432x288 with 1 Axes>"
      ]
     },
     "metadata": {
      "needs_background": "light"
     },
     "output_type": "display_data"
    }
   ],
   "source": [
    "train_df.total_lines.plot(kind =\"hist\", bins=20)"
   ]
  },
  {
   "cell_type": "code",
   "execution_count": 27,
   "id": "69460834",
   "metadata": {},
   "outputs": [],
   "source": [
    "train_samples = create_list_of_dic('pubmed-rct/PubMed_20k_RCT_numbers_replaced_with_at_sign/train.txt')\n",
    "val_samples = create_list_of_dic('pubmed-rct/PubMed_20k_RCT_numbers_replaced_with_at_sign/dev.txt')\n",
    "test_samples = create_list_of_dic('pubmed-rct/PubMed_20k_RCT_numbers_replaced_with_at_sign/test.txt')"
   ]
  },
  {
   "cell_type": "code",
   "execution_count": 28,
   "id": "6506b2b4",
   "metadata": {},
   "outputs": [],
   "source": [
    "import tensorflow as tf"
   ]
  },
  {
   "cell_type": "code",
   "execution_count": 29,
   "id": "7f49729b",
   "metadata": {},
   "outputs": [
    {
     "data": {
      "text/plain": [
       "array([[0., 0., 0., 1., 0.],\n",
       "       [0., 0., 1., 0., 0.],\n",
       "       [0., 0., 1., 0., 0.],\n",
       "       ...,\n",
       "       [0., 0., 0., 0., 1.],\n",
       "       [0., 1., 0., 0., 0.],\n",
       "       [0., 1., 0., 0., 0.]])"
      ]
     },
     "execution_count": 29,
     "metadata": {},
     "output_type": "execute_result"
    }
   ],
   "source": [
    "#One hot encode lables\n",
    "from sklearn.preprocessing import OneHotEncoder\n",
    "\n",
    "one_hot_encoder = OneHotEncoder(sparse=False)\n",
    "train_labels_one_hot = one_hot_encoder.fit_transform(train_df[\"target\"].to_numpy().reshape(-1, 1))\n",
    "val_labels_one_hot = one_hot_encoder.fit_transform(tf.expand_dims(val_df[\"target\"].to_numpy(), axis=-1))\n",
    "test_labels_one_hot = one_hot_encoder.fit_transform(test_df[\"target\"].to_numpy().reshape(-1, 1))\n",
    "train_labels_one_hot"
   ]
  },
  {
   "cell_type": "code",
   "execution_count": 30,
   "id": "f1eb0bb5",
   "metadata": {},
   "outputs": [
    {
     "data": {
      "text/plain": [
       "array([3, 2, 2, ..., 4, 1, 1])"
      ]
     },
     "execution_count": 30,
     "metadata": {},
     "output_type": "execute_result"
    }
   ],
   "source": [
    "from sklearn.preprocessing import LabelEncoder\n",
    "\n",
    "label_encoder = LabelEncoder()\n",
    "train_labels_encoded = label_encoder.fit_transform(train_df[\"target\"].to_numpy())\n",
    "val_labels_encoded = label_encoder.transform(val_df[\"target\"].to_numpy())\n",
    "test_labels_encoded = label_encoder.transform(test_df[\"target\"].to_numpy())\n",
    "\n",
    "# Check what training labels look like\n",
    "train_labels_encoded"
   ]
  },
  {
   "cell_type": "code",
   "execution_count": 31,
   "id": "dbb3d5c3",
   "metadata": {},
   "outputs": [
    {
     "data": {
      "text/plain": [
       "array(['BACKGROUND', 'CONCLUSIONS', 'METHODS', 'OBJECTIVE', 'RESULTS'],\n",
       "      dtype=object)"
      ]
     },
     "execution_count": 31,
     "metadata": {},
     "output_type": "execute_result"
    }
   ],
   "source": [
    "class_names = label_encoder.classes_\n",
    "class_names"
   ]
  },
  {
   "cell_type": "code",
   "execution_count": 32,
   "id": "767fe72b",
   "metadata": {},
   "outputs": [
    {
     "data": {
      "text/html": [
       "<div>\n",
       "<style scoped>\n",
       "    .dataframe tbody tr th:only-of-type {\n",
       "        vertical-align: middle;\n",
       "    }\n",
       "\n",
       "    .dataframe tbody tr th {\n",
       "        vertical-align: top;\n",
       "    }\n",
       "\n",
       "    .dataframe thead th {\n",
       "        text-align: right;\n",
       "    }\n",
       "</style>\n",
       "<table border=\"1\" class=\"dataframe\">\n",
       "  <thead>\n",
       "    <tr style=\"text-align: right;\">\n",
       "      <th></th>\n",
       "      <th>target</th>\n",
       "      <th>text</th>\n",
       "      <th>line_number</th>\n",
       "      <th>total_lines</th>\n",
       "    </tr>\n",
       "  </thead>\n",
       "  <tbody>\n",
       "    <tr>\n",
       "      <th>0</th>\n",
       "      <td>OBJECTIVE</td>\n",
       "      <td>to investigate the efficacy of @ weeks of dail...</td>\n",
       "      <td>0</td>\n",
       "      <td>11</td>\n",
       "    </tr>\n",
       "    <tr>\n",
       "      <th>1</th>\n",
       "      <td>METHODS</td>\n",
       "      <td>a total of @ patients with primary knee oa wer...</td>\n",
       "      <td>1</td>\n",
       "      <td>11</td>\n",
       "    </tr>\n",
       "    <tr>\n",
       "      <th>2</th>\n",
       "      <td>METHODS</td>\n",
       "      <td>outcome measures included pain reduction and i...</td>\n",
       "      <td>2</td>\n",
       "      <td>11</td>\n",
       "    </tr>\n",
       "    <tr>\n",
       "      <th>3</th>\n",
       "      <td>METHODS</td>\n",
       "      <td>pain was assessed using the visual analog pain...</td>\n",
       "      <td>3</td>\n",
       "      <td>11</td>\n",
       "    </tr>\n",
       "    <tr>\n",
       "      <th>4</th>\n",
       "      <td>METHODS</td>\n",
       "      <td>secondary outcome measures included the wester...</td>\n",
       "      <td>4</td>\n",
       "      <td>11</td>\n",
       "    </tr>\n",
       "    <tr>\n",
       "      <th>...</th>\n",
       "      <td>...</td>\n",
       "      <td>...</td>\n",
       "      <td>...</td>\n",
       "      <td>...</td>\n",
       "    </tr>\n",
       "    <tr>\n",
       "      <th>180035</th>\n",
       "      <td>RESULTS</td>\n",
       "      <td>for the absolute change in percent atheroma vo...</td>\n",
       "      <td>7</td>\n",
       "      <td>11</td>\n",
       "    </tr>\n",
       "    <tr>\n",
       "      <th>180036</th>\n",
       "      <td>RESULTS</td>\n",
       "      <td>for pav , a significantly greater percentage o...</td>\n",
       "      <td>8</td>\n",
       "      <td>11</td>\n",
       "    </tr>\n",
       "    <tr>\n",
       "      <th>180037</th>\n",
       "      <td>RESULTS</td>\n",
       "      <td>both strategies had acceptable side effect pro...</td>\n",
       "      <td>9</td>\n",
       "      <td>11</td>\n",
       "    </tr>\n",
       "    <tr>\n",
       "      <th>180038</th>\n",
       "      <td>CONCLUSIONS</td>\n",
       "      <td>compared with standard statin monotherapy , th...</td>\n",
       "      <td>10</td>\n",
       "      <td>11</td>\n",
       "    </tr>\n",
       "    <tr>\n",
       "      <th>180039</th>\n",
       "      <td>CONCLUSIONS</td>\n",
       "      <td>( plaque regression with cholesterol absorptio...</td>\n",
       "      <td>11</td>\n",
       "      <td>11</td>\n",
       "    </tr>\n",
       "  </tbody>\n",
       "</table>\n",
       "<p>180040 rows × 4 columns</p>\n",
       "</div>"
      ],
      "text/plain": [
       "             target                                               text  \\\n",
       "0         OBJECTIVE  to investigate the efficacy of @ weeks of dail...   \n",
       "1           METHODS  a total of @ patients with primary knee oa wer...   \n",
       "2           METHODS  outcome measures included pain reduction and i...   \n",
       "3           METHODS  pain was assessed using the visual analog pain...   \n",
       "4           METHODS  secondary outcome measures included the wester...   \n",
       "...             ...                                                ...   \n",
       "180035      RESULTS  for the absolute change in percent atheroma vo...   \n",
       "180036      RESULTS  for pav , a significantly greater percentage o...   \n",
       "180037      RESULTS  both strategies had acceptable side effect pro...   \n",
       "180038  CONCLUSIONS  compared with standard statin monotherapy , th...   \n",
       "180039  CONCLUSIONS  ( plaque regression with cholesterol absorptio...   \n",
       "\n",
       "        line_number  total_lines  \n",
       "0                 0           11  \n",
       "1                 1           11  \n",
       "2                 2           11  \n",
       "3                 3           11  \n",
       "4                 4           11  \n",
       "...             ...          ...  \n",
       "180035            7           11  \n",
       "180036            8           11  \n",
       "180037            9           11  \n",
       "180038           10           11  \n",
       "180039           11           11  \n",
       "\n",
       "[180040 rows x 4 columns]"
      ]
     },
     "execution_count": 32,
     "metadata": {},
     "output_type": "execute_result"
    }
   ],
   "source": [
    "train_df "
   ]
  },
  {
   "cell_type": "code",
   "execution_count": 33,
   "id": "42110f30",
   "metadata": {},
   "outputs": [],
   "source": [
    "from numpy import mean"
   ]
  },
  {
   "cell_type": "code",
   "execution_count": 34,
   "id": "84a074da",
   "metadata": {},
   "outputs": [
    {
     "data": {
      "text/plain": [
       "([48,\n",
       "  26,\n",
       "  14,\n",
       "  13,\n",
       "  34,\n",
       "  28,\n",
       "  29,\n",
       "  54,\n",
       "  35,\n",
       "  7,\n",
       "  31,\n",
       "  38,\n",
       "  11,\n",
       "  25,\n",
       "  32,\n",
       "  39,\n",
       "  21,\n",
       "  22,\n",
       "  26,\n",
       "  25,\n",
       "  26,\n",
       "  33,\n",
       "  40,\n",
       "  17,\n",
       "  8,\n",
       "  22,\n",
       "  58,\n",
       "  15,\n",
       "  17,\n",
       "  21,\n",
       "  16,\n",
       "  50,\n",
       "  7,\n",
       "  16,\n",
       "  15,\n",
       "  4,\n",
       "  20,\n",
       "  3,\n",
       "  41,\n",
       "  49,\n",
       "  10,\n",
       "  18,\n",
       "  19,\n",
       "  28,\n",
       "  35,\n",
       "  43,\n",
       "  38,\n",
       "  24,\n",
       "  18,\n",
       "  23,\n",
       "  18,\n",
       "  13,\n",
       "  10,\n",
       "  17,\n",
       "  15,\n",
       "  25,\n",
       "  15,\n",
       "  17,\n",
       "  37,\n",
       "  27,\n",
       "  20,\n",
       "  17,\n",
       "  21,\n",
       "  8,\n",
       "  36,\n",
       "  5,\n",
       "  31,\n",
       "  20,\n",
       "  25,\n",
       "  24,\n",
       "  17,\n",
       "  20,\n",
       "  19,\n",
       "  11,\n",
       "  25,\n",
       "  15,\n",
       "  22,\n",
       "  18,\n",
       "  15,\n",
       "  38,\n",
       "  18,\n",
       "  13,\n",
       "  36,\n",
       "  33,\n",
       "  14,\n",
       "  46,\n",
       "  25,\n",
       "  86,\n",
       "  16,\n",
       "  28,\n",
       "  30,\n",
       "  12,\n",
       "  36,\n",
       "  27,\n",
       "  34,\n",
       "  59,\n",
       "  63,\n",
       "  65,\n",
       "  7,\n",
       "  11,\n",
       "  16,\n",
       "  39,\n",
       "  42,\n",
       "  36,\n",
       "  46,\n",
       "  5,\n",
       "  39,\n",
       "  63,\n",
       "  19,\n",
       "  31,\n",
       "  52,\n",
       "  15,\n",
       "  29,\n",
       "  53,\n",
       "  50,\n",
       "  18,\n",
       "  27,\n",
       "  31,\n",
       "  35,\n",
       "  39,\n",
       "  12,\n",
       "  24,\n",
       "  29,\n",
       "  22,\n",
       "  16,\n",
       "  14,\n",
       "  19,\n",
       "  49,\n",
       "  11,\n",
       "  15,\n",
       "  26,\n",
       "  23,\n",
       "  9,\n",
       "  23,\n",
       "  4,\n",
       "  13,\n",
       "  18,\n",
       "  31,\n",
       "  12,\n",
       "  20,\n",
       "  22,\n",
       "  9,\n",
       "  10,\n",
       "  16,\n",
       "  11,\n",
       "  20,\n",
       "  20,\n",
       "  14,\n",
       "  16,\n",
       "  20,\n",
       "  17,\n",
       "  39,\n",
       "  32,\n",
       "  20,\n",
       "  40,\n",
       "  20,\n",
       "  12,\n",
       "  28,\n",
       "  27,\n",
       "  12,\n",
       "  43,\n",
       "  19,\n",
       "  30,\n",
       "  7,\n",
       "  28,\n",
       "  12,\n",
       "  115,\n",
       "  26,\n",
       "  25,\n",
       "  31,\n",
       "  33,\n",
       "  16,\n",
       "  22,\n",
       "  19,\n",
       "  28,\n",
       "  10,\n",
       "  6,\n",
       "  16,\n",
       "  30,\n",
       "  42,\n",
       "  35,\n",
       "  16,\n",
       "  30,\n",
       "  16,\n",
       "  41,\n",
       "  17,\n",
       "  38,\n",
       "  28,\n",
       "  29,\n",
       "  23,\n",
       "  80,\n",
       "  18,\n",
       "  18,\n",
       "  32,\n",
       "  21,\n",
       "  10,\n",
       "  54,\n",
       "  10,\n",
       "  13,\n",
       "  27,\n",
       "  41,\n",
       "  33,\n",
       "  43,\n",
       "  14,\n",
       "  21,\n",
       "  43,\n",
       "  33,\n",
       "  28,\n",
       "  13,\n",
       "  53,\n",
       "  32,\n",
       "  79,\n",
       "  37,\n",
       "  14,\n",
       "  18,\n",
       "  29,\n",
       "  50,\n",
       "  19,\n",
       "  56,\n",
       "  12,\n",
       "  33,\n",
       "  33,\n",
       "  28,\n",
       "  21,\n",
       "  14,\n",
       "  22,\n",
       "  31,\n",
       "  10,\n",
       "  11,\n",
       "  16,\n",
       "  14,\n",
       "  3,\n",
       "  6,\n",
       "  37,\n",
       "  13,\n",
       "  9,\n",
       "  5,\n",
       "  25,\n",
       "  14,\n",
       "  59,\n",
       "  21,\n",
       "  11,\n",
       "  26,\n",
       "  15,\n",
       "  10,\n",
       "  22,\n",
       "  7,\n",
       "  16,\n",
       "  6,\n",
       "  26,\n",
       "  26,\n",
       "  34,\n",
       "  33,\n",
       "  7,\n",
       "  21,\n",
       "  26,\n",
       "  37,\n",
       "  22,\n",
       "  20,\n",
       "  15,\n",
       "  3,\n",
       "  1,\n",
       "  36,\n",
       "  19,\n",
       "  24,\n",
       "  35,\n",
       "  18,\n",
       "  25,\n",
       "  30,\n",
       "  27,\n",
       "  19,\n",
       "  20,\n",
       "  14,\n",
       "  9,\n",
       "  1,\n",
       "  42,\n",
       "  17,\n",
       "  48,\n",
       "  23,\n",
       "  18,\n",
       "  35,\n",
       "  23,\n",
       "  27,\n",
       "  36,\n",
       "  25,\n",
       "  16,\n",
       "  24,\n",
       "  56,\n",
       "  19,\n",
       "  8,\n",
       "  15,\n",
       "  9,\n",
       "  10,\n",
       "  86,\n",
       "  40,\n",
       "  44,\n",
       "  43,\n",
       "  14,\n",
       "  10,\n",
       "  16,\n",
       "  10,\n",
       "  4,\n",
       "  5,\n",
       "  30,\n",
       "  30,\n",
       "  19,\n",
       "  15,\n",
       "  12,\n",
       "  23,\n",
       "  36,\n",
       "  13,\n",
       "  27,\n",
       "  16,\n",
       "  18,\n",
       "  26,\n",
       "  16,\n",
       "  24,\n",
       "  14,\n",
       "  15,\n",
       "  20,\n",
       "  24,\n",
       "  22,\n",
       "  22,\n",
       "  6,\n",
       "  15,\n",
       "  20,\n",
       "  12,\n",
       "  32,\n",
       "  33,\n",
       "  10,\n",
       "  45,\n",
       "  51,\n",
       "  23,\n",
       "  7,\n",
       "  15,\n",
       "  21,\n",
       "  19,\n",
       "  12,\n",
       "  24,\n",
       "  29,\n",
       "  12,\n",
       "  8,\n",
       "  15,\n",
       "  21,\n",
       "  38,\n",
       "  14,\n",
       "  14,\n",
       "  23,\n",
       "  24,\n",
       "  19,\n",
       "  34,\n",
       "  25,\n",
       "  23,\n",
       "  26,\n",
       "  28,\n",
       "  29,\n",
       "  9,\n",
       "  22,\n",
       "  21,\n",
       "  34,\n",
       "  59,\n",
       "  33,\n",
       "  14,\n",
       "  10,\n",
       "  29,\n",
       "  49,\n",
       "  17,\n",
       "  72,\n",
       "  7,\n",
       "  12,\n",
       "  24,\n",
       "  13,\n",
       "  13,\n",
       "  6,\n",
       "  45,\n",
       "  12,\n",
       "  19,\n",
       "  21,\n",
       "  29,\n",
       "  20,\n",
       "  21,\n",
       "  16,\n",
       "  29,\n",
       "  9,\n",
       "  16,\n",
       "  44,\n",
       "  19,\n",
       "  13,\n",
       "  8,\n",
       "  22,\n",
       "  13,\n",
       "  11,\n",
       "  25,\n",
       "  13,\n",
       "  26,\n",
       "  14,\n",
       "  32,\n",
       "  15,\n",
       "  11,\n",
       "  14,\n",
       "  21,\n",
       "  14,\n",
       "  29,\n",
       "  35,\n",
       "  29,\n",
       "  18,\n",
       "  29,\n",
       "  20,\n",
       "  36,\n",
       "  22,\n",
       "  28,\n",
       "  16,\n",
       "  59,\n",
       "  14,\n",
       "  22,\n",
       "  44,\n",
       "  28,\n",
       "  19,\n",
       "  21,\n",
       "  6,\n",
       "  16,\n",
       "  17,\n",
       "  18,\n",
       "  18,\n",
       "  11,\n",
       "  17,\n",
       "  14,\n",
       "  28,\n",
       "  21,\n",
       "  20,\n",
       "  17,\n",
       "  10,\n",
       "  13,\n",
       "  74,\n",
       "  37,\n",
       "  42,\n",
       "  24,\n",
       "  9,\n",
       "  11,\n",
       "  24,\n",
       "  11,\n",
       "  22,\n",
       "  35,\n",
       "  58,\n",
       "  6,\n",
       "  119,\n",
       "  16,\n",
       "  42,\n",
       "  8,\n",
       "  36,\n",
       "  41,\n",
       "  14,\n",
       "  16,\n",
       "  25,\n",
       "  34,\n",
       "  16,\n",
       "  29,\n",
       "  18,\n",
       "  22,\n",
       "  43,\n",
       "  11,\n",
       "  24,\n",
       "  10,\n",
       "  24,\n",
       "  37,\n",
       "  25,\n",
       "  55,\n",
       "  41,\n",
       "  24,\n",
       "  37,\n",
       "  21,\n",
       "  18,\n",
       "  10,\n",
       "  10,\n",
       "  26,\n",
       "  33,\n",
       "  19,\n",
       "  23,\n",
       "  9,\n",
       "  29,\n",
       "  26,\n",
       "  29,\n",
       "  3,\n",
       "  1,\n",
       "  3,\n",
       "  20,\n",
       "  32,\n",
       "  32,\n",
       "  11,\n",
       "  34,\n",
       "  21,\n",
       "  7,\n",
       "  17,\n",
       "  9,\n",
       "  9,\n",
       "  5,\n",
       "  14,\n",
       "  77,\n",
       "  14,\n",
       "  31,\n",
       "  26,\n",
       "  5,\n",
       "  26,\n",
       "  44,\n",
       "  15,\n",
       "  32,\n",
       "  45,\n",
       "  17,\n",
       "  16,\n",
       "  13,\n",
       "  26,\n",
       "  22,\n",
       "  12,\n",
       "  21,\n",
       "  20,\n",
       "  10,\n",
       "  19,\n",
       "  26,\n",
       "  25,\n",
       "  42,\n",
       "  16,\n",
       "  10,\n",
       "  14,\n",
       "  29,\n",
       "  16,\n",
       "  31,\n",
       "  86,\n",
       "  17,\n",
       "  19,\n",
       "  22,\n",
       "  24,\n",
       "  11,\n",
       "  21,\n",
       "  21,\n",
       "  27,\n",
       "  51,\n",
       "  28,\n",
       "  22,\n",
       "  29,\n",
       "  66,\n",
       "  46,\n",
       "  24,\n",
       "  18,\n",
       "  31,\n",
       "  34,\n",
       "  34,\n",
       "  25,\n",
       "  26,\n",
       "  26,\n",
       "  18,\n",
       "  12,\n",
       "  26,\n",
       "  26,\n",
       "  25,\n",
       "  32,\n",
       "  21,\n",
       "  39,\n",
       "  24,\n",
       "  16,\n",
       "  8,\n",
       "  7,\n",
       "  37,\n",
       "  48,\n",
       "  29,\n",
       "  58,\n",
       "  53,\n",
       "  23,\n",
       "  25,\n",
       "  12,\n",
       "  21,\n",
       "  22,\n",
       "  52,\n",
       "  13,\n",
       "  77,\n",
       "  33,\n",
       "  39,\n",
       "  51,\n",
       "  25,\n",
       "  42,\n",
       "  15,\n",
       "  18,\n",
       "  26,\n",
       "  13,\n",
       "  20,\n",
       "  29,\n",
       "  7,\n",
       "  39,\n",
       "  18,\n",
       "  12,\n",
       "  18,\n",
       "  33,\n",
       "  7,\n",
       "  22,\n",
       "  31,\n",
       "  8,\n",
       "  36,\n",
       "  14,\n",
       "  84,\n",
       "  35,\n",
       "  44,\n",
       "  61,\n",
       "  110,\n",
       "  110,\n",
       "  64,\n",
       "  24,\n",
       "  21,\n",
       "  31,\n",
       "  13,\n",
       "  50,\n",
       "  46,\n",
       "  16,\n",
       "  41,\n",
       "  15,\n",
       "  9,\n",
       "  18,\n",
       "  32,\n",
       "  19,\n",
       "  23,\n",
       "  23,\n",
       "  27,\n",
       "  41,\n",
       "  22,\n",
       "  22,\n",
       "  19,\n",
       "  19,\n",
       "  20,\n",
       "  15,\n",
       "  34,\n",
       "  9,\n",
       "  29,\n",
       "  10,\n",
       "  13,\n",
       "  16,\n",
       "  35,\n",
       "  25,\n",
       "  29,\n",
       "  31,\n",
       "  5,\n",
       "  12,\n",
       "  25,\n",
       "  47,\n",
       "  41,\n",
       "  22,\n",
       "  31,\n",
       "  24,\n",
       "  13,\n",
       "  33,\n",
       "  41,\n",
       "  13,\n",
       "  19,\n",
       "  34,\n",
       "  24,\n",
       "  5,\n",
       "  21,\n",
       "  25,\n",
       "  54,\n",
       "  27,\n",
       "  15,\n",
       "  29,\n",
       "  44,\n",
       "  11,\n",
       "  69,\n",
       "  20,\n",
       "  22,\n",
       "  4,\n",
       "  23,\n",
       "  52,\n",
       "  15,\n",
       "  13,\n",
       "  58,\n",
       "  36,\n",
       "  24,\n",
       "  28,\n",
       "  15,\n",
       "  6,\n",
       "  22,\n",
       "  17,\n",
       "  18,\n",
       "  19,\n",
       "  22,\n",
       "  41,\n",
       "  32,\n",
       "  33,\n",
       "  20,\n",
       "  23,\n",
       "  17,\n",
       "  13,\n",
       "  26,\n",
       "  56,\n",
       "  11,\n",
       "  53,\n",
       "  38,\n",
       "  37,\n",
       "  50,\n",
       "  35,\n",
       "  22,\n",
       "  30,\n",
       "  62,\n",
       "  12,\n",
       "  22,\n",
       "  21,\n",
       "  18,\n",
       "  10,\n",
       "  17,\n",
       "  20,\n",
       "  29,\n",
       "  13,\n",
       "  12,\n",
       "  11,\n",
       "  17,\n",
       "  8,\n",
       "  16,\n",
       "  26,\n",
       "  15,\n",
       "  37,\n",
       "  9,\n",
       "  12,\n",
       "  16,\n",
       "  13,\n",
       "  12,\n",
       "  24,\n",
       "  9,\n",
       "  19,\n",
       "  23,\n",
       "  31,\n",
       "  27,\n",
       "  61,\n",
       "  34,\n",
       "  41,\n",
       "  19,\n",
       "  15,\n",
       "  11,\n",
       "  27,\n",
       "  22,\n",
       "  18,\n",
       "  20,\n",
       "  33,\n",
       "  25,\n",
       "  13,\n",
       "  11,\n",
       "  8,\n",
       "  17,\n",
       "  18,\n",
       "  20,\n",
       "  44,\n",
       "  15,\n",
       "  23,\n",
       "  69,\n",
       "  31,\n",
       "  32,\n",
       "  28,\n",
       "  27,\n",
       "  31,\n",
       "  23,\n",
       "  25,\n",
       "  36,\n",
       "  29,\n",
       "  15,\n",
       "  19,\n",
       "  14,\n",
       "  28,\n",
       "  9,\n",
       "  34,\n",
       "  14,\n",
       "  15,\n",
       "  24,\n",
       "  37,\n",
       "  19,\n",
       "  29,\n",
       "  21,\n",
       "  43,\n",
       "  63,\n",
       "  39,\n",
       "  86,\n",
       "  6,\n",
       "  26,\n",
       "  10,\n",
       "  15,\n",
       "  29,\n",
       "  19,\n",
       "  17,\n",
       "  42,\n",
       "  12,\n",
       "  58,\n",
       "  37,\n",
       "  28,\n",
       "  33,\n",
       "  32,\n",
       "  3,\n",
       "  27,\n",
       "  20,\n",
       "  2,\n",
       "  17,\n",
       "  28,\n",
       "  22,\n",
       "  27,\n",
       "  17,\n",
       "  17,\n",
       "  13,\n",
       "  19,\n",
       "  29,\n",
       "  6,\n",
       "  13,\n",
       "  2,\n",
       "  38,\n",
       "  19,\n",
       "  20,\n",
       "  34,\n",
       "  9,\n",
       "  21,\n",
       "  20,\n",
       "  18,\n",
       "  35,\n",
       "  38,\n",
       "  1,\n",
       "  21,\n",
       "  23,\n",
       "  25,\n",
       "  10,\n",
       "  7,\n",
       "  52,\n",
       "  40,\n",
       "  33,\n",
       "  26,\n",
       "  37,\n",
       "  31,\n",
       "  43,\n",
       "  31,\n",
       "  33,\n",
       "  47,\n",
       "  35,\n",
       "  35,\n",
       "  36,\n",
       "  11,\n",
       "  21,\n",
       "  21,\n",
       "  12,\n",
       "  15,\n",
       "  11,\n",
       "  13,\n",
       "  11,\n",
       "  25,\n",
       "  21,\n",
       "  29,\n",
       "  23,\n",
       "  23,\n",
       "  29,\n",
       "  45,\n",
       "  26,\n",
       "  26,\n",
       "  26,\n",
       "  27,\n",
       "  36,\n",
       "  33,\n",
       "  13,\n",
       "  20,\n",
       "  38,\n",
       "  15,\n",
       "  25,\n",
       "  20,\n",
       "  7,\n",
       "  23,\n",
       "  25,\n",
       "  7,\n",
       "  80,\n",
       "  35,\n",
       "  11,\n",
       "  18,\n",
       "  20,\n",
       "  18,\n",
       "  42,\n",
       "  18,\n",
       "  13,\n",
       "  34,\n",
       "  20,\n",
       "  20,\n",
       "  41,\n",
       "  37,\n",
       "  33,\n",
       "  26,\n",
       "  20,\n",
       "  31,\n",
       "  24,\n",
       "  27,\n",
       "  22,\n",
       "  30,\n",
       "  47,\n",
       "  83,\n",
       "  18,\n",
       "  21,\n",
       "  21,\n",
       "  32,\n",
       "  23,\n",
       "  29,\n",
       "  14,\n",
       "  23,\n",
       "  26,\n",
       "  10,\n",
       "  18,\n",
       "  17,\n",
       "  20,\n",
       "  54,\n",
       "  49,\n",
       "  31,\n",
       "  39,\n",
       "  39,\n",
       "  16,\n",
       "  16,\n",
       "  19,\n",
       "  49,\n",
       "  5,\n",
       "  11,\n",
       "  25,\n",
       "  19,\n",
       "  16,\n",
       "  7,\n",
       "  10,\n",
       "  13,\n",
       "  38,\n",
       "  46,\n",
       "  33,\n",
       "  31,\n",
       "  21,\n",
       "  40,\n",
       "  76,\n",
       "  26,\n",
       "  25,\n",
       "  7,\n",
       "  9,\n",
       "  33,\n",
       "  27,\n",
       "  26,\n",
       "  29,\n",
       "  31,\n",
       "  31,\n",
       "  64,\n",
       "  24,\n",
       "  17,\n",
       "  13,\n",
       "  36,\n",
       "  8,\n",
       "  75,\n",
       "  11,\n",
       "  21,\n",
       "  34,\n",
       "  22,\n",
       "  7,\n",
       "  18,\n",
       "  18,\n",
       "  16,\n",
       "  10,\n",
       "  32,\n",
       "  7,\n",
       "  10,\n",
       "  14,\n",
       "  23,\n",
       "  26,\n",
       "  5,\n",
       "  15,\n",
       "  58,\n",
       "  33,\n",
       "  23,\n",
       "  9,\n",
       "  36,\n",
       "  50,\n",
       "  10,\n",
       "  11,\n",
       "  21,\n",
       "  18,\n",
       "  14,\n",
       "  18,\n",
       "  22,\n",
       "  12,\n",
       "  24,\n",
       "  8,\n",
       "  28,\n",
       "  15,\n",
       "  6,\n",
       "  28,\n",
       "  23,\n",
       "  24,\n",
       "  21,\n",
       "  19,\n",
       "  13,\n",
       "  32,\n",
       "  10,\n",
       "  10,\n",
       "  20,\n",
       "  17,\n",
       "  49,\n",
       "  34,\n",
       "  21,\n",
       "  33,\n",
       "  62,\n",
       "  22,\n",
       "  52,\n",
       "  18,\n",
       "  11,\n",
       "  14,\n",
       "  16,\n",
       "  ...],\n",
       " 25.338269273494777)"
      ]
     },
     "execution_count": 34,
     "metadata": {},
     "output_type": "execute_result"
    }
   ],
   "source": [
    "list_of_num = []\n",
    "for index in train_df.index:\n",
    "    list_of_num.append(train_df['text'][index].count(' '))\n",
    "    \n",
    "avg = mean(list_of_num)\n",
    "list_of_num, avg\n"
   ]
  },
  {
   "cell_type": "code",
   "execution_count": 35,
   "id": "4f721d11",
   "metadata": {},
   "outputs": [
    {
     "data": {
      "text/plain": [
       "<AxesSubplot:ylabel='Frequency'>"
      ]
     },
     "execution_count": 35,
     "metadata": {},
     "output_type": "execute_result"
    },
    {
     "data": {
      "image/png": "[encoded data removed]",
      "text/plain": [
       "<Figure size 720x576 with 1 Axes>"
      ]
     },
     "metadata": {
      "needs_background": "light"
     },
     "output_type": "display_data"
    }
   ],
   "source": [
    "df_hist = pd.DataFrame(list_of_num)\n",
    "df_hist.plot.hist(bins=200, alpha=0.7, figsize=(10, 8))"
   ]
  },
  {
   "cell_type": "code",
   "execution_count": 36,
   "id": "ae344138",
   "metadata": {},
   "outputs": [],
   "source": [
    "import tensorflow as tf\n",
    "from tensorflow.keras.layers.experimental.preprocessing import TextVectorization\n",
    "# Setup text vectorization with custom variables\n",
    "max_vocab_length = 86000 # max number of words to have in our vocabulary\n",
    "max_length = 60 # max length our sequences will be (e.g. how many words from a Tweet does our model see?)\n",
    "\n",
    "text_vectorizer = TextVectorization(max_tokens=max_vocab_length,\n",
    "                                    output_mode=\"int\",\n",
    "                                    output_sequence_length=max_length)"
   ]
  },
  {
   "cell_type": "code",
   "execution_count": 37,
   "id": "6766896b",
   "metadata": {},
   "outputs": [],
   "source": [
    "text_vectorizer.adapt(train_df['text'])"
   ]
  },
  {
   "cell_type": "code",
   "execution_count": 38,
   "id": "ee8b7b25",
   "metadata": {},
   "outputs": [
    {
     "data": {
      "text/plain": [
       "<tf.Tensor: shape=(60,), dtype=int64, numpy=\n",
       "array([  299,    20,   784,  2628,    18,   457, 39644,     5,    71,\n",
       "           4,  1046,   265,     0,     0,     0,     0,     0,     0,\n",
       "           0,     0,     0,     0,     0,     0,     0,     0,     0,\n",
       "           0,     0,     0,     0,     0,     0,     0,     0,     0,\n",
       "           0,     0,     0,     0,     0,     0,     0,     0,     0,\n",
       "           0,     0,     0,     0,     0,     0,     0,     0,     0,\n",
       "           0,     0,     0,     0,     0,     0], dtype=int64)>"
      ]
     },
     "execution_count": 38,
     "metadata": {},
     "output_type": "execute_result"
    }
   ],
   "source": [
    "text_vectorizer(train_df['text'][10000])"
   ]
  },
  {
   "cell_type": "code",
   "execution_count": 39,
   "id": "0e32da52",
   "metadata": {},
   "outputs": [
    {
     "name": "stdout",
     "output_type": "stream",
     "text": [
      "Number of words in vocab: 64841\n",
      "Top 5 most common words: ['', '[UNK]', 'the', 'and', 'of']\n",
      "Bottom 5 least common words: ['aainduced', 'aaigroup', 'aachener', 'aachen', 'aaacp']\n"
     ]
    }
   ],
   "source": [
    "# Get the unique words in the vocabulary\n",
    "words_in_vocab = text_vectorizer.get_vocabulary()\n",
    "top_5_words = words_in_vocab[:5] # most common tokens (notice the [UNK] token for \"unknown\" words)\n",
    "bottom_5_words = words_in_vocab[-5:] # least common tokens\n",
    "print(f\"Number of words in vocab: {len(words_in_vocab)}\")\n",
    "print(f\"Top 5 most common words: {top_5_words}\") \n",
    "print(f\"Bottom 5 least common words: {bottom_5_words}\")"
   ]
  },
  {
   "cell_type": "code",
   "execution_count": 40,
   "id": "31af4792",
   "metadata": {},
   "outputs": [],
   "source": [
    "tf.random.set_seed(42)\n",
    "from tensorflow.keras import layers\n",
    "\n",
    "embedding = layers.Embedding(input_dim=max_vocab_length, # set input shape\n",
    "                             output_dim=128, # set size of embedding vector\n",
    "                             embeddings_initializer=\"uniform\", # default, intialize randomly\n",
    "                             mask_zero=True,\n",
    "                             input_length=max_length, # how long is each input\n",
    "                             name=\"embedding_1\") "
   ]
  },
  {
   "cell_type": "code",
   "execution_count": 41,
   "id": "cfc4cfe7",
   "metadata": {},
   "outputs": [],
   "source": [
    "sample_embed = embedding(text_vectorizer(train_df['text'][1]))\n"
   ]
  },
  {
   "cell_type": "code",
   "execution_count": 42,
   "id": "670d293b",
   "metadata": {},
   "outputs": [
    {
     "data": {
      "text/plain": [
       "TensorShape([60, 128])"
      ]
     },
     "execution_count": 42,
     "metadata": {},
     "output_type": "execute_result"
    }
   ],
   "source": [
    "sample_embed.shape"
   ]
  },
  {
   "cell_type": "code",
   "execution_count": 43,
   "id": "539ea5c3",
   "metadata": {},
   "outputs": [],
   "source": [
    "import tensorflow as tf\n",
    "from tensorflow.keras import layers"
   ]
  },
  {
   "cell_type": "code",
   "execution_count": 44,
   "id": "6fd9efc8",
   "metadata": {},
   "outputs": [
    {
     "name": "stdout",
     "output_type": "stream",
     "text": [
      "Model: \"model_1_conv\"\n",
      "_________________________________________________________________\n",
      " Layer (type)                Output Shape              Param #   \n",
      "=================================================================\n",
      " input_1 (InputLayer)        [(None, 1)]               0         \n",
      "                                                                 \n",
      " text_vectorization (TextVec  (None, 60)               0         \n",
      " torization)                                                     \n",
      "                                                                 \n",
      " embedding_1 (Embedding)     (None, 60, 128)           11008000  \n",
      "                                                                 \n",
      " conv1d (Conv1D)             (None, 58, 32)            12320     \n",
      "                                                                 \n",
      " global_average_pooling1d (G  (None, 32)               0         \n",
      " lobalAveragePooling1D)                                          \n",
      "                                                                 \n",
      " dense (Dense)               (None, 5)                 165       \n",
      "                                                                 \n",
      "=================================================================\n",
      "Total params: 11,020,485\n",
      "Trainable params: 11,020,485\n",
      "Non-trainable params: 0\n",
      "_________________________________________________________________\n"
     ]
    }
   ],
   "source": [
    "tf.random.set_seed(42)\n",
    "\n",
    "inputs = layers.Input(shape=(1,), dtype='string')\n",
    "x = text_vectorizer(inputs)\n",
    "x = embedding(x)\n",
    "x = layers.Conv1D(filters=32, kernel_size=3, activation='relu')(x)\n",
    "x = layers.GlobalAveragePooling1D()(x)\n",
    "outputs = layers.Dense(5, activation='softmax')(x)\n",
    "model_1 = tf.keras.Model(inputs, outputs, name='model_1_conv')\n",
    "\n",
    "model_1.compile(loss=tf.keras.losses.CategoricalCrossentropy(),\n",
    "               optimizer=tf.keras.optimizers.Adam(),\n",
    "               metrics=[\"accuracy\"])\n",
    "\n",
    "# Get a summary of our 1D convolution model\n",
    "model_1.summary()"
   ]
  },
  {
   "cell_type": "code",
   "execution_count": 45,
   "id": "1c72b8e5",
   "metadata": {},
   "outputs": [],
   "source": [
    "# # Fit the model\n",
    "# model_1_history = model_1.fit(train_df['text'],\n",
    "#                               train_labels_one_hot,\n",
    "#                               epochs=5,\n",
    "#                               validation_data=(val_df['text'], val_labels_one_hot))"
   ]
  },
  {
   "cell_type": "code",
   "execution_count": 46,
   "id": "aa28f6e9",
   "metadata": {},
   "outputs": [
    {
     "name": "stdout",
     "output_type": "stream",
     "text": [
      "942/942 [==============================] - 8s 4ms/step - loss: 1.6048 - accuracy: 0.3223\n"
     ]
    },
    {
     "data": {
      "text/plain": [
       "[1.604778528213501, 0.3223162293434143]"
      ]
     },
     "execution_count": 46,
     "metadata": {},
     "output_type": "execute_result"
    }
   ],
   "source": [
    "model_1.evaluate(test_df['text'], test_labels_one_hot)"
   ]
  },
  {
   "cell_type": "code",
   "execution_count": 47,
   "id": "536669aa",
   "metadata": {},
   "outputs": [],
   "source": [
    "train_sentences = train_df[\"text\"].tolist()\n",
    "val_sentences = val_df[\"text\"].tolist()\n",
    "test_sentences = test_df[\"text\"].tolist()"
   ]
  },
  {
   "cell_type": "code",
   "execution_count": 48,
   "id": "18a97aee",
   "metadata": {},
   "outputs": [
    {
     "data": {
      "text/plain": [
       "<TensorSliceDataset element_spec=(TensorSpec(shape=(), dtype=tf.string, name=None), TensorSpec(shape=(5,), dtype=tf.float64, name=None))>"
      ]
     },
     "execution_count": 48,
     "metadata": {},
     "output_type": "execute_result"
    }
   ],
   "source": [
    "# Turn our data into TensorFlow Datasets\n",
    "train_dataset = tf.data.Dataset.from_tensor_slices((train_sentences, train_labels_one_hot))\n",
    "valid_dataset = tf.data.Dataset.from_tensor_slices((val_sentences, val_labels_one_hot))\n",
    "test_dataset = tf.data.Dataset.from_tensor_slices((test_sentences, test_labels_one_hot))\n",
    "\n",
    "train_dataset\n",
    "train_dataset"
   ]
  },
  {
   "cell_type": "code",
   "execution_count": 49,
   "id": "6d452feb",
   "metadata": {},
   "outputs": [
    {
     "data": {
      "text/plain": [
       "<PrefetchDataset element_spec=(TensorSpec(shape=(None,), dtype=tf.string, name=None), TensorSpec(shape=(None, 5), dtype=tf.float64, name=None))>"
      ]
     },
     "execution_count": 49,
     "metadata": {},
     "output_type": "execute_result"
    }
   ],
   "source": [
    "# Take the TensorSliceDataset's and turn them into prefetched batches\n",
    "train_dataset = train_dataset.batch(32).prefetch(tf.data.AUTOTUNE)\n",
    "valid_dataset = valid_dataset.batch(32).prefetch(tf.data.AUTOTUNE)\n",
    "test_dataset = test_dataset.batch(32).prefetch(tf.data.AUTOTUNE)\n",
    "\n",
    "train_dataset"
   ]
  },
  {
   "cell_type": "code",
   "execution_count": 50,
   "id": "3aedfb4e",
   "metadata": {},
   "outputs": [],
   "source": [
    "# tf.random.set_seed(42)\n",
    "\n",
    "# inputs = layers.Input(shape=(1,), dtype='string')\n",
    "# x = text_vectorizer(inputs)\n",
    "# x = embedding(x)\n",
    "# x = layers.Conv1D(filters=32, kernel_size=3, activation='relu')(x)\n",
    "# x = layers.GlobalAveragePooling1D()(x)\n",
    "# outputs = layers.Dense(5, activation='softmax')(x)\n",
    "# model_2 = tf.keras.Model(inputs, outputs, name='model_1_conv')\n",
    "\n",
    "# model_2.compile(loss=tf.keras.losses.CategoricalCrossentropy(),\n",
    "#                optimizer=tf.keras.optimizers.Adam(),\n",
    "#                metrics=[\"accuracy\"])\n",
    "\n",
    "# # Fit the model\n",
    "# model_2_history = model_2.fit(train_dataset,\n",
    "#                               steps_per_epoch=int(0.1*len(train_dataset)),\n",
    "#                               epochs=5,\n",
    "#                               validation_data=valid_dataset)"
   ]
  },
  {
   "cell_type": "code",
   "execution_count": 51,
   "id": "61c5d88d",
   "metadata": {},
   "outputs": [
    {
     "data": {
      "text/plain": [
       "array([[0.19334473, 0.19870192, 0.19672765, 0.20254436, 0.20868137],\n",
       "       [0.19361617, 0.19733591, 0.19706133, 0.20278572, 0.20920086],\n",
       "       [0.19340661, 0.19871937, 0.19709343, 0.20236956, 0.20841102],\n",
       "       ...,\n",
       "       [0.1927978 , 0.19869478, 0.1978578 , 0.20150682, 0.20914282],\n",
       "       [0.19374157, 0.19805434, 0.19790393, 0.20221913, 0.20808102],\n",
       "       [0.19333579, 0.19709454, 0.19701387, 0.20325445, 0.20930135]],\n",
       "      dtype=float32)"
      ]
     },
     "execution_count": 51,
     "metadata": {},
     "output_type": "execute_result"
    }
   ],
   "source": [
    "# Make predictions (our model outputs prediction probabilities for each class)\n",
    "model_1_pred_probs = model_1.predict(valid_dataset)\n",
    "model_1_pred_probs"
   ]
  },
  {
   "cell_type": "code",
   "execution_count": 52,
   "id": "5c20589e",
   "metadata": {},
   "outputs": [
    {
     "data": {
      "text/plain": [
       "<tf.Tensor: shape=(30212,), dtype=int64, numpy=array([4, 4, 4, ..., 4, 4, 4], dtype=int64)>"
      ]
     },
     "execution_count": 52,
     "metadata": {},
     "output_type": "execute_result"
    }
   ],
   "source": [
    "# Convert pred probs to classes\n",
    "model_1_preds = tf.argmax(model_1_pred_probs, axis=1)\n",
    "model_1_preds"
   ]
  },
  {
   "cell_type": "code",
   "execution_count": 53,
   "id": "e488c6de",
   "metadata": {},
   "outputs": [],
   "source": [
    "# Download pretrained TensorFlow Hub USE\n",
    "import tensorflow_hub as hub"
   ]
  },
  {
   "cell_type": "code",
   "execution_count": 54,
   "id": "bebe2521",
   "metadata": {},
   "outputs": [],
   "source": [
    "tf_hub_embedding_layer = hub.KerasLayer(\"https://tfhub.dev/google/universal-sentence-encoder/4\",\n",
    "                                        trainable=False, \n",
    "                                        name=\"universal_sentence_encoder\")"
   ]
  },
  {
   "cell_type": "code",
   "execution_count": 96,
   "id": "b0ab0446",
   "metadata": {},
   "outputs": [
    {
     "name": "stdout",
     "output_type": "stream",
     "text": [
      "Epoch 1/5\n",
      "562/562 [==============================] - 11s 19ms/step - loss: 0.9150 - accuracy: 0.6528 - val_loss: 0.7966 - val_accuracy: 0.6902\n",
      "Epoch 2/5\n",
      "562/562 [==============================] - 11s 19ms/step - loss: 0.7695 - accuracy: 0.7000 - val_loss: 0.7567 - val_accuracy: 0.6995\n",
      "Epoch 3/5\n",
      "562/562 [==============================] - 11s 20ms/step - loss: 0.7527 - accuracy: 0.7124 - val_loss: 0.7384 - val_accuracy: 0.7141\n",
      "Epoch 4/5\n",
      "562/562 [==============================] - 11s 20ms/step - loss: 0.7180 - accuracy: 0.7245 - val_loss: 0.7102 - val_accuracy: 0.7254\n",
      "Epoch 5/5\n",
      "562/562 [==============================] - 11s 20ms/step - loss: 0.7252 - accuracy: 0.7229 - val_loss: 0.6891 - val_accuracy: 0.7354\n"
     ]
    },
    {
     "data": {
      "text/plain": [
       "<keras.callbacks.History at 0x27c7e2a1ee0>"
      ]
     },
     "execution_count": 96,
     "metadata": {},
     "output_type": "execute_result"
    }
   ],
   "source": [
    "inputs = layers.Input(shape=[], dtype=tf.string)\n",
    "pretrained_embeding = tf_hub_embedding_layer(inputs)\n",
    "x = layers.Dense(128, activation='relu')(pretrained_embeding)\n",
    "outputs = layers.Dense(5, activation=\"softmax\")(x)\n",
    "model_3 = tf.keras.Model(inputs=inputs,\n",
    "                        outputs=outputs)\n",
    "\n",
    "# Compile the model\n",
    "model_3.compile(loss=\"categorical_crossentropy\",\n",
    "                optimizer=tf.keras.optimizers.Adam(),\n",
    "                metrics=[\"accuracy\"])\n",
    "# Fit feature extractor model for 3 epochs\n",
    "model_3.fit(train_dataset,\n",
    "            steps_per_epoch=int(0.1 * len(train_dataset)),\n",
    "            epochs=5,\n",
    "            validation_data=valid_dataset,\n",
    "            validation_steps=int(0.1 * len(valid_dataset)))"
   ]
  },
  {
   "cell_type": "code",
   "execution_count": 97,
   "id": "c3484321",
   "metadata": {},
   "outputs": [
    {
     "name": "stdout",
     "output_type": "stream",
     "text": [
      "945/945 [==============================] - 15s 16ms/step - loss: 0.6966 - accuracy: 0.7356\n"
     ]
    },
    {
     "data": {
      "text/plain": [
       "[0.6966081857681274, 0.7356017231941223]"
      ]
     },
     "execution_count": 97,
     "metadata": {},
     "output_type": "execute_result"
    }
   ],
   "source": [
    "# Evaluate on whole validation dataset\n",
    "model_3.evaluate(valid_dataset)"
   ]
  },
  {
   "cell_type": "code",
   "execution_count": 98,
   "id": "baa91f70",
   "metadata": {},
   "outputs": [
    {
     "data": {
      "text/plain": [
       "array([[6.49415791e-01, 2.39053741e-01, 2.12838058e-03, 1.01627044e-01,\n",
       "        7.77501659e-03],\n",
       "       [4.80055004e-01, 4.18890506e-01, 5.88809839e-03, 9.27153900e-02,\n",
       "        2.45095766e-03],\n",
       "       [3.99896383e-01, 7.41308555e-02, 4.45812009e-02, 4.34596330e-01,\n",
       "        4.67951447e-02],\n",
       "       ...,\n",
       "       [2.39678705e-03, 2.77167675e-03, 1.13435894e-01, 6.48777175e-04,\n",
       "        8.80746841e-01],\n",
       "       [2.73704389e-03, 2.24461090e-02, 4.95753437e-01, 1.10017124e-03,\n",
       "        4.77963269e-01],\n",
       "       [1.75888360e-01, 3.35141063e-01, 4.30946320e-01, 4.76684375e-03,\n",
       "        5.32573871e-02]], dtype=float32)"
      ]
     },
     "execution_count": 98,
     "metadata": {},
     "output_type": "execute_result"
    }
   ],
   "source": [
    "# Make predictions with feature extraction model\n",
    "model_3_pred_probs = model_3.predict(valid_dataset)\n",
    "model_3_pred_probs"
   ]
  },
  {
   "cell_type": "code",
   "execution_count": 99,
   "id": "b23f6754",
   "metadata": {},
   "outputs": [
    {
     "data": {
      "text/plain": [
       "<tf.Tensor: shape=(30212,), dtype=int64, numpy=array([0, 0, 3, ..., 4, 2, 2], dtype=int64)>"
      ]
     },
     "execution_count": 99,
     "metadata": {},
     "output_type": "execute_result"
    }
   ],
   "source": [
    "# Convert the predictions with feature extraction model to classes\n",
    "model_3_preds = tf.argmax(model_3_pred_probs, axis=1)\n",
    "model_3_preds"
   ]
  },
  {
   "cell_type": "code",
   "execution_count": 60,
   "id": "24d681a6",
   "metadata": {},
   "outputs": [],
   "source": [
    "from helper_functions import calculate_results"
   ]
  },
  {
   "cell_type": "code",
   "execution_count": 61,
   "id": "9de35490",
   "metadata": {},
   "outputs": [],
   "source": [
    "Calculate results from TF Hub pretrained embeddings results on validation set\n",
    "model_3_results = calculate_results(y_true=val_labels_encoded,\n",
    "                                    y_pred=model_3_preds)\n",
    "model_3_results# "
   ]
  },
  {
   "cell_type": "code",
   "execution_count": 62,
   "id": "57eafe35",
   "metadata": {},
   "outputs": [],
   "source": [
    "import random\n",
    "random_training_sentence = random.choice(train_sentences)"
   ]
  },
  {
   "cell_type": "code",
   "execution_count": 63,
   "id": "df7e93c3",
   "metadata": {},
   "outputs": [],
   "source": [
    "def split_chars(text):\n",
    "    return \" \".join(list(text))"
   ]
  },
  {
   "cell_type": "code",
   "execution_count": 64,
   "id": "de8b1d64",
   "metadata": {},
   "outputs": [
    {
     "data": {
      "text/plain": [
       "'c a n a g l i f l o z i n   @   a n d   @ m g   s i g n i f i c a n t l y   l o w e r e d   h a e m o g l o b i n   a @ c   (   h b a @ c   )   c o m p a r e d   w i t h   p l a c e b o   a t   w e e k   @   (   - @   %   ,   - @   %   a n d   - @   %   ;   p   <   @   )   ;   r e d u c t i o n s   w i t h   c a n a g l i f l o z i n   @   a n d   @ m g   w e r e   m a i n t a i n e d   a t   w e e k   @   (   - @   %   a n d   - @   %   )   .'"
      ]
     },
     "execution_count": 64,
     "metadata": {},
     "output_type": "execute_result"
    }
   ],
   "source": [
    "# Test splitting non-character-level sequence into characters\n",
    "split_chars(random_training_sentence)"
   ]
  },
  {
   "cell_type": "code",
   "execution_count": 65,
   "id": "74f34ae5",
   "metadata": {},
   "outputs": [
    {
     "name": "stdout",
     "output_type": "stream",
     "text": [
      "t h e   o u t c o m e   m e a s u r e s   i n   r h e u m a t o l o g y   c l i n i c a l   t r i a l s - o s t e o a r t h r i t i s   r e s e a r c h   s o c i e t y   i n t e r n a t i o n a l   r e s p o n d e r   r a t e   w a s   @   %   i n   t h e   i n t e r v e n t i o n   g r o u p   a n d   @   %   i n   t h e   p l a c e b o   g r o u p   (   p   <   @   )   .\n"
     ]
    }
   ],
   "source": [
    "\n",
    "# Split sequence-level data splits into character-level data splits\n",
    "train_chars = [split_chars(sentence) for sentence in train_sentences]\n",
    "val_chars = [split_chars(sentence) for sentence in val_sentences]\n",
    "test_chars = [split_chars(sentence) for sentence in test_sentences]\n",
    "print(train_chars[10])"
   ]
  },
  {
   "cell_type": "code",
   "execution_count": 66,
   "id": "28d7601e",
   "metadata": {},
   "outputs": [
    {
     "data": {
      "text/plain": [
       "149.3662574983337"
      ]
     },
     "execution_count": 66,
     "metadata": {},
     "output_type": "execute_result"
    }
   ],
   "source": [
    "import numpy as np\n",
    "# What's the average character length?\n",
    "char_lens = [len(sentence) for sentence in train_sentences]\n",
    "mean_char_len = np.mean(char_lens)\n",
    "mean_char_len"
   ]
  },
  {
   "cell_type": "code",
   "execution_count": 67,
   "id": "4d5d4419",
   "metadata": {},
   "outputs": [
    {
     "data": {
      "image/png": "[encoded data removed]",
      "text/plain": [
       "<Figure size 1224x864 with 1 Axes>"
      ]
     },
     "metadata": {
      "needs_background": "light"
     },
     "output_type": "display_data"
    }
   ],
   "source": [
    "import matplotlib.pyplot as plt\n",
    "plt.figure(figsize=(17, 12))\n",
    "plt.hist(char_lens, bins=100);"
   ]
  },
  {
   "cell_type": "code",
   "execution_count": 68,
   "id": "b8154876",
   "metadata": {},
   "outputs": [
    {
     "data": {
      "text/plain": [
       "290"
      ]
     },
     "execution_count": 68,
     "metadata": {},
     "output_type": "execute_result"
    }
   ],
   "source": [
    "# Find what character length covers 95% of sequences\n",
    "output_seq_char_len = int(np.percentile(char_lens, 95))\n",
    "output_seq_char_len"
   ]
  },
  {
   "cell_type": "code",
   "execution_count": 69,
   "id": "508a3c0b",
   "metadata": {},
   "outputs": [
    {
     "data": {
      "text/plain": [
       "'abcdefghijklmnopqrstuvwxyz0123456789!\"#$%&\\'()*+,-./:;<=>?@[\\\\]^_`{|}~'"
      ]
     },
     "execution_count": 69,
     "metadata": {},
     "output_type": "execute_result"
    }
   ],
   "source": [
    "# Get all keyboard characters for char-level embedding\n",
    "import string\n",
    "alphabet = string.ascii_lowercase + string.digits + string.punctuation\n",
    "alphabet"
   ]
  },
  {
   "cell_type": "code",
   "execution_count": 70,
   "id": "10bd314c",
   "metadata": {},
   "outputs": [
    {
     "data": {
      "text/plain": [
       "70"
      ]
     },
     "execution_count": 70,
     "metadata": {},
     "output_type": "execute_result"
    }
   ],
   "source": [
    "len(alphabet) + 2"
   ]
  },
  {
   "cell_type": "code",
   "execution_count": 71,
   "id": "930f1369",
   "metadata": {},
   "outputs": [],
   "source": [
    "# Create char-level token vectorizer instance\n",
    "NUM_CHAR_TOKENS = len(alphabet) + 2 # num characters in alphabet + space + OOV token\n",
    "char_vectorizer = TextVectorization(max_tokens=NUM_CHAR_TOKENS,  \n",
    "                                    output_sequence_length=output_seq_char_len,\n",
    "                                    standardize=\"lower_and_strip_punctuation\",\n",
    "                                    name=\"char_vectorizer\")\n",
    "\n",
    "# Adapt character vectorizer to training characters\n",
    "char_vectorizer.adapt(train_chars)"
   ]
  },
  {
   "cell_type": "code",
   "execution_count": 72,
   "id": "4fe84800",
   "metadata": {},
   "outputs": [
    {
     "name": "stdout",
     "output_type": "stream",
     "text": [
      "Number of different characters in character vocab: 28\n",
      "5 most common characters: ['', '[UNK]', 'e', 't', 'i']\n",
      "5 least common characters: ['k', 'x', 'z', 'q', 'j']\n"
     ]
    }
   ],
   "source": [
    "# Check character vocabulary characteristics\n",
    "char_vocab = char_vectorizer.get_vocabulary()\n",
    "print(f\"Number of different characters in character vocab: {len(char_vocab)}\")\n",
    "print(f\"5 most common characters: {char_vocab[:5]}\")\n",
    "print(f\"5 least common characters: {char_vocab[-5:]}\")"
   ]
  },
  {
   "cell_type": "code",
   "execution_count": 73,
   "id": "460a9e52",
   "metadata": {},
   "outputs": [
    {
     "name": "stdout",
     "output_type": "stream",
     "text": [
      "Charified text:\n",
      "t h i s   r a n d o m i s e d   c o n t r o l l e d   t r i a l   w i l l   e v a l u a t e   t h e   e f f e c t i v e n e s s   o f   a n   e d u c a t i o n   p r o g r a m   o n   k n o w l e d g e   ,   s e l f - c a r e   a n d   h e a l t h - r e l a t e d   q u a l i t y   o f   l i f e   o f   t h a i   h f   p a t i e n t s   a n d   t h e i r   c a r e r s   .\n",
      "\n",
      "Length of chars: 159\n",
      "\n",
      "Vectorized chars:\n",
      "[[ 3 13  4  9  8  5  6 10  7 15  4  9  2 10 11  7  6  3  8  7 12 12  2 10\n",
      "   3  8  4  5 12 20  4 12 12  2 21  5 12 16  5  3  2  3 13  2  2 17 17  2\n",
      "  11  3  4 21  2  6  2  9  9  7 17  5  6  2 10 16 11  5  3  4  7  6 14  8\n",
      "   7 18  8  5 15  7  6 23  6  7 20 12  2 10 18  2  9  2 12 17 11  5  8  2\n",
      "   5  6 10 13  2  5 12  3 13  8  2 12  5  3  2 10 26 16  5 12  4  3 19  7\n",
      "  17 12  4 17  2  7 17  3 13  5  4 13 17 14  5  3  4  2  6  3  9  5  6 10\n",
      "   3 13  2  4  8 11  5  8  2  8  9  0  0  0  0  0  0  0  0  0  0  0  0  0\n",
      "   0  0  0  0  0  0  0  0  0  0  0  0  0  0  0  0  0  0  0  0  0  0  0  0\n",
      "   0  0  0  0  0  0  0  0  0  0  0  0  0  0  0  0  0  0  0  0  0  0  0  0\n",
      "   0  0  0  0  0  0  0  0  0  0  0  0  0  0  0  0  0  0  0  0  0  0  0  0\n",
      "   0  0  0  0  0  0  0  0  0  0  0  0  0  0  0  0  0  0  0  0  0  0  0  0\n",
      "   0  0  0  0  0  0  0  0  0  0  0  0  0  0  0  0  0  0  0  0  0  0  0  0\n",
      "   0  0]]\n",
      "\n",
      "Length of vectorized chars: 290\n"
     ]
    }
   ],
   "source": [
    "# Test out character vectorizer\n",
    "random_train_chars = random.choice(train_chars)\n",
    "print(f\"Charified text:\\n{random_train_chars}\")\n",
    "print(f\"\\nLength of chars: {len(random_train_chars.split())}\")\n",
    "vectorized_chars = char_vectorizer([random_train_chars])\n",
    "print(f\"\\nVectorized chars:\\n{vectorized_chars}\")\n",
    "print(f\"\\nLength of vectorized chars: {len(vectorized_chars[0])}\")"
   ]
  },
  {
   "cell_type": "code",
   "execution_count": 74,
   "id": "48eea234",
   "metadata": {},
   "outputs": [
    {
     "name": "stdout",
     "output_type": "stream",
     "text": [
      "Charified text (before vectorization and embedding):\n",
      "t h i s   r a n d o m i s e d   c o n t r o l l e d   t r i a l   w i l l   e v a l u a t e   t h e   e f f e c t i v e n e s s   o f   a n   e d u c a t i o n   p r o g r a m   o n   k n o w l e d g e   ,   s e l f - c a r e   a n d   h e a l t h - r e l a t e d   q u a l i t y   o f   l i f e   o f   t h a i   h f   p a t i e n t s   a n d   t h e i r   c a r e r s   .\n",
      "\n",
      "Embedded chars (after vectorization and embedding):\n",
      "[[[ 0.02143646  0.0039435   0.00229018 ... -0.03322836  0.01596291\n",
      "    0.03011217]\n",
      "  [-0.00352365 -0.00013182  0.00372527 ...  0.03474713  0.01769248\n",
      "    0.02855405]\n",
      "  [-0.04667386  0.00679704 -0.02052331 ... -0.00730715  0.01182103\n",
      "    0.01676439]\n",
      "  ...\n",
      "  [ 0.02413679  0.01285462 -0.04826153 ...  0.03818062 -0.04463496\n",
      "   -0.00772554]\n",
      "  [ 0.02413679  0.01285462 -0.04826153 ...  0.03818062 -0.04463496\n",
      "   -0.00772554]\n",
      "  [ 0.02413679  0.01285462 -0.04826153 ...  0.03818062 -0.04463496\n",
      "   -0.00772554]]]\n",
      "\n",
      "Character embedding shape: (1, 290, 25)\n"
     ]
    }
   ],
   "source": [
    "# Create char embedding layer\n",
    "char_embed = layers.Embedding(input_dim=NUM_CHAR_TOKENS, # number of different characters\n",
    "                              output_dim=25, # embedding dimension of each character (same as Figure 1 in https://arxiv.org/pdf/1612.05251.pdf)\n",
    "                              mask_zero=False, # don't use masks (this messes up model_5 if set to True)\n",
    "                              name=\"char_embed\")\n",
    "# Test out character embedding layer\n",
    "print(f\"Charified text (before vectorization and embedding):\\n{random_train_chars}\\n\")\n",
    "char_embed_example = char_embed(char_vectorizer([random_train_chars]))\n",
    "print(f\"Embedded chars (after vectorization and embedding):\\n{char_embed_example}\\n\")\n",
    "print(f\"Character embedding shape: {char_embed_example.shape}\")"
   ]
  },
  {
   "cell_type": "code",
   "execution_count": 75,
   "id": "3a37ad87",
   "metadata": {},
   "outputs": [
    {
     "data": {
      "text/plain": [
       "TensorShape([60, 128])"
      ]
     },
     "execution_count": 75,
     "metadata": {},
     "output_type": "execute_result"
    }
   ],
   "source": [
    "sample_embed.shape"
   ]
  },
  {
   "cell_type": "code",
   "execution_count": 76,
   "id": "1d9c9646",
   "metadata": {},
   "outputs": [
    {
     "data": {
      "text/plain": [
       "<PrefetchDataset element_spec=(TensorSpec(shape=(None,), dtype=tf.string, name=None), TensorSpec(shape=(None, 5), dtype=tf.float64, name=None))>"
      ]
     },
     "execution_count": 76,
     "metadata": {},
     "output_type": "execute_result"
    }
   ],
   "source": [
    "# Create char datasets\n",
    "train_char_dataset = tf.data.Dataset.from_tensor_slices((train_chars, train_labels_one_hot)).batch(32).prefetch(tf.data.AUTOTUNE)\n",
    "val_char_dataset = tf.data.Dataset.from_tensor_slices((val_chars, val_labels_one_hot)).batch(32).prefetch(tf.data.AUTOTUNE)\n",
    "\n",
    "train_char_dataset"
   ]
  },
  {
   "cell_type": "code",
   "execution_count": 77,
   "id": "4f070c01",
   "metadata": {},
   "outputs": [
    {
     "name": "stdout",
     "output_type": "stream",
     "text": [
      "Epoch 1/3\n",
      "562/562 [==============================] - 6s 8ms/step - loss: 1.2668 - accuracy: 0.4939 - val_loss: 1.0533 - val_accuracy: 0.5814\n",
      "Epoch 2/3\n",
      "562/562 [==============================] - 4s 8ms/step - loss: 1.0083 - accuracy: 0.5981 - val_loss: 0.9493 - val_accuracy: 0.6336\n",
      "Epoch 3/3\n",
      "562/562 [==============================] - 4s 8ms/step - loss: 0.9243 - accuracy: 0.6332 - val_loss: 0.8663 - val_accuracy: 0.6679\n"
     ]
    }
   ],
   "source": [
    "# Make Conv1D on chars only\n",
    "inputs = layers.Input(shape=[], dtype=\"string\")\n",
    "char_vectors = char_vectorizer(inputs)\n",
    "char_embeddings = char_embed(char_vectors)\n",
    "x = layers.Conv1D(64, kernel_size=5, padding=\"same\", activation=\"relu\")(char_embeddings)\n",
    "x = layers.GlobalMaxPool1D()(x)\n",
    "outputs = layers.Dense(5, activation=\"softmax\")(x)\n",
    "model_3 = tf.keras.Model(inputs=inputs,\n",
    "                         outputs=outputs,\n",
    "                         name=\"model_3_conv1D_char_embedding\")\n",
    "\n",
    "# Compile model\n",
    "model_3.compile(loss=\"categorical_crossentropy\",\n",
    "                optimizer=tf.keras.optimizers.Adam(),\n",
    "                metrics=[\"accuracy\"])\n",
    "\n",
    "# Fit the model on chars only\n",
    "model_3_history = model_3.fit(train_char_dataset,\n",
    "                              steps_per_epoch=int(0.1 * len(train_char_dataset)),\n",
    "                              epochs=3,\n",
    "                              validation_data=val_char_dataset,\n",
    "                              validation_steps=int(0.1 * len(val_char_dataset)))"
   ]
  },
  {
   "cell_type": "code",
   "execution_count": 79,
   "id": "63bbdacd",
   "metadata": {},
   "outputs": [
    {
     "name": "stdout",
     "output_type": "stream",
     "text": [
      "945/945 [==============================] - 4s 4ms/step - loss: 0.8809 - accuracy: 0.6600\n"
     ]
    },
    {
     "data": {
      "text/plain": [
       "[0.8809260129928589, 0.6600026488304138]"
      ]
     },
     "execution_count": 79,
     "metadata": {},
     "output_type": "execute_result"
    }
   ],
   "source": [
    "# Evaluate model_3 on whole validation char dataset\n",
    "model_3.evaluate(val_char_dataset)"
   ]
  },
  {
   "cell_type": "code",
   "execution_count": 81,
   "id": "d9d866fa",
   "metadata": {},
   "outputs": [
    {
     "data": {
      "text/plain": [
       "array([[0.14982858, 0.46776727, 0.14236644, 0.14827968, 0.09175809],\n",
       "       [0.4195322 , 0.29914498, 0.03389516, 0.20542221, 0.04200541],\n",
       "       [0.09522373, 0.22414488, 0.19651662, 0.26008826, 0.22402655],\n",
       "       ...,\n",
       "       [0.00896675, 0.03759576, 0.11392954, 0.01233048, 0.8271775 ],\n",
       "       [0.04158587, 0.1449798 , 0.34165722, 0.09115756, 0.3806196 ],\n",
       "       [0.4289157 , 0.3815165 , 0.10666247, 0.070906  , 0.01199938]],\n",
       "      dtype=float32)"
      ]
     },
     "execution_count": 81,
     "metadata": {},
     "output_type": "execute_result"
    }
   ],
   "source": [
    "# Make predictions with character model only\n",
    "model_3_pred_probs = model_3.predict(val_char_dataset)\n",
    "model_3_pred_probs"
   ]
  },
  {
   "cell_type": "code",
   "execution_count": 82,
   "id": "5c6fe2a8",
   "metadata": {},
   "outputs": [
    {
     "data": {
      "text/plain": [
       "<tf.Tensor: shape=(30212,), dtype=int64, numpy=array([1, 0, 3, ..., 4, 4, 0], dtype=int64)>"
      ]
     },
     "execution_count": 82,
     "metadata": {},
     "output_type": "execute_result"
    }
   ],
   "source": [
    "# Convert predictions to classes\n",
    "model_3_preds = tf.argmax(model_3_pred_probs, axis=1)\n",
    "model_3_preds\n"
   ]
  },
  {
   "cell_type": "code",
   "execution_count": 83,
   "id": "14ec32b7",
   "metadata": {},
   "outputs": [
    {
     "data": {
      "text/plain": [
       "{'accuracy': 66.00026479544552,\n",
       " 'precision': 0.6522008790136358,\n",
       " 'recall': 0.6600026479544552,\n",
       " 'f1': 0.6498476488387553}"
      ]
     },
     "execution_count": 83,
     "metadata": {},
     "output_type": "execute_result"
    }
   ],
   "source": [
    "# Calculate Conv1D char only model results\n",
    "model_3_results = calculate_results(y_true=val_labels_encoded,\n",
    "                                        y_pred=model_3_preds)\n",
    "model_3_results"
   ]
  },
  {
   "cell_type": "markdown",
   "id": "d6d0166d",
   "metadata": {},
   "source": [
    "# Model 4: Combining pretrained token embeddings + character embeddings (hybrid embedding layer)"
   ]
  },
  {
   "cell_type": "code",
   "execution_count": 88,
   "id": "538bf83c",
   "metadata": {},
   "outputs": [],
   "source": [
    "# 1. Setup token inputs/model\n",
    "token_inputs = layers.Input(shape=[], dtype='string', name='token input')\n",
    "token_embeding=tf_hub_embedding_layer(token_inputs)\n",
    "token_output = layers.Dense(128, activation=\"relu\")(token_embeding)\n",
    "token_model = tf.keras.Model(inputs=token_inputs,\n",
    "                             outputs=token_output)\n",
    "\n",
    "# 2. Setup char inputs/model\n",
    "char_inputs = layers.Input(shape=(1,), dtype=tf.string, name=\"char_input\")\n",
    "char_vectors = char_vectorizer(char_inputs)\n",
    "char_embeddings = char_embed(char_vectors)\n",
    "char_bi_lstm = layers.Bidirectional(layers.LSTM(25))(char_embeddings)\n",
    "char_model = tf.keras.Model(inputs=char_inputs,\n",
    "                            outputs=char_bi_lstm)\n",
    "\n",
    "# 3. Concatenate token and char inputs (create hybrid token embedding)\n",
    "token_char_concat = layers.Concatenate(name='token_char_hybryd')([token_model.output,\n",
    "                                                                  char_model.output])\n",
    "\n",
    "# create output layers \n",
    "combined_dropout = layers.Dropout(0.5)(token_char_concat)\n",
    "combined_dense = layers.Dense(200, activation='relu')(combined_dropout)\n",
    "final_dropout = layers.Dropout(0.5)(combined_dense)\n",
    "output_layer = layers.Dense(5, activation=\"softmax\")(final_dropout)\n",
    "\n",
    "# 5. Construct model with char and token inputs\n",
    "model_4 = tf.keras.Model(inputs=[token_model.input, char_model.input], \n",
    "                        outputs=output_layer,\n",
    "                        name=\"model_4_token_and_char_embeddings\")"
   ]
  },
  {
   "cell_type": "code",
   "execution_count": 89,
   "id": "67afaa49",
   "metadata": {},
   "outputs": [
    {
     "name": "stdout",
     "output_type": "stream",
     "text": [
      "Model: \"model_4_token_and_char_embeddings\"\n",
      "__________________________________________________________________________________________________\n",
      " Layer (type)                   Output Shape         Param #     Connected to                     \n",
      "==================================================================================================\n",
      " char_input (InputLayer)        [(None, 1)]          0           []                               \n",
      "                                                                                                  \n",
      " token input (InputLayer)       [(None,)]            0           []                               \n",
      "                                                                                                  \n",
      " char_vectorizer (TextVectoriza  (None, 290)         0           ['char_input[0][0]']             \n",
      " tion)                                                                                            \n",
      "                                                                                                  \n",
      " universal_sentence_encoder (Ke  (None, 512)         256797824   ['token input[0][0]']            \n",
      " rasLayer)                                                                                        \n",
      "                                                                                                  \n",
      " char_embed (Embedding)         (None, 290, 25)      1750        ['char_vectorizer[2][0]']        \n",
      "                                                                                                  \n",
      " dense_5 (Dense)                (None, 128)          65664       ['universal_sentence_encoder[1][0\n",
      "                                                                 ]']                              \n",
      "                                                                                                  \n",
      " bidirectional_1 (Bidirectional  (None, 50)          10200       ['char_embed[2][0]']             \n",
      " )                                                                                                \n",
      "                                                                                                  \n",
      " token_char_hybryd (Concatenate  (None, 178)         0           ['dense_5[0][0]',                \n",
      " )                                                                'bidirectional_1[0][0]']        \n",
      "                                                                                                  \n",
      " dropout_2 (Dropout)            (None, 178)          0           ['token_char_hybryd[0][0]']      \n",
      "                                                                                                  \n",
      " dense_6 (Dense)                (None, 200)          35800       ['dropout_2[0][0]']              \n",
      "                                                                                                  \n",
      " dropout_3 (Dropout)            (None, 200)          0           ['dense_6[0][0]']                \n",
      "                                                                                                  \n",
      " dense_7 (Dense)                (None, 5)            1005        ['dropout_3[0][0]']              \n",
      "                                                                                                  \n",
      "==================================================================================================\n",
      "Total params: 256,912,243\n",
      "Trainable params: 114,419\n",
      "Non-trainable params: 256,797,824\n",
      "__________________________________________________________________________________________________\n"
     ]
    }
   ],
   "source": [
    "# Get summary of token and character model\n",
    "model_4.summary()"
   ]
  },
  {
   "cell_type": "code",
   "execution_count": 90,
   "id": "40c4a16c",
   "metadata": {
    "scrolled": false
   },
   "outputs": [
    {
     "data": {
      "image/png": "[encoded data removed]",
      "text/plain": [
       "<IPython.core.display.Image object>"
      ]
     },
     "execution_count": 90,
     "metadata": {},
     "output_type": "execute_result"
    }
   ],
   "source": [
    "from tensorflow.keras.utils import plot_model\n",
    "plot_model(model_4, show_shapes=True)"
   ]
  },
  {
   "cell_type": "code",
   "execution_count": 91,
   "id": "54254cba",
   "metadata": {},
   "outputs": [],
   "source": [
    "# Compile token char model\n",
    "model_4.compile(loss=\"categorical_crossentropy\",\n",
    "                optimizer=tf.keras.optimizers.Adam(), # section 4.2 of https://arxiv.org/pdf/1612.05251.pdf mentions using SGD but we'll stick with Adam\n",
    "                metrics=[\"accuracy\"])"
   ]
  },
  {
   "cell_type": "code",
   "execution_count": 92,
   "id": "8f6e21be",
   "metadata": {},
   "outputs": [],
   "source": [
    "# Combine chars and tokens into a dataset\n",
    "train_char_token_data = tf.data.Dataset.from_tensor_slices((train_sentences, train_chars)) # make data\n",
    "train_char_token_labels = tf.data.Dataset.from_tensor_slices(train_labels_one_hot) # make labels\n",
    "train_char_token_dataset = tf.data.Dataset.zip((train_char_token_data, train_char_token_labels)) # combine data and labels\n",
    "\n",
    "# Prefetch and batch train data\n",
    "train_char_token_dataset = train_char_token_dataset.batch(32).prefetch(tf.data.AUTOTUNE) \n",
    "\n",
    "# Repeat same steps validation data\n",
    "val_char_token_data = tf.data.Dataset.from_tensor_slices((val_sentences, val_chars))\n",
    "val_char_token_labels = tf.data.Dataset.from_tensor_slices(val_labels_one_hot)\n",
    "val_char_token_dataset = tf.data.Dataset.zip((val_char_token_data, val_char_token_labels))\n",
    "val_char_token_dataset = val_char_token_dataset.batch(32).prefetch(tf.data.AUTOTUNE)"
   ]
  },
  {
   "cell_type": "code",
   "execution_count": 93,
   "id": "7caef1b9",
   "metadata": {},
   "outputs": [
    {
     "data": {
      "text/plain": [
       "(<PrefetchDataset element_spec=((TensorSpec(shape=(None,), dtype=tf.string, name=None), TensorSpec(shape=(None,), dtype=tf.string, name=None)), TensorSpec(shape=(None, 5), dtype=tf.float64, name=None))>,\n",
       " <PrefetchDataset element_spec=((TensorSpec(shape=(None,), dtype=tf.string, name=None), TensorSpec(shape=(None,), dtype=tf.string, name=None)), TensorSpec(shape=(None, 5), dtype=tf.float64, name=None))>)"
      ]
     },
     "execution_count": 93,
     "metadata": {},
     "output_type": "execute_result"
    }
   ],
   "source": [
    "# Check out training char and token embedding dataset\n",
    "train_char_token_dataset, val_char_token_dataset"
   ]
  },
  {
   "cell_type": "code",
   "execution_count": 95,
   "id": "b88b3b6c",
   "metadata": {},
   "outputs": [
    {
     "name": "stdout",
     "output_type": "stream",
     "text": [
      "Epoch 1/10\n",
      "562/562 [==============================] - 25s 44ms/step - loss: 0.7428 - accuracy: 0.7174 - val_loss: 0.6710 - val_accuracy: 0.7473\n",
      "Epoch 2/10\n",
      "562/562 [==============================] - 25s 45ms/step - loss: 0.7159 - accuracy: 0.7250 - val_loss: 0.6565 - val_accuracy: 0.7530\n",
      "Epoch 3/10\n",
      "562/562 [==============================] - 25s 44ms/step - loss: 0.7108 - accuracy: 0.7298 - val_loss: 0.6534 - val_accuracy: 0.7540\n",
      "Epoch 4/10\n",
      "562/562 [==============================] - 25s 45ms/step - loss: 0.7078 - accuracy: 0.7315 - val_loss: 0.6387 - val_accuracy: 0.7600\n",
      "Epoch 5/10\n",
      "562/562 [==============================] - 25s 45ms/step - loss: 0.7221 - accuracy: 0.7275 - val_loss: 0.6305 - val_accuracy: 0.7650\n",
      "Epoch 6/10\n",
      "562/562 [==============================] - 26s 46ms/step - loss: 0.7203 - accuracy: 0.7251 - val_loss: 0.6235 - val_accuracy: 0.7660\n",
      "Epoch 7/10\n",
      "562/562 [==============================] - 26s 46ms/step - loss: 0.6914 - accuracy: 0.7374 - val_loss: 0.6245 - val_accuracy: 0.7656\n",
      "Epoch 8/10\n",
      "562/562 [==============================] - 25s 44ms/step - loss: 0.6845 - accuracy: 0.7438 - val_loss: 0.6104 - val_accuracy: 0.7696\n",
      "Epoch 9/10\n",
      "562/562 [==============================] - 25s 45ms/step - loss: 0.6891 - accuracy: 0.7391 - val_loss: 0.6116 - val_accuracy: 0.7673\n",
      "Epoch 10/10\n",
      "562/562 [==============================] - 26s 46ms/step - loss: 0.6892 - accuracy: 0.7397 - val_loss: 0.6061 - val_accuracy: 0.7699\n"
     ]
    }
   ],
   "source": [
    "# Fit the model on tokens and chars\n",
    "model_4_history = model_4.fit(train_char_token_dataset, # train on dataset of token and characters\n",
    "                              steps_per_epoch=int(0.1 * len(train_char_token_dataset)),\n",
    "                              epochs=10,\n",
    "                              validation_data=val_char_token_dataset,\n",
    "                              validation_steps=int(0.1 * len(val_char_token_dataset)))"
   ]
  },
  {
   "cell_type": "code",
   "execution_count": 100,
   "id": "5e4b60e6",
   "metadata": {},
   "outputs": [
    {
     "name": "stdout",
     "output_type": "stream",
     "text": [
      "945/945 [==============================] - 31s 32ms/step - loss: 0.6095 - accuracy: 0.7680\n"
     ]
    },
    {
     "data": {
      "text/plain": [
       "[0.6095377206802368, 0.7680060863494873]"
      ]
     },
     "execution_count": 100,
     "metadata": {},
     "output_type": "execute_result"
    }
   ],
   "source": [
    "# Evaluate on the whole validation dataset\n",
    "model_4.evaluate(val_char_token_dataset)"
   ]
  },
  {
   "cell_type": "code",
   "execution_count": 101,
   "id": "301613d1",
   "metadata": {},
   "outputs": [
    {
     "data": {
      "text/html": [
       "<div>\n",
       "<style scoped>\n",
       "    .dataframe tbody tr th:only-of-type {\n",
       "        vertical-align: middle;\n",
       "    }\n",
       "\n",
       "    .dataframe tbody tr th {\n",
       "        vertical-align: top;\n",
       "    }\n",
       "\n",
       "    .dataframe thead th {\n",
       "        text-align: right;\n",
       "    }\n",
       "</style>\n",
       "<table border=\"1\" class=\"dataframe\">\n",
       "  <thead>\n",
       "    <tr style=\"text-align: right;\">\n",
       "      <th></th>\n",
       "      <th>target</th>\n",
       "      <th>text</th>\n",
       "      <th>line_number</th>\n",
       "      <th>total_lines</th>\n",
       "    </tr>\n",
       "  </thead>\n",
       "  <tbody>\n",
       "    <tr>\n",
       "      <th>0</th>\n",
       "      <td>OBJECTIVE</td>\n",
       "      <td>to investigate the efficacy of @ weeks of dail...</td>\n",
       "      <td>0</td>\n",
       "      <td>11</td>\n",
       "    </tr>\n",
       "    <tr>\n",
       "      <th>1</th>\n",
       "      <td>METHODS</td>\n",
       "      <td>a total of @ patients with primary knee oa wer...</td>\n",
       "      <td>1</td>\n",
       "      <td>11</td>\n",
       "    </tr>\n",
       "    <tr>\n",
       "      <th>2</th>\n",
       "      <td>METHODS</td>\n",
       "      <td>outcome measures included pain reduction and i...</td>\n",
       "      <td>2</td>\n",
       "      <td>11</td>\n",
       "    </tr>\n",
       "    <tr>\n",
       "      <th>3</th>\n",
       "      <td>METHODS</td>\n",
       "      <td>pain was assessed using the visual analog pain...</td>\n",
       "      <td>3</td>\n",
       "      <td>11</td>\n",
       "    </tr>\n",
       "    <tr>\n",
       "      <th>4</th>\n",
       "      <td>METHODS</td>\n",
       "      <td>secondary outcome measures included the wester...</td>\n",
       "      <td>4</td>\n",
       "      <td>11</td>\n",
       "    </tr>\n",
       "    <tr>\n",
       "      <th>...</th>\n",
       "      <td>...</td>\n",
       "      <td>...</td>\n",
       "      <td>...</td>\n",
       "      <td>...</td>\n",
       "    </tr>\n",
       "    <tr>\n",
       "      <th>180035</th>\n",
       "      <td>RESULTS</td>\n",
       "      <td>for the absolute change in percent atheroma vo...</td>\n",
       "      <td>7</td>\n",
       "      <td>11</td>\n",
       "    </tr>\n",
       "    <tr>\n",
       "      <th>180036</th>\n",
       "      <td>RESULTS</td>\n",
       "      <td>for pav , a significantly greater percentage o...</td>\n",
       "      <td>8</td>\n",
       "      <td>11</td>\n",
       "    </tr>\n",
       "    <tr>\n",
       "      <th>180037</th>\n",
       "      <td>RESULTS</td>\n",
       "      <td>both strategies had acceptable side effect pro...</td>\n",
       "      <td>9</td>\n",
       "      <td>11</td>\n",
       "    </tr>\n",
       "    <tr>\n",
       "      <th>180038</th>\n",
       "      <td>CONCLUSIONS</td>\n",
       "      <td>compared with standard statin monotherapy , th...</td>\n",
       "      <td>10</td>\n",
       "      <td>11</td>\n",
       "    </tr>\n",
       "    <tr>\n",
       "      <th>180039</th>\n",
       "      <td>CONCLUSIONS</td>\n",
       "      <td>( plaque regression with cholesterol absorptio...</td>\n",
       "      <td>11</td>\n",
       "      <td>11</td>\n",
       "    </tr>\n",
       "  </tbody>\n",
       "</table>\n",
       "<p>180040 rows × 4 columns</p>\n",
       "</div>"
      ],
      "text/plain": [
       "             target                                               text  \\\n",
       "0         OBJECTIVE  to investigate the efficacy of @ weeks of dail...   \n",
       "1           METHODS  a total of @ patients with primary knee oa wer...   \n",
       "2           METHODS  outcome measures included pain reduction and i...   \n",
       "3           METHODS  pain was assessed using the visual analog pain...   \n",
       "4           METHODS  secondary outcome measures included the wester...   \n",
       "...             ...                                                ...   \n",
       "180035      RESULTS  for the absolute change in percent atheroma vo...   \n",
       "180036      RESULTS  for pav , a significantly greater percentage o...   \n",
       "180037      RESULTS  both strategies had acceptable side effect pro...   \n",
       "180038  CONCLUSIONS  compared with standard statin monotherapy , th...   \n",
       "180039  CONCLUSIONS  ( plaque regression with cholesterol absorptio...   \n",
       "\n",
       "        line_number  total_lines  \n",
       "0                 0           11  \n",
       "1                 1           11  \n",
       "2                 2           11  \n",
       "3                 3           11  \n",
       "4                 4           11  \n",
       "...             ...          ...  \n",
       "180035            7           11  \n",
       "180036            8           11  \n",
       "180037            9           11  \n",
       "180038           10           11  \n",
       "180039           11           11  \n",
       "\n",
       "[180040 rows x 4 columns]"
      ]
     },
     "execution_count": 101,
     "metadata": {},
     "output_type": "execute_result"
    }
   ],
   "source": [
    "train_df"
   ]
  },
  {
   "cell_type": "code",
   "execution_count": 102,
   "id": "73bacea7",
   "metadata": {},
   "outputs": [
    {
     "data": {
      "text/plain": [
       "0     15000\n",
       "1     15000\n",
       "2     15000\n",
       "3     15000\n",
       "4     14992\n",
       "5     14949\n",
       "6     14758\n",
       "7     14279\n",
       "8     13346\n",
       "9     11981\n",
       "10    10041\n",
       "11     7892\n",
       "12     5853\n",
       "13     4152\n",
       "14     2835\n",
       "15     1861\n",
       "16     1188\n",
       "17      751\n",
       "18      462\n",
       "19      286\n",
       "20      162\n",
       "21      101\n",
       "22       66\n",
       "23       33\n",
       "24       22\n",
       "25       14\n",
       "26        7\n",
       "27        4\n",
       "28        3\n",
       "29        1\n",
       "30        1\n",
       "Name: line_number, dtype: int64"
      ]
     },
     "execution_count": 102,
     "metadata": {},
     "output_type": "execute_result"
    }
   ],
   "source": [
    "# How many different line numbers are there?\n",
    "train_df[\"line_number\"].value_counts()"
   ]
  },
  {
   "cell_type": "code",
   "execution_count": 103,
   "id": "f089d5cb",
   "metadata": {},
   "outputs": [
    {
     "data": {
      "text/plain": [
       "11    24468\n",
       "10    23639\n",
       "12    22113\n",
       "9     19400\n",
       "13    18438\n",
       "14    14610\n",
       "8     12285\n",
       "15    10768\n",
       "7      7464\n",
       "16     7429\n",
       "17     5202\n",
       "6      3353\n",
       "18     3344\n",
       "19     2480\n",
       "20     1281\n",
       "5      1146\n",
       "21      770\n",
       "22      759\n",
       "23      264\n",
       "4       215\n",
       "24      200\n",
       "25      182\n",
       "26       81\n",
       "28       58\n",
       "3        32\n",
       "30       31\n",
       "27       28\n",
       "Name: total_lines, dtype: int64"
      ]
     },
     "execution_count": 103,
     "metadata": {},
     "output_type": "execute_result"
    }
   ],
   "source": [
    "# How many different line numbers are there?\n",
    "train_df[\"total_lines\"].value_counts()"
   ]
  },
  {
   "cell_type": "code",
   "execution_count": 107,
   "id": "c9172155",
   "metadata": {},
   "outputs": [
    {
     "data": {
      "text/plain": [
       "(TensorShape([180040, 20]),\n",
       " <tf.Tensor: shape=(10, 20), dtype=float32, numpy=\n",
       " array([[0., 0., 0., 0., 0., 0., 0., 0., 0., 0., 0., 1., 0., 0., 0., 0.,\n",
       "         0., 0., 0., 0.],\n",
       "        [0., 0., 0., 0., 0., 0., 0., 0., 0., 0., 0., 1., 0., 0., 0., 0.,\n",
       "         0., 0., 0., 0.],\n",
       "        [0., 0., 0., 0., 0., 0., 0., 0., 0., 0., 0., 1., 0., 0., 0., 0.,\n",
       "         0., 0., 0., 0.],\n",
       "        [0., 0., 0., 0., 0., 0., 0., 0., 0., 0., 0., 1., 0., 0., 0., 0.,\n",
       "         0., 0., 0., 0.],\n",
       "        [0., 0., 0., 0., 0., 0., 0., 0., 0., 0., 0., 1., 0., 0., 0., 0.,\n",
       "         0., 0., 0., 0.],\n",
       "        [0., 0., 0., 0., 0., 0., 0., 0., 0., 0., 0., 1., 0., 0., 0., 0.,\n",
       "         0., 0., 0., 0.],\n",
       "        [0., 0., 0., 0., 0., 0., 0., 0., 0., 0., 0., 1., 0., 0., 0., 0.,\n",
       "         0., 0., 0., 0.],\n",
       "        [0., 0., 0., 0., 0., 0., 0., 0., 0., 0., 0., 1., 0., 0., 0., 0.,\n",
       "         0., 0., 0., 0.],\n",
       "        [0., 0., 0., 0., 0., 0., 0., 0., 0., 0., 0., 1., 0., 0., 0., 0.,\n",
       "         0., 0., 0., 0.],\n",
       "        [0., 0., 0., 0., 0., 0., 0., 0., 0., 0., 0., 1., 0., 0., 0., 0.,\n",
       "         0., 0., 0., 0.]], dtype=float32)>)"
      ]
     },
     "execution_count": 107,
     "metadata": {},
     "output_type": "execute_result"
    }
   ],
   "source": [
    "# Use TensorFlow to create one-hot-encoded tensors of our \"total_lines\" column \n",
    "train_total_lines_one_hot = tf.one_hot(train_df[\"total_lines\"].to_numpy(), depth=20)\n",
    "val_total_lines_one_hot = tf.one_hot(val_df[\"total_lines\"].to_numpy(), depth=20)\n",
    "test_total_lines_one_hot = tf.one_hot(test_df[\"total_lines\"].to_numpy(), depth=20)\n",
    "\n",
    "# Check shape and samples of total lines one-hot tensor\n",
    "train_total_lines_one_hot.shape, train_total_lines_one_hot[:10]"
   ]
  },
  {
   "cell_type": "code",
   "execution_count": null,
   "id": "bf20f12d",
   "metadata": {},
   "outputs": [],
   "source": []
  },
  {
   "cell_type": "code",
   "execution_count": null,
   "id": "68f34492",
   "metadata": {},
   "outputs": [],
   "source": []
  },
  {
   "cell_type": "code",
   "execution_count": null,
   "id": "a9b8609e",
   "metadata": {},
   "outputs": [],
   "source": []
  },
  {
   "cell_type": "code",
   "execution_count": null,
   "id": "890c8e22",
   "metadata": {},
   "outputs": [],
   "source": []
  },
  {
   "cell_type": "code",
   "execution_count": null,
   "id": "8ebf9d33",
   "metadata": {},
   "outputs": [],
   "source": []
  },
  {
   "cell_type": "code",
   "execution_count": null,
   "id": "ac404c09",
   "metadata": {},
   "outputs": [],
   "source": []
  },
  {
   "cell_type": "code",
   "execution_count": null,
   "id": "18aa29d8",
   "metadata": {},
   "outputs": [],
   "source": []
  },
  {
   "cell_type": "code",
   "execution_count": null,
   "id": "be5d95ce",
   "metadata": {},
   "outputs": [],
   "source": []
  },
  {
   "cell_type": "code",
   "execution_count": null,
   "id": "5ebecb48",
   "metadata": {},
   "outputs": [],
   "source": []
  },
  {
   "cell_type": "code",
   "execution_count": null,
   "id": "a4a87a9b",
   "metadata": {},
   "outputs": [],
   "source": []
  }
 ],
 "metadata": {
  "kernelspec": {
   "display_name": "gpu_test_3",
   "language": "python",
   "name": "gpu_test_3"
  },
  "language_info": {
   "codemirror_mode": {
    "name": "ipython",
    "version": 3
   },
   "file_extension": ".py",
   "mimetype": "text/x-python",
   "name": "python",
   "nbconvert_exporter": "python",
   "pygments_lexer": "ipython3",
   "version": "3.9.10"
  }
 },
 "nbformat": 4,
 "nbformat_minor": 5
}
