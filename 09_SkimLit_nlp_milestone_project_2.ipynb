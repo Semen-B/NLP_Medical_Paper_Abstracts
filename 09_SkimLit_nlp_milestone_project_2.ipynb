{
 "cells": [
  {
   "cell_type": "code",
   "execution_count": 1,
   "id": "78c500d4",
   "metadata": {},
   "outputs": [
    {
     "name": "stdout",
     "output_type": "stream",
     "text": [
      "GPU 0: NVIDIA GeForce RTX 3060 Laptop GPU (UUID: GPU-63841278-b94a-af1d-b385-7d84275529fb)\n"
     ]
    }
   ],
   "source": [
    "# Check for GPU\n",
    "!nvidia-smi -L\n"
   ]
  },
  {
   "cell_type": "code",
   "execution_count": 5,
   "id": "6b45d932",
   "metadata": {},
   "outputs": [
    {
     "name": "stderr",
     "output_type": "stream",
     "text": [
      "fatal: not a git repository (or any of the parent directories): .git\n"
     ]
    }
   ],
   "source": [
    "!git status"
   ]
  },
  {
   "cell_type": "code",
   "execution_count": 4,
   "id": "cd8a6fae",
   "metadata": {},
   "outputs": [
    {
     "name": "stderr",
     "output_type": "stream",
     "text": [
      "Cloning into 'NLP-Neural-Networks-for-Joint-Sentence-Classification-in-Medical-Paper-Abstracts'...\n"
     ]
    }
   ],
   "source": [
    "! git clone https://github.com/Semen-B/NLP-Neural-Networks-for-Joint-Sentence-Classification-in-Medical-Paper-Abstracts.git"
   ]
  },
  {
   "cell_type": "code",
   "execution_count": 15,
   "id": "25d9e9f3",
   "metadata": {},
   "outputs": [
    {
     "name": "stdout",
     "output_type": "stream",
     "text": [
      "On branch master\n",
      "Your branch is up to date with 'origin/master'.\n",
      "\n",
      "Changes not staged for commit:\n",
      "  (use \"git add <file>...\" to update what will be committed)\n",
      "  (use \"git restore <file>...\" to discard changes in working directory)\n",
      "\tmodified:   09_SkimLit_nlp_milestone_project_2.ipynb\n",
      "\n",
      "Untracked files:\n",
      "  (use \"git add <file>...\" to include in what will be committed)\n",
      "\t.ipynb_checkpoints/\n",
      "\t02. Neural Network Classification with TensorFlow.ipynb\n",
      "\t03. Convolutional Neural Networks and Computer Vision with TensorFlow.ipynb\n",
      "\t04_transfer_learning_in_tensorflow_part_1_feature_extraction.ipynb\n",
      "\t05_transfer_learning_in_tensorflow_part_2_fine_tuning.ipynb\n",
      "\t\"06. Transfer Learning with TensorFlow Part 3 Scaling up (\\360\\237\\215\\224\\360\\237\\221\\201 Food Vision mini).ipynb\"\n",
      "\t06_101_food_class_10_percent_saved_big_dog_model.zip\n",
      "\t06_101_food_class_10_percent_saved_big_dog_model.zip.1\n",
      "\t06_101_food_class_10_percent_saved_big_dog_model/\n",
      "\t07_efficientnetb0_feature_extract_model_mixed_precision.zip\n",
      "\t07_efficientnetb0_feature_extract_model_mixed_precision/\n",
      "\t07_food_vision_milestone_project_1.ipynb\n",
      "\t08_introduction_to_nlp_in_tensorflow.ipynb\n",
      "\t101_classes_10_percent_data_model_checkpoint.data-00000-of-00001\n",
      "\t101_classes_10_percent_data_model_checkpoint.index\n",
      "\t101_food_classes_10_percent.zip\n",
      "\t101_food_classes_10_percent/\n",
      "\t10_food_classes_10_percent.zip\n",
      "\t10_food_classes_10_percent.zip.1\n",
      "\t10_food_classes_10_percent/\n",
      "\t10_food_classes_1_percent.zip\n",
      "\t10_food_classes_1_percent.zip.1\n",
      "\t10_food_classes_1_percent/\n",
      "\t10_food_classes_all_data/\n",
      "\tBig_dog_model/\n",
      "\tNLP-Neural-Networks-for-Joint-Sentence-Classification-in-Medical-Paper-Abstracts/\n",
      "\tTransfer_lerning_myself_test.ipynb\n",
      "\tUntitled.ipynb\n",
      "\tUntitled1.ipynb\n",
      "\tUntitled2.ipynb\n",
      "\t__MACOSX/\n",
      "\t__pycache__/\n",
      "\tcheckpoint\n",
      "\tconfusion_matrix.png\n",
      "\tdesktop.ini\n",
      "\tfood_vision_model_checkpoints.data-00000-of-00001\n",
      "\tfood_vision_model_checkpoints.index\n",
      "\thelper_functions.py\n",
      "\thelper_functions.py.1\n",
      "\thelper_functions.py.2\n",
      "\thelper_functions.py.3\n",
      "\thelper_functions.py.4\n",
      "\tmodel_checkpoints_food_vision/\n",
      "\tmodel_checkpoints_food_vision_2/\n",
      "\tmy_LSTM/\n",
      "\tmy_LSTM_3/\n",
      "\tmy_LSTM_5/\n",
      "\tmy_LSTM_7/\n",
      "\tmy_LSTM_8/\n",
      "\tmy_dir_for_twiter_1/\n",
      "\tnlp_getting_started.zip\n",
      "\tpizza_steak/\n",
      "\tsample_submission.csv\n",
      "\tsaved_trained_model_multyclass/\n",
      "\tten_percent_model_checkpoints_weights/\n",
      "\ttensorflow_hub/\n",
      "\ttesla_model_3/\n",
      "\ttest.csv\n",
      "\ttrain.csv\n",
      "\ttraining_logs/\n",
      "\ttransfer_learning/\n",
      "\ttransfer_learning_7/\n",
      "\ttransfet_lerning/\n",
      "\n",
      "no changes added to commit (use \"git add\" and/or \"git commit -a\")\n"
     ]
    }
   ],
   "source": [
    "!git status"
   ]
  },
  {
   "cell_type": "code",
   "execution_count": 16,
   "id": "1821e553",
   "metadata": {},
   "outputs": [
    {
     "name": "stderr",
     "output_type": "stream",
     "text": [
      "warning: LF will be replaced by CRLF in 09_SkimLit_nlp_milestone_project_2.ipynb.\n",
      "The file will have its original line endings in your working directory\n"
     ]
    }
   ],
   "source": [
    "! git add 09_SkimLit_nlp_milestone_project_2.ipynb"
   ]
  },
  {
   "cell_type": "code",
   "execution_count": 17,
   "id": "22292749",
   "metadata": {},
   "outputs": [
    {
     "name": "stdout",
     "output_type": "stream",
     "text": [
      "On branch master\n",
      "Your branch is up to date with 'origin/master'.\n",
      "\n",
      "Changes to be committed:\n",
      "  (use \"git restore --staged <file>...\" to unstage)\n",
      "\tmodified:   09_SkimLit_nlp_milestone_project_2.ipynb\n",
      "\n",
      "Untracked files:\n",
      "  (use \"git add <file>...\" to include in what will be committed)\n",
      "\t.ipynb_checkpoints/\n",
      "\t02. Neural Network Classification with TensorFlow.ipynb\n",
      "\t03. Convolutional Neural Networks and Computer Vision with TensorFlow.ipynb\n",
      "\t04_transfer_learning_in_tensorflow_part_1_feature_extraction.ipynb\n",
      "\t05_transfer_learning_in_tensorflow_part_2_fine_tuning.ipynb\n",
      "\t\"06. Transfer Learning with TensorFlow Part 3 Scaling up (\\360\\237\\215\\224\\360\\237\\221\\201 Food Vision mini).ipynb\"\n",
      "\t06_101_food_class_10_percent_saved_big_dog_model.zip\n",
      "\t06_101_food_class_10_percent_saved_big_dog_model.zip.1\n",
      "\t06_101_food_class_10_percent_saved_big_dog_model/\n",
      "\t07_efficientnetb0_feature_extract_model_mixed_precision.zip\n",
      "\t07_efficientnetb0_feature_extract_model_mixed_precision/\n",
      "\t07_food_vision_milestone_project_1.ipynb\n",
      "\t08_introduction_to_nlp_in_tensorflow.ipynb\n",
      "\t101_classes_10_percent_data_model_checkpoint.data-00000-of-00001\n",
      "\t101_classes_10_percent_data_model_checkpoint.index\n",
      "\t101_food_classes_10_percent.zip\n",
      "\t101_food_classes_10_percent/\n",
      "\t10_food_classes_10_percent.zip\n",
      "\t10_food_classes_10_percent.zip.1\n",
      "\t10_food_classes_10_percent/\n",
      "\t10_food_classes_1_percent.zip\n",
      "\t10_food_classes_1_percent.zip.1\n",
      "\t10_food_classes_1_percent/\n",
      "\t10_food_classes_all_data/\n",
      "\tBig_dog_model/\n",
      "\tNLP-Neural-Networks-for-Joint-Sentence-Classification-in-Medical-Paper-Abstracts/\n",
      "\tTransfer_lerning_myself_test.ipynb\n",
      "\tUntitled.ipynb\n",
      "\tUntitled1.ipynb\n",
      "\tUntitled2.ipynb\n",
      "\t__MACOSX/\n",
      "\t__pycache__/\n",
      "\tcheckpoint\n",
      "\tconfusion_matrix.png\n",
      "\tdesktop.ini\n",
      "\tfood_vision_model_checkpoints.data-00000-of-00001\n",
      "\tfood_vision_model_checkpoints.index\n",
      "\thelper_functions.py\n",
      "\thelper_functions.py.1\n",
      "\thelper_functions.py.2\n",
      "\thelper_functions.py.3\n",
      "\thelper_functions.py.4\n",
      "\tmodel_checkpoints_food_vision/\n",
      "\tmodel_checkpoints_food_vision_2/\n",
      "\tmy_LSTM/\n",
      "\tmy_LSTM_3/\n",
      "\tmy_LSTM_5/\n",
      "\tmy_LSTM_7/\n",
      "\tmy_LSTM_8/\n",
      "\tmy_dir_for_twiter_1/\n",
      "\tnlp_getting_started.zip\n",
      "\tpizza_steak/\n",
      "\tsample_submission.csv\n",
      "\tsaved_trained_model_multyclass/\n",
      "\tten_percent_model_checkpoints_weights/\n",
      "\ttensorflow_hub/\n",
      "\ttesla_model_3/\n",
      "\ttest.csv\n",
      "\ttrain.csv\n",
      "\ttraining_logs/\n",
      "\ttransfer_learning/\n",
      "\ttransfer_learning_7/\n",
      "\ttransfet_lerning/\n",
      "\n"
     ]
    }
   ],
   "source": [
    "! git status"
   ]
  },
  {
   "cell_type": "code",
   "execution_count": 18,
   "id": "5129f654",
   "metadata": {},
   "outputs": [
    {
     "name": "stdout",
     "output_type": "stream",
     "text": [
      "[master bf32621] third commit"
     ]
    },
    {
     "name": "stderr",
     "output_type": "stream",
     "text": [
      "Auto packing the repository in background for optimum performance.\n",
      "See \"git help gc\" for manual housekeeping.\n",
      "warning: There are too many unreachable loose objects; run 'git prune' to remove them.\n"
     ]
    },
    {
     "name": "stdout",
     "output_type": "stream",
     "text": [
      "\n",
      " 1 file changed, 264 insertions(+), 1 deletion(-)\n"
     ]
    }
   ],
   "source": [
    "! git commit -m \"third commit\""
   ]
  },
  {
   "cell_type": "code",
   "execution_count": 13,
   "id": "d3a99d4f",
   "metadata": {},
   "outputs": [
    {
     "name": "stderr",
     "output_type": "stream",
     "text": [
      "error: remote origin already exists.\n"
     ]
    }
   ],
   "source": [
    "! git remote add origin https://github.com/Semen-B/NLP_Medical_Paper_Abstracts.git"
   ]
  },
  {
   "cell_type": "code",
   "execution_count": 19,
   "id": "25c04728",
   "metadata": {},
   "outputs": [
    {
     "name": "stdout",
     "output_type": "stream",
     "text": [
      "Branch 'master' set up to track remote branch 'master' from 'origin'.\n"
     ]
    },
    {
     "name": "stderr",
     "output_type": "stream",
     "text": [
      "To https://github.com/Semen-B/NLP_Medical_Paper_Abstracts.git\n",
      "   0b93860..bf32621  master -> master\n"
     ]
    }
   ],
   "source": [
    "! git push -u origin master"
   ]
  },
  {
   "cell_type": "code",
   "execution_count": 20,
   "id": "47a0ca5f",
   "metadata": {},
   "outputs": [
    {
     "name": "stdout",
     "output_type": "stream",
     "text": [
      "* master\n"
     ]
    }
   ],
   "source": [
    "! git branch"
   ]
  },
  {
   "cell_type": "code",
   "execution_count": 21,
   "id": "5b86c64f",
   "metadata": {},
   "outputs": [],
   "source": [
    "! git branch -M main"
   ]
  },
  {
   "cell_type": "code",
   "execution_count": 22,
   "id": "d5e90b42",
   "metadata": {},
   "outputs": [
    {
     "name": "stdout",
     "output_type": "stream",
     "text": [
      "* main\n"
     ]
    }
   ],
   "source": [
    "! git branch"
   ]
  },
  {
   "cell_type": "code",
   "execution_count": 23,
   "id": "a4025cf4",
   "metadata": {},
   "outputs": [
    {
     "name": "stderr",
     "output_type": "stream",
     "text": [
      "To https://github.com/Semen-B/NLP_Medical_Paper_Abstracts.git\n",
      " ! [rejected]        main -> main (fetch first)\n",
      "error: failed to push some refs to 'https://github.com/Semen-B/NLP_Medical_Paper_Abstracts.git'\n",
      "hint: Updates were rejected because the remote contains work that you do\n",
      "hint: not have locally. This is usually caused by another repository pushing\n",
      "hint: to the same ref. You may want to first integrate the remote changes\n",
      "hint: (e.g., 'git pull ...') before pushing again.\n",
      "hint: See the 'Note about fast-forwards' in 'git push --help' for details.\n"
     ]
    }
   ],
   "source": [
    "! git push -u origin main"
   ]
  },
  {
   "cell_type": "code",
   "execution_count": null,
   "id": "211706ec",
   "metadata": {},
   "outputs": [],
   "source": []
  }
 ],
 "metadata": {
  "kernelspec": {
   "display_name": "gpu_test_3",
   "language": "python",
   "name": "gpu_test_3"
  },
  "language_info": {
   "codemirror_mode": {
    "name": "ipython",
    "version": 3
   },
   "file_extension": ".py",
   "mimetype": "text/x-python",
   "name": "python",
   "nbconvert_exporter": "python",
   "pygments_lexer": "ipython3",
   "version": "3.9.10"
  }
 },
 "nbformat": 4,
 "nbformat_minor": 5
}
