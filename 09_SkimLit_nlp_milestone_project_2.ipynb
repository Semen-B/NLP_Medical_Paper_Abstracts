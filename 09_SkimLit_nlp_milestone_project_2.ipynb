{
 "cells": [
  {
   "cell_type": "code",
   "execution_count": 1,
   "id": "78c500d4",
   "metadata": {},
   "outputs": [
    {
     "name": "stdout",
     "output_type": "stream",
     "text": [
      "GPU 0: NVIDIA GeForce RTX 3060 Laptop GPU (UUID: GPU-63841278-b94a-af1d-b385-7d84275529fb)\n"
     ]
    }
   ],
   "source": [
    "# Check for GPU\n",
    "!nvidia-smi -L\n"
   ]
  },
  {
   "cell_type": "code",
   "execution_count": 54,
   "id": "6b45d932",
   "metadata": {
    "scrolled": true
   },
   "outputs": [
    {
     "name": "stdout",
     "output_type": "stream",
     "text": [
      "On branch main\n",
      "Your branch is ahead of 'origin/master' by 3 commits.\n",
      "  (use \"git push\" to publish your local commits)\n",
      "\n",
      "Changes to be committed:\n",
      "  (use \"git restore --staged <file>...\" to unstage)\n",
      "\tmodified:   09_SkimLit_nlp_milestone_project_2.ipynb\n",
      "\n",
      "Untracked files:\n",
      "  (use \"git add <file>...\" to include in what will be committed)\n",
      "\t.ipynb_checkpoints/\n",
      "\t02. Neural Network Classification with TensorFlow.ipynb\n",
      "\t03. Convolutional Neural Networks and Computer Vision with TensorFlow.ipynb\n",
      "\t04_transfer_learning_in_tensorflow_part_1_feature_extraction.ipynb\n",
      "\t05_transfer_learning_in_tensorflow_part_2_fine_tuning.ipynb\n",
      "\t\"06. Transfer Learning with TensorFlow Part 3 Scaling up (\\360\\237\\215\\224\\360\\237\\221\\201 Food Vision mini).ipynb\"\n",
      "\t06_101_food_class_10_percent_saved_big_dog_model.zip\n",
      "\t06_101_food_class_10_percent_saved_big_dog_model.zip.1\n",
      "\t06_101_food_class_10_percent_saved_big_dog_model/\n",
      "\t07_efficientnetb0_feature_extract_model_mixed_precision.zip\n",
      "\t07_efficientnetb0_feature_extract_model_mixed_precision/\n",
      "\t07_food_vision_milestone_project_1.ipynb\n",
      "\t08_introduction_to_nlp_in_tensorflow.ipynb\n",
      "\t101_classes_10_percent_data_model_checkpoint.data-00000-of-00001\n",
      "\t101_classes_10_percent_data_model_checkpoint.index\n",
      "\t101_food_classes_10_percent.zip\n",
      "\t101_food_classes_10_percent/\n",
      "\t10_food_classes_10_percent.zip\n",
      "\t10_food_classes_10_percent.zip.1\n",
      "\t10_food_classes_10_percent/\n",
      "\t10_food_classes_1_percent.zip\n",
      "\t10_food_classes_1_percent.zip.1\n",
      "\t10_food_classes_1_percent/\n",
      "\t10_food_classes_all_data/\n",
      "\tBig_dog_model/\n",
      "\tNLP-Neural-Networks-for-Joint-Sentence-Classification-in-Medical-Paper-Abstracts/\n",
      "\tTransfer_lerning_myself_test.ipynb\n",
      "\tUntitled.ipynb\n",
      "\tUntitled1.ipynb\n",
      "\tUntitled2.ipynb\n",
      "\t__MACOSX/\n",
      "\t__pycache__/\n",
      "\tcheckpoint\n",
      "\tconfusion_matrix.png\n",
      "\tdesktop.ini\n",
      "\tfood_vision_model_checkpoints.data-00000-of-00001\n",
      "\tfood_vision_model_checkpoints.index\n",
      "\thelper_functions.py\n",
      "\thelper_functions.py.1\n",
      "\thelper_functions.py.2\n",
      "\thelper_functions.py.3\n",
      "\thelper_functions.py.4\n",
      "\tmodel_checkpoints_food_vision/\n",
      "\tmodel_checkpoints_food_vision_2/\n",
      "\tmy_LSTM/\n",
      "\tmy_LSTM_3/\n",
      "\tmy_LSTM_5/\n",
      "\tmy_LSTM_7/\n",
      "\tmy_LSTM_8/\n",
      "\tmy_dir_for_twiter_1/\n",
      "\tnlp_getting_started.zip\n",
      "\tpizza_steak/\n",
      "\tsample_submission.csv\n",
      "\tsaved_trained_model_multyclass/\n",
      "\tten_percent_model_checkpoints_weights/\n",
      "\ttensorflow_hub/\n",
      "\ttesla_model_3/\n",
      "\ttest.csv\n",
      "\ttrain.csv\n",
      "\ttraining_logs/\n",
      "\ttransfer_learning/\n",
      "\ttransfer_learning_7/\n",
      "\ttransfet_lerning/\n",
      "\n"
     ]
    }
   ],
   "source": [
    "!git status"
   ]
  },
  {
   "cell_type": "code",
   "execution_count": 52,
   "id": "cd8a6fae",
   "metadata": {},
   "outputs": [
    {
     "name": "stderr",
     "output_type": "stream",
     "text": [
      "fatal: destination path 'NLP-Neural-Networks-for-Joint-Sentence-Classification-in-Medical-Paper-Abstracts' already exists and is not an empty directory.\n"
     ]
    }
   ],
   "source": [
    "! git clone https://github.com/Semen-B/NLP-Neural-Networks-for-Joint-Sentence-Classification-in-Medical-Paper-Abstracts.git"
   ]
  },
  {
   "cell_type": "code",
   "execution_count": 66,
   "id": "6ee7095c",
   "metadata": {},
   "outputs": [
    {
     "name": "stderr",
     "output_type": "stream",
     "text": [
      "warning: LF will be replaced by CRLF in 09_SkimLit_nlp_milestone_project_2.ipynb.\n",
      "The file will have its original line endings in your working directory\n"
     ]
    }
   ],
   "source": [
    "! git add 09_SkimLit_nlp_milestone_project_2.ipynb"
   ]
  },
  {
   "cell_type": "code",
   "execution_count": 67,
   "id": "8aecac30",
   "metadata": {},
   "outputs": [
    {
     "name": "stdout",
     "output_type": "stream",
     "text": [
      "[master 2978400] sixth commit\n",
      " 1 file changed, 126 insertions(+), 77 deletions(-)\n"
     ]
    }
   ],
   "source": [
    "! git commit -m \"sixth commit\""
   ]
  },
  {
   "cell_type": "code",
   "execution_count": 28,
   "id": "a0628884",
   "metadata": {},
   "outputs": [
    {
     "name": "stderr",
     "output_type": "stream",
     "text": [
      "error: remote origin already exists.\n"
     ]
    }
   ],
   "source": [
    "! git remote add origin https://github.com/Semen-B/NLP_Medical_Paper_Abstracts.git"
   ]
  },
  {
   "cell_type": "code",
   "execution_count": 62,
   "id": "084e3dec",
   "metadata": {},
   "outputs": [],
   "source": [
    "! git branch -M master"
   ]
  },
  {
   "cell_type": "code",
   "execution_count": 68,
   "id": "07b57737",
   "metadata": {},
   "outputs": [
    {
     "name": "stdout",
     "output_type": "stream",
     "text": [
      "* master\n",
      "  tmp\n"
     ]
    }
   ],
   "source": [
    "! git branch"
   ]
  },
  {
   "cell_type": "code",
   "execution_count": 69,
   "id": "f160a1e6",
   "metadata": {},
   "outputs": [
    {
     "name": "stdout",
     "output_type": "stream",
     "text": [
      "Branch 'master' set up to track remote branch 'master' from 'origin'.\n"
     ]
    },
    {
     "name": "stderr",
     "output_type": "stream",
     "text": [
      "To https://github.com/Semen-B/NLP_Medical_Paper_Abstracts.git\n",
      "   a70824c..2978400  master -> master\n"
     ]
    }
   ],
   "source": [
    "! git push -u origin master"
   ]
  },
  {
   "cell_type": "code",
   "execution_count": 65,
   "id": "8d494ccb",
   "metadata": {},
   "outputs": [
    {
     "name": "stdout",
     "output_type": "stream",
     "text": [
      "Unstaged changes after reset:\n",
      "M\t09_SkimLit_nlp_milestone_project_2.ipynb\n"
     ]
    }
   ],
   "source": [
    "! git reset"
   ]
  },
  {
   "cell_type": "code",
   "execution_count": 70,
   "id": "ff25ae98",
   "metadata": {},
   "outputs": [
    {
     "name": "stderr",
     "output_type": "stream",
     "text": [
      "Cloning into 'pubmed-rct'...\n"
     ]
    }
   ],
   "source": [
    "!git clone https://github.com/Franck-Dernoncourt/pubmed-rct.git"
   ]
  },
  {
   "cell_type": "code",
   "execution_count": 72,
   "id": "5e7e38f1",
   "metadata": {},
   "outputs": [
    {
     "name": "stdout",
     "output_type": "stream",
     "text": [
      " Volume in drive C has no label.\n",
      " Volume Serial Number is AA66-8B4D\n",
      "\n",
      " Directory of C:\\Users\\semen\\Desktop\\pythonProject\\pubmed-rct\n",
      "\n",
      "05/01/2022  05:05 PM    <DIR>          .\n",
      "05/01/2022  05:05 PM    <DIR>          ..\n",
      "05/01/2022  05:05 PM    <DIR>          PubMed_200k_RCT\n",
      "05/01/2022  05:05 PM    <DIR>          PubMed_200k_RCT_numbers_replaced_with_at_sign\n",
      "05/01/2022  05:05 PM    <DIR>          PubMed_20k_RCT\n",
      "05/01/2022  05:05 PM    <DIR>          PubMed_20k_RCT_numbers_replaced_with_at_sign\n",
      "05/01/2022  05:05 PM             2,403 README.md\n",
      "               1 File(s)          2,403 bytes\n",
      "               6 Dir(s)  312,919,085,056 bytes free\n"
     ]
    }
   ],
   "source": [
    "!dir pubmed-rct"
   ]
  },
  {
   "cell_type": "code",
   "execution_count": 74,
   "id": "50a84ff4",
   "metadata": {},
   "outputs": [
    {
     "name": "stdout",
     "output_type": "stream",
     "text": [
      " Volume in drive C has no label.\n",
      " Volume Serial Number is AA66-8B4D\n",
      "\n",
      " Directory of C:\\Users\\semen\\Desktop\\pythonProject\\pubmed-rct\\PubMed_20k_RCT_numbers_replaced_with_at_sign\n",
      "\n",
      "05/01/2022  05:05 PM    <DIR>          .\n",
      "05/01/2022  05:05 PM    <DIR>          ..\n",
      "05/01/2022  05:05 PM         4,880,409 dev.txt\n",
      "05/01/2022  05:05 PM         4,846,504 test.txt\n",
      "05/01/2022  05:05 PM        29,118,832 train.txt\n",
      "               3 File(s)     38,845,745 bytes\n",
      "               2 Dir(s)  312,908,804,096 bytes free\n"
     ]
    }
   ],
   "source": [
    "# Check what files are in the PubMed_20K dataset \n",
    "!dir pubmed-rct\\PubMed_20k_RCT_numbers_replaced_with_at_sign"
   ]
  },
  {
   "cell_type": "code",
   "execution_count": 75,
   "id": "40d9d771",
   "metadata": {},
   "outputs": [],
   "source": [
    "# Create function to read the lines of a document\n",
    "def get_lines(filename):\n",
    "  \"\"\"\n",
    "  Reads filename (a text file) and returns the lines of text as a list.\n",
    "  \n",
    "  Args:\n",
    "      filename: a string containing the target filepath to read.\n",
    "  \n",
    "  Returns:\n",
    "      A list of strings with one string per line from the target filename.\n",
    "      For example:\n",
    "      [\"this is the first line of filename\",\n",
    "       \"this is the second line of filename\",\n",
    "       \"...\"]\n",
    "  \"\"\"\n",
    "  with open(filename, \"r\") as f:\n",
    "    return f.readlines()"
   ]
  },
  {
   "cell_type": "code",
   "execution_count": 82,
   "id": "6cd0ce06",
   "metadata": {},
   "outputs": [
    {
     "data": {
      "text/plain": [
       "str"
      ]
     },
     "execution_count": 82,
     "metadata": {},
     "output_type": "execute_result"
    }
   ],
   "source": [
    "type(my_list)"
   ]
  },
  {
   "cell_type": "code",
   "execution_count": 83,
   "id": "767311bb",
   "metadata": {},
   "outputs": [],
   "source": [
    "sample = my_list.split('###')"
   ]
  },
  {
   "cell_type": "code",
   "execution_count": 177,
   "id": "c78c2c8c",
   "metadata": {},
   "outputs": [
    {
     "data": {
      "text/plain": [
       "\"24293578\\\\n', 'OBJECTIVE\\\\tTo investigate the efficacy of @ weeks of daily low-dose oral prednisolone in improving pain , mobility , and systemic low-grade inflammation in the short term and whether the effect would be sustained at @ weeks in older adults with moderate to severe knee osteoarthritis ( OA ) .\\\\n', 'METHODS\\\\tA total of @ patients with primary knee OA were randomized @:@ ; @ received @ mg/day of prednisolone and @ received placebo for @ weeks .\\\\n', 'METHODS\\\\tOutcome measures included pain reduction and improvement in function scores and systemic inflammation markers .\\\\n', 'METHODS\\\\tPain was assessed using the visual analog pain scale ( @-@ mm ) .\\\\n', 'METHODS\\\\tSecondary outcome measures included the Western Ontario and McMaster Universities Osteoarthritis Index scores , patient global assessment ( PGA ) of the severity of knee OA , and @-min walk distance ( @MWD ) .\\\\n', 'METHODS\\\\tSerum levels of interleukin @ ( IL-@ ) , IL-@ , tumor necrosis factor ( TNF ) - , and high-sensitivity C-reactive protein ( hsCRP ) were measured .\\\\n', 'RESULTS\\\\tThere was a clinically relevant reduction in the intervention group compared to the placebo group for knee pain , physical function , PGA , and @MWD at @ weeks .\\\\n', 'RESULTS\\\\tThe mean difference between treatment arms ( @ % CI ) was @ ( @-@ @ ) , p < @ ; @ ( @-@ @ ) , p < @ ; @ ( @-@ @ ) , p < @ ; and @ ( @-@ @ ) , p < @ , respectively .\\\\n', 'RESULTS\\\\tFurther , there was a clinically relevant reduction in the serum levels of IL-@ , IL-@ , TNF - , and hsCRP at @ weeks in the intervention group when compared to the placebo group .\\\\n', 'RESULTS\\\\tThese differences remained significant at @ weeks .\\\\n', 'RESULTS\\\\tThe Outcome Measures in Rheumatology Clinical Trials-Osteoarthritis Research Society International responder rate was @ % in the intervention group and @ % in the placebo group ( p < @ ) .\\\\n', 'CONCLUSIONS\\\\tLow-dose oral prednisolone had both a short-term and a longer sustained effect resulting in less knee pain , better physical function , and attenuation of systemic inflammation in older patients with knee OA ( ClinicalTrials.gov identifier NCT@ ) .\\\\n', '\\\\n', '\""
      ]
     },
     "execution_count": 177,
     "metadata": {},
     "output_type": "execute_result"
    }
   ],
   "source": [
    "sample[1]"
   ]
  },
  {
   "cell_type": "code",
   "execution_count": 129,
   "id": "c1fbb227",
   "metadata": {
    "scrolled": true
   },
   "outputs": [],
   "source": [
    "separator = \"\\\\n', '\"\n",
    "semple_1 = sample[1].split(separator)"
   ]
  },
  {
   "cell_type": "code",
   "execution_count": 226,
   "id": "1f89b78d",
   "metadata": {
    "scrolled": true
   },
   "outputs": [],
   "source": [
    "def create_list_of_dic(filename):\n",
    "    my_list_dic=[]\n",
    "    my_list = str(get_lines(filename))\n",
    "    sample = my_list.split('###')\n",
    "    for f in range(len(sample)-1):\n",
    "        sample[f+1]\n",
    "        separator = \"\\\\n', '\"\n",
    "        semple_1 = sample[f].split(separator)\n",
    "        \n",
    "        count = 0\n",
    "        total_lines = len(semple_1[1:-2])-1\n",
    "        for i in semple_1[1:-2]:\n",
    "            temp_dic = {}\n",
    "            _key, value, *other = i.split('\\\\t')\n",
    "            if value:\n",
    "            #     print(f'{_key, value}\\n')\n",
    "                temp_dic['line_number'] = count\n",
    "                temp_dic['target'] = _key\n",
    "                temp_dic['text'] = value\n",
    "                temp_dic['total_lines'] = total_lines\n",
    "                my_list_dic.append(temp_dic)\n",
    "                count+=1\n",
    "    return my_list_dic"
   ]
  },
  {
   "cell_type": "code",
   "execution_count": 227,
   "id": "9c82a33e",
   "metadata": {
    "scrolled": true
   },
   "outputs": [
    {
     "data": {
      "text/plain": [
       "[{'line_number': 0,\n",
       "  'target': 'OBJECTIVE',\n",
       "  'text': 'To investigate the efficacy of @ weeks of daily low-dose oral prednisolone in improving pain , mobility , and systemic low-grade inflammation in the short term and whether the effect would be sustained at @ weeks in older adults with moderate to severe knee osteoarthritis ( OA ) .',\n",
       "  'total_lines': 11},\n",
       " {'line_number': 1,\n",
       "  'target': 'METHODS',\n",
       "  'text': 'A total of @ patients with primary knee OA were randomized @:@ ; @ received @ mg/day of prednisolone and @ received placebo for @ weeks .',\n",
       "  'total_lines': 11},\n",
       " {'line_number': 2,\n",
       "  'target': 'METHODS',\n",
       "  'text': 'Outcome measures included pain reduction and improvement in function scores and systemic inflammation markers .',\n",
       "  'total_lines': 11},\n",
       " {'line_number': 3,\n",
       "  'target': 'METHODS',\n",
       "  'text': 'Pain was assessed using the visual analog pain scale ( @-@ mm ) .',\n",
       "  'total_lines': 11},\n",
       " {'line_number': 4,\n",
       "  'target': 'METHODS',\n",
       "  'text': 'Secondary outcome measures included the Western Ontario and McMaster Universities Osteoarthritis Index scores , patient global assessment ( PGA ) of the severity of knee OA , and @-min walk distance ( @MWD ) .',\n",
       "  'total_lines': 11},\n",
       " {'line_number': 5,\n",
       "  'target': 'METHODS',\n",
       "  'text': 'Serum levels of interleukin @ ( IL-@ ) , IL-@ , tumor necrosis factor ( TNF ) - , and high-sensitivity C-reactive protein ( hsCRP ) were measured .',\n",
       "  'total_lines': 11},\n",
       " {'line_number': 6,\n",
       "  'target': 'RESULTS',\n",
       "  'text': 'There was a clinically relevant reduction in the intervention group compared to the placebo group for knee pain , physical function , PGA , and @MWD at @ weeks .',\n",
       "  'total_lines': 11},\n",
       " {'line_number': 7,\n",
       "  'target': 'RESULTS',\n",
       "  'text': 'The mean difference between treatment arms ( @ % CI ) was @ ( @-@ @ ) , p < @ ; @ ( @-@ @ ) , p < @ ; @ ( @-@ @ ) , p < @ ; and @ ( @-@ @ ) , p < @ , respectively .',\n",
       "  'total_lines': 11},\n",
       " {'line_number': 8,\n",
       "  'target': 'RESULTS',\n",
       "  'text': 'Further , there was a clinically relevant reduction in the serum levels of IL-@ , IL-@ , TNF - , and hsCRP at @ weeks in the intervention group when compared to the placebo group .',\n",
       "  'total_lines': 11},\n",
       " {'line_number': 9,\n",
       "  'target': 'RESULTS',\n",
       "  'text': 'These differences remained significant at @ weeks .',\n",
       "  'total_lines': 11},\n",
       " {'line_number': 10,\n",
       "  'target': 'RESULTS',\n",
       "  'text': 'The Outcome Measures in Rheumatology Clinical Trials-Osteoarthritis Research Society International responder rate was @ % in the intervention group and @ % in the placebo group ( p < @ ) .',\n",
       "  'total_lines': 11},\n",
       " {'line_number': 11,\n",
       "  'target': 'CONCLUSIONS',\n",
       "  'text': 'Low-dose oral prednisolone had both a short-term and a longer sustained effect resulting in less knee pain , better physical function , and attenuation of systemic inflammation in older patients with knee OA ( ClinicalTrials.gov identifier NCT@ ) .',\n",
       "  'total_lines': 11},\n",
       " {'line_number': 0,\n",
       "  'target': 'BACKGROUND',\n",
       "  'text': 'Emotional eating is associated with overeating and the development of obesity .',\n",
       "  'total_lines': 10},\n",
       " {'line_number': 1,\n",
       "  'target': 'BACKGROUND',\n",
       "  'text': 'Yet , empirical evidence for individual ( trait ) differences in emotional eating and cognitive mechanisms that contribute to eating during sad mood remain equivocal .',\n",
       "  'total_lines': 10}]"
      ]
     },
     "execution_count": 227,
     "metadata": {},
     "output_type": "execute_result"
    }
   ],
   "source": [
    "my_list_dic = create_list_of_dic('pubmed-rct/PubMed_20k_RCT_numbers_replaced_with_at_sign/train.txt')\n",
    "my_list_dic[:14]"
   ]
  },
  {
   "cell_type": "code",
   "execution_count": 228,
   "id": "16d83818",
   "metadata": {},
   "outputs": [
    {
     "data": {
      "text/plain": [
       "[{'line_number': 2,\n",
       "  'target': 'OBJECTIVE',\n",
       "  'text': 'The aim of this study was to test if attention bias for food moderates the effect of self-reported emotional eating during sad mood ( vs neutral mood ) on actual food intake .',\n",
       "  'total_lines': 10},\n",
       " {'line_number': 3,\n",
       "  'target': 'OBJECTIVE',\n",
       "  'text': 'It was expected that emotional eating is predictive of elevated attention for food and higher food intake after an experimentally induced sad mood and that attentional maintenance on food predicts food intake during a sad versus a neutral mood .',\n",
       "  'total_lines': 10},\n",
       " {'line_number': 4,\n",
       "  'target': 'METHODS',\n",
       "  'text': 'Participants ( N = @ ) were randomly assigned to one of the two experimental mood induction conditions ( sad/neutral ) .',\n",
       "  'total_lines': 10},\n",
       " {'line_number': 5,\n",
       "  'target': 'METHODS',\n",
       "  'text': 'Attentional biases for high caloric foods were measured by eye tracking during a visual probe task with pictorial food and neutral stimuli .',\n",
       "  'total_lines': 10},\n",
       " {'line_number': 6,\n",
       "  'target': 'METHODS',\n",
       "  'text': 'Self-reported emotional eating was assessed with the Dutch Eating Behavior Questionnaire ( DEBQ ) and ad libitum food intake was tested by a disguised food offer .',\n",
       "  'total_lines': 10},\n",
       " {'line_number': 7,\n",
       "  'target': 'RESULTS',\n",
       "  'text': 'Hierarchical multivariate regression modeling showed that self-reported emotional eating did not account for changes in attention allocation for food or food intake in either condition .',\n",
       "  'total_lines': 10},\n",
       " {'line_number': 8,\n",
       "  'target': 'RESULTS',\n",
       "  'text': 'Yet , attention maintenance on food cues was significantly related to increased intake specifically in the neutral condition , but not in the sad mood condition .',\n",
       "  'total_lines': 10},\n",
       " {'line_number': 9,\n",
       "  'target': 'CONCLUSIONS',\n",
       "  'text': 'The current findings show that self-reported emotional eating ( based on the DEBQ ) might not validly predict who overeats when sad , at least not in a laboratory setting with healthy women .',\n",
       "  'total_lines': 10},\n",
       " {'line_number': 10,\n",
       "  'target': 'CONCLUSIONS',\n",
       "  'text': 'Results further suggest that attention maintenance on food relates to eating motivation when in a neutral affective state , and might therefore be a cognitive mechanism contributing to increased food intake in general , but maybe not during sad mood .',\n",
       "  'total_lines': 10},\n",
       " {'line_number': 0,\n",
       "  'target': 'BACKGROUND',\n",
       "  'text': 'Although working smoke alarms halve deaths in residential fires , many households do not keep alarms operational .',\n",
       "  'total_lines': 12},\n",
       " {'line_number': 1,\n",
       "  'target': 'BACKGROUND',\n",
       "  'text': 'We tested whether theory-based education increases alarm operability .',\n",
       "  'total_lines': 12},\n",
       " {'line_number': 2,\n",
       "  'target': 'METHODS',\n",
       "  'text': 'Randomised multiarm trial , with a single arm randomly selected for use each day , in low-income neighbourhoods in Maryland , USA .\\\\n\\', \"METHODS',\n",
       "  'total_lines': 12},\n",
       " {'line_number': 3,\n",
       "  'target': 'METHODS',\n",
       "  'text': 'Follow-up visits checked alarm operability in @ homes ( @ % ) @-@ @ years after installation .',\n",
       "  'total_lines': 12},\n",
       " {'line_number': 4,\n",
       "  'target': 'METHODS',\n",
       "  'text': 'number of homes with working alarms defined as alarms with working batteries or hard-wired and number of working alarms per home .',\n",
       "  'total_lines': 12},\n",
       " {'line_number': 5,\n",
       "  'target': 'METHODS',\n",
       "  'text': 'Regressions controlled for alarm status preintervention ; demographics and beliefs about fire risks and alarm effectiveness .',\n",
       "  'total_lines': 12},\n",
       " {'line_number': 6,\n",
       "  'target': 'RESULTS',\n",
       "  'text': 'Homes in the Full Education and Practice arms were more likely to have a functioning smoke alarm at follow-up ( OR = @ , @ % CI @ to @ ) and had an average of @ more working alarms per home ( @ % CI @ to @ ) .',\n",
       "  'total_lines': 12}]"
      ]
     },
     "execution_count": 228,
     "metadata": {},
     "output_type": "execute_result"
    }
   ],
   "source": [
    "my_list_dic[14:30]"
   ]
  },
  {
   "cell_type": "code",
   "execution_count": 198,
   "id": "377513f2",
   "metadata": {},
   "outputs": [
    {
     "name": "stderr",
     "output_type": "stream",
     "text": [
      "warning: LF will be replaced by CRLF in 09_SkimLit_nlp_milestone_project_2.ipynb.\n",
      "The file will have its original line endings in your working directory\n"
     ]
    }
   ],
   "source": [
    "! git add 09_SkimLit_nlp_milestone_project_2.ipynb"
   ]
  },
  {
   "cell_type": "code",
   "execution_count": 199,
   "id": "770560d6",
   "metadata": {},
   "outputs": [
    {
     "name": "stdout",
     "output_type": "stream",
     "text": [
      "[master c743540] new commit\n",
      " 1 file changed, 660 insertions(+), 597 deletions(-)\n",
      " rewrite 09_SkimLit_nlp_milestone_project_2.ipynb (99%)\n"
     ]
    }
   ],
   "source": [
    "!git commit -m \"new commit\""
   ]
  },
  {
   "cell_type": "code",
   "execution_count": 200,
   "id": "bc2e454f",
   "metadata": {},
   "outputs": [
    {
     "name": "stdout",
     "output_type": "stream",
     "text": [
      "Branch 'master' set up to track remote branch 'master' from 'origin'.\n"
     ]
    },
    {
     "name": "stderr",
     "output_type": "stream",
     "text": [
      "To https://github.com/Semen-B/NLP_Medical_Paper_Abstracts.git\n",
      "   40874cc..c743540  master -> master\n"
     ]
    }
   ],
   "source": [
    "!git push -u origin master"
   ]
  },
  {
   "cell_type": "code",
   "execution_count": 203,
   "id": "c632e4fd",
   "metadata": {},
   "outputs": [],
   "source": [
    "def preprocess_text_with_line_numbers(filename):\n",
    "    \"\"\"Returns a list of dictionaries of abstract line data.\n",
    "\n",
    "    Takes in filename, reads its contents and sorts through each line,\n",
    "    extracting things like the target label, the text of the sentence,\n",
    "    how many sentences are in the current abstract and what sentence number\n",
    "    the target line is.\n",
    "\n",
    "    Args:\n",
    "      filename: a string of the target text file to read and extract line data\n",
    "      from.\n",
    "\n",
    "    Returns:\n",
    "      A list of dictionaries each containing a line from an abstract,\n",
    "      the lines label, the lines position in the abstract and the total number\n",
    "      of lines in the abstract where the line is from. For example:\n",
    "\n",
    "      [{\"target\": 'CONCLUSION',\n",
    "        \"text\": The study couldn't have gone better, turns out people are kinder than you think\",\n",
    "        \"line_number\": 8,\n",
    "        \"total_lines\": 8}]\n",
    "    \"\"\"\n",
    "    input_lines = get_lines(filename) # get all lines from filename\n",
    "    abstract_lines = \"\" # create an empty abstract\n",
    "    abstract_samples = [] # create an empty list of abstracts\n",
    "\n",
    "    # Loop through each line in target file\n",
    "    for line in input_lines:\n",
    "        if line.startswith(\"###\"): # check to see if line is an ID line\n",
    "            abstract_id = line\n",
    "            abstract_lines = \"\" # reset abstract string\n",
    "        elif line.isspace(): # check to see if line is a new line\n",
    "            abstract_line_split = abstract_lines.splitlines() # split abstract into separate lines\n",
    "\n",
    "            # Iterate through each line in abstract and count them at the same time\n",
    "            for abstract_line_number, abstract_line in enumerate(abstract_line_split):\n",
    "                line_data = {} # create empty dict to store data from line\n",
    "                target_text_split = abstract_line.split(\"\\t\") # split target label from text\n",
    "                line_data[\"target\"] = target_text_split[0] # get target label\n",
    "                line_data[\"text\"] = target_text_split[1].lower() # get target text and lower it\n",
    "                line_data[\"line_number\"] = abstract_line_number # what number line does the line appear in the abstract?\n",
    "                line_data[\"total_lines\"] = len(abstract_line_split) - 1 # how many total lines are in the abstract? (start from 0)\n",
    "                abstract_samples.append(line_data) # add line data to abstract samples list\n",
    "\n",
    "        else: # if the above conditions aren't fulfilled, the line contains a labelled sentence\n",
    "            abstract_lines += line\n",
    "\n",
    "    return abstract_samples"
   ]
  },
  {
   "cell_type": "code",
   "execution_count": 204,
   "id": "c6d9d511",
   "metadata": {},
   "outputs": [],
   "source": [
    "data_dir = \"pubmed-rct/PubMed_20k_RCT_numbers_replaced_with_at_sign/\"\n",
    "train_samples = preprocess_text_with_line_numbers(data_dir + \"train.txt\")\n",
    "val_samples = preprocess_text_with_line_numbers(data_dir + \"dev.txt\") # dev is another name for validation set\n",
    "test_samples = preprocess_text_with_line_numbers(data_dir + \"test.txt\")\n"
   ]
  },
  {
   "cell_type": "code",
   "execution_count": 205,
   "id": "8d294fd4",
   "metadata": {
    "scrolled": true
   },
   "outputs": [
    {
     "data": {
      "text/plain": [
       "[{'target': 'OBJECTIVE',\n",
       "  'text': 'to investigate the efficacy of @ weeks of daily low-dose oral prednisolone in improving pain , mobility , and systemic low-grade inflammation in the short term and whether the effect would be sustained at @ weeks in older adults with moderate to severe knee osteoarthritis ( oa ) .',\n",
       "  'line_number': 0,\n",
       "  'total_lines': 11},\n",
       " {'target': 'METHODS',\n",
       "  'text': 'a total of @ patients with primary knee oa were randomized @:@ ; @ received @ mg/day of prednisolone and @ received placebo for @ weeks .',\n",
       "  'line_number': 1,\n",
       "  'total_lines': 11},\n",
       " {'target': 'METHODS',\n",
       "  'text': 'outcome measures included pain reduction and improvement in function scores and systemic inflammation markers .',\n",
       "  'line_number': 2,\n",
       "  'total_lines': 11},\n",
       " {'target': 'METHODS',\n",
       "  'text': 'pain was assessed using the visual analog pain scale ( @-@ mm ) .',\n",
       "  'line_number': 3,\n",
       "  'total_lines': 11},\n",
       " {'target': 'METHODS',\n",
       "  'text': 'secondary outcome measures included the western ontario and mcmaster universities osteoarthritis index scores , patient global assessment ( pga ) of the severity of knee oa , and @-min walk distance ( @mwd ) .',\n",
       "  'line_number': 4,\n",
       "  'total_lines': 11},\n",
       " {'target': 'METHODS',\n",
       "  'text': 'serum levels of interleukin @ ( il-@ ) , il-@ , tumor necrosis factor ( tnf ) - , and high-sensitivity c-reactive protein ( hscrp ) were measured .',\n",
       "  'line_number': 5,\n",
       "  'total_lines': 11},\n",
       " {'target': 'RESULTS',\n",
       "  'text': 'there was a clinically relevant reduction in the intervention group compared to the placebo group for knee pain , physical function , pga , and @mwd at @ weeks .',\n",
       "  'line_number': 6,\n",
       "  'total_lines': 11},\n",
       " {'target': 'RESULTS',\n",
       "  'text': 'the mean difference between treatment arms ( @ % ci ) was @ ( @-@ @ ) , p < @ ; @ ( @-@ @ ) , p < @ ; @ ( @-@ @ ) , p < @ ; and @ ( @-@ @ ) , p < @ , respectively .',\n",
       "  'line_number': 7,\n",
       "  'total_lines': 11},\n",
       " {'target': 'RESULTS',\n",
       "  'text': 'further , there was a clinically relevant reduction in the serum levels of il-@ , il-@ , tnf - , and hscrp at @ weeks in the intervention group when compared to the placebo group .',\n",
       "  'line_number': 8,\n",
       "  'total_lines': 11},\n",
       " {'target': 'RESULTS',\n",
       "  'text': 'these differences remained significant at @ weeks .',\n",
       "  'line_number': 9,\n",
       "  'total_lines': 11},\n",
       " {'target': 'RESULTS',\n",
       "  'text': 'the outcome measures in rheumatology clinical trials-osteoarthritis research society international responder rate was @ % in the intervention group and @ % in the placebo group ( p < @ ) .',\n",
       "  'line_number': 10,\n",
       "  'total_lines': 11},\n",
       " {'target': 'CONCLUSIONS',\n",
       "  'text': 'low-dose oral prednisolone had both a short-term and a longer sustained effect resulting in less knee pain , better physical function , and attenuation of systemic inflammation in older patients with knee oa ( clinicaltrials.gov identifier nct@ ) .',\n",
       "  'line_number': 11,\n",
       "  'total_lines': 11},\n",
       " {'target': 'BACKGROUND',\n",
       "  'text': 'emotional eating is associated with overeating and the development of obesity .',\n",
       "  'line_number': 0,\n",
       "  'total_lines': 10},\n",
       " {'target': 'BACKGROUND',\n",
       "  'text': 'yet , empirical evidence for individual ( trait ) differences in emotional eating and cognitive mechanisms that contribute to eating during sad mood remain equivocal .',\n",
       "  'line_number': 1,\n",
       "  'total_lines': 10}]"
      ]
     },
     "execution_count": 205,
     "metadata": {},
     "output_type": "execute_result"
    }
   ],
   "source": [
    "# Check the first abstract of our training data\n",
    "train_samples[:14]"
   ]
  },
  {
   "cell_type": "code",
   "execution_count": 229,
   "id": "8dea3785",
   "metadata": {
    "scrolled": true
   },
   "outputs": [
    {
     "data": {
      "text/plain": [
       "[{'target': 'OBJECTIVE',\n",
       "  'text': 'the aim of this study was to test if attention bias for food moderates the effect of self-reported emotional eating during sad mood ( vs neutral mood ) on actual food intake .',\n",
       "  'line_number': 2,\n",
       "  'total_lines': 10},\n",
       " {'target': 'OBJECTIVE',\n",
       "  'text': 'it was expected that emotional eating is predictive of elevated attention for food and higher food intake after an experimentally induced sad mood and that attentional maintenance on food predicts food intake during a sad versus a neutral mood .',\n",
       "  'line_number': 3,\n",
       "  'total_lines': 10},\n",
       " {'target': 'METHODS',\n",
       "  'text': 'participants ( n = @ ) were randomly assigned to one of the two experimental mood induction conditions ( sad/neutral ) .',\n",
       "  'line_number': 4,\n",
       "  'total_lines': 10},\n",
       " {'target': 'METHODS',\n",
       "  'text': 'attentional biases for high caloric foods were measured by eye tracking during a visual probe task with pictorial food and neutral stimuli .',\n",
       "  'line_number': 5,\n",
       "  'total_lines': 10},\n",
       " {'target': 'METHODS',\n",
       "  'text': 'self-reported emotional eating was assessed with the dutch eating behavior questionnaire ( debq ) and ad libitum food intake was tested by a disguised food offer .',\n",
       "  'line_number': 6,\n",
       "  'total_lines': 10},\n",
       " {'target': 'RESULTS',\n",
       "  'text': 'hierarchical multivariate regression modeling showed that self-reported emotional eating did not account for changes in attention allocation for food or food intake in either condition .',\n",
       "  'line_number': 7,\n",
       "  'total_lines': 10},\n",
       " {'target': 'RESULTS',\n",
       "  'text': 'yet , attention maintenance on food cues was significantly related to increased intake specifically in the neutral condition , but not in the sad mood condition .',\n",
       "  'line_number': 8,\n",
       "  'total_lines': 10},\n",
       " {'target': 'CONCLUSIONS',\n",
       "  'text': 'the current findings show that self-reported emotional eating ( based on the debq ) might not validly predict who overeats when sad , at least not in a laboratory setting with healthy women .',\n",
       "  'line_number': 9,\n",
       "  'total_lines': 10},\n",
       " {'target': 'CONCLUSIONS',\n",
       "  'text': 'results further suggest that attention maintenance on food relates to eating motivation when in a neutral affective state , and might therefore be a cognitive mechanism contributing to increased food intake in general , but maybe not during sad mood .',\n",
       "  'line_number': 10,\n",
       "  'total_lines': 10},\n",
       " {'target': 'BACKGROUND',\n",
       "  'text': 'although working smoke alarms halve deaths in residential fires , many households do not keep alarms operational .',\n",
       "  'line_number': 0,\n",
       "  'total_lines': 14},\n",
       " {'target': 'BACKGROUND',\n",
       "  'text': 'we tested whether theory-based education increases alarm operability .',\n",
       "  'line_number': 1,\n",
       "  'total_lines': 14},\n",
       " {'target': 'METHODS',\n",
       "  'text': 'randomised multiarm trial , with a single arm randomly selected for use each day , in low-income neighbourhoods in maryland , usa .',\n",
       "  'line_number': 2,\n",
       "  'total_lines': 14},\n",
       " {'target': 'METHODS',\n",
       "  'text': \"intervention arms : ( @ ) full education combining a health belief module with a social-cognitive theory module that provided hands-on practice installing alarm batteries and using the alarm 's hush button ; ( @ ) hands-on practice social-cognitive module supplemented by typical fire department education ; ( @ ) current norm receiving typical fire department education only .\",\n",
       "  'line_number': 3,\n",
       "  'total_lines': 14},\n",
       " {'target': 'METHODS',\n",
       "  'text': 'four hundred and thirty-six homes recruited through churches or by knocking on doors in @-@ .',\n",
       "  'line_number': 4,\n",
       "  'total_lines': 14},\n",
       " {'target': 'METHODS',\n",
       "  'text': 'follow-up visits checked alarm operability in @ homes ( @ % ) @-@ @ years after installation .',\n",
       "  'line_number': 5,\n",
       "  'total_lines': 14},\n",
       " {'target': 'METHODS',\n",
       "  'text': 'number of homes with working alarms defined as alarms with working batteries or hard-wired and number of working alarms per home .',\n",
       "  'line_number': 6,\n",
       "  'total_lines': 14},\n",
       " {'target': 'METHODS',\n",
       "  'text': 'regressions controlled for alarm status preintervention ; demographics and beliefs about fire risks and alarm effectiveness .',\n",
       "  'line_number': 7,\n",
       "  'total_lines': 14},\n",
       " {'target': 'RESULTS',\n",
       "  'text': 'homes in the full education and practice arms were more likely to have a functioning smoke alarm at follow-up ( or = @ , @ % ci @ to @ ) and had an average of @ more working alarms per home ( @ % ci @ to @ ) .',\n",
       "  'line_number': 8,\n",
       "  'total_lines': 14},\n",
       " {'target': 'RESULTS',\n",
       "  'text': 'working alarms per home rose @ % .',\n",
       "  'line_number': 9,\n",
       "  'total_lines': 14},\n",
       " {'target': 'RESULTS',\n",
       "  'text': 'full education and practice had similar effectiveness ( p = @ on both outcome measures ) .',\n",
       "  'line_number': 10,\n",
       "  'total_lines': 14},\n",
       " {'target': 'CONCLUSIONS',\n",
       "  'text': 'without exceeding typical fire department installation time , installers can achieve greater smoke alarm operability .',\n",
       "  'line_number': 11,\n",
       "  'total_lines': 14},\n",
       " {'target': 'CONCLUSIONS',\n",
       "  'text': 'hands-on practice is key .',\n",
       "  'line_number': 12,\n",
       "  'total_lines': 14},\n",
       " {'target': 'CONCLUSIONS',\n",
       "  'text': 'two years after installation , for every three homes that received hands-on practice , one had an additional working alarm .',\n",
       "  'line_number': 13,\n",
       "  'total_lines': 14},\n",
       " {'target': 'BACKGROUND',\n",
       "  'text': 'http://www.clinicaltrials.gov number nct@ .',\n",
       "  'line_number': 14,\n",
       "  'total_lines': 14},\n",
       " {'target': 'OBJECTIVE',\n",
       "  'text': 'to evaluate the performance ( efficacy , safety and acceptability ) of a new micro-adherent absorbent dressing ( urgoclean ) compared with a hydrofiber dressing ( aquacel ) in the local management of venous leg ulcers , in the debridement stage .',\n",
       "  'line_number': 0,\n",
       "  'total_lines': 16},\n",
       " {'target': 'METHODS',\n",
       "  'text': 'a non-inferiority european randomised controlled clinical trial ( rct ) was conducted in @ centres , on patients presenting with venous or predominantly venous , mixed aetiology leg ulcers at their sloughy stage ( with more than @ % of the wound bed covered with slough at baseline ) .',\n",
       "  'line_number': 1,\n",
       "  'total_lines': 16}]"
      ]
     },
     "execution_count": 229,
     "metadata": {},
     "output_type": "execute_result"
    }
   ],
   "source": [
    "train_samples[14:40]"
   ]
  },
  {
   "cell_type": "code",
   "execution_count": null,
   "id": "fd7d4a2a",
   "metadata": {},
   "outputs": [],
   "source": []
  }
 ],
 "metadata": {
  "kernelspec": {
   "display_name": "gpu_test_3",
   "language": "python",
   "name": "gpu_test_3"
  },
  "language_info": {
   "codemirror_mode": {
    "name": "ipython",
    "version": 3
   },
   "file_extension": ".py",
   "mimetype": "text/x-python",
   "name": "python",
   "nbconvert_exporter": "python",
   "pygments_lexer": "ipython3",
   "version": "3.9.10"
  }
 },
 "nbformat": 4,
 "nbformat_minor": 5
}
