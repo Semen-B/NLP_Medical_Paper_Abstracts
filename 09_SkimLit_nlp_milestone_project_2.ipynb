{
 "cells": [
  {
   "cell_type": "code",
   "execution_count": 1,
   "id": "78c500d4",
   "metadata": {},
   "outputs": [
    {
     "name": "stdout",
     "output_type": "stream",
     "text": [
      "GPU 0: NVIDIA GeForce RTX 3060 Laptop GPU (UUID: GPU-63841278-b94a-af1d-b385-7d84275529fb)\n"
     ]
    }
   ],
   "source": [
    "# Check for GPU\n",
    "!nvidia-smi -L\n"
   ]
  },
  {
   "cell_type": "code",
   "execution_count": 5,
   "id": "6b45d932",
   "metadata": {},
   "outputs": [
    {
     "name": "stderr",
     "output_type": "stream",
     "text": [
      "fatal: not a git repository (or any of the parent directories): .git\n"
     ]
    }
   ],
   "source": [
    "!git status"
   ]
  },
  {
   "cell_type": "code",
   "execution_count": 4,
   "id": "cd8a6fae",
   "metadata": {},
   "outputs": [
    {
     "name": "stderr",
     "output_type": "stream",
     "text": [
      "Cloning into 'NLP-Neural-Networks-for-Joint-Sentence-Classification-in-Medical-Paper-Abstracts'...\n"
     ]
    }
   ],
   "source": [
    "! git clone https://github.com/Semen-B/NLP-Neural-Networks-for-Joint-Sentence-Classification-in-Medical-Paper-Abstracts.git"
   ]
  },
  {
   "cell_type": "code",
   "execution_count": 24,
   "id": "bdc8939d",
   "metadata": {},
   "outputs": [
    {
     "name": "stderr",
     "output_type": "stream",
     "text": [
      "warning: LF will be replaced by CRLF in 09_SkimLit_nlp_milestone_project_2.ipynb.\n",
      "The file will have its original line endings in your working directory\n"
     ]
    }
   ],
   "source": [
    "! git add 09_SkimLit_nlp_milestone_project_2.ipynb"
   ]
  },
  {
   "cell_type": "code",
   "execution_count": 25,
   "id": "21836887",
   "metadata": {},
   "outputs": [
    {
     "name": "stdout",
     "output_type": "stream",
     "text": [
      "[main 75292df] fourth commit"
     ]
    },
    {
     "name": "stderr",
     "output_type": "stream",
     "text": [
      "Auto packing the repository in background for optimum performance.\n",
      "See \"git help gc\" for manual housekeeping.\n",
      "warning: There are too many unreachable loose objects; run 'git prune' to remove them.\n"
     ]
    },
    {
     "name": "stdout",
     "output_type": "stream",
     "text": [
      "\n",
      " 1 file changed, 102 insertions(+), 101 deletions(-)\n"
     ]
    }
   ],
   "source": [
    "! git commit -m \"fourth commit\""
   ]
  },
  {
   "cell_type": "code",
   "execution_count": 28,
   "id": "bcc87f08",
   "metadata": {},
   "outputs": [
    {
     "name": "stderr",
     "output_type": "stream",
     "text": [
      "error: remote origin already exists.\n"
     ]
    }
   ],
   "source": [
    "! git remote add origin https://github.com/Semen-B/NLP_Medical_Paper_Abstracts.git"
   ]
  },
  {
   "cell_type": "code",
   "execution_count": 21,
   "id": "5e4e2265",
   "metadata": {},
   "outputs": [],
   "source": [
    "! git branch -M main"
   ]
  },
  {
   "cell_type": "code",
   "execution_count": 27,
   "id": "5ec64bc7",
   "metadata": {},
   "outputs": [
    {
     "name": "stdout",
     "output_type": "stream",
     "text": [
      "* main\n"
     ]
    }
   ],
   "source": [
    "! git branch"
   ]
  },
  {
   "cell_type": "code",
   "execution_count": 30,
   "id": "d2144842",
   "metadata": {},
   "outputs": [
    {
     "name": "stderr",
     "output_type": "stream",
     "text": [
      "To https://github.com/Semen-B/NLP_Medical_Paper_Abstracts.git\n",
      " ! [rejected]        main -> main (fetch first)\n",
      "error: failed to push some refs to 'https://github.com/Semen-B/NLP_Medical_Paper_Abstracts.git'\n",
      "hint: Updates were rejected because the remote contains work that you do\n",
      "hint: not have locally. This is usually caused by another repository pushing\n",
      "hint: to the same ref. You may want to first integrate the remote changes\n",
      "hint: (e.g., 'git pull ...') before pushing again.\n",
      "hint: See the 'Note about fast-forwards' in 'git push --help' for details.\n"
     ]
    }
   ],
   "source": [
    "! git push -u origin main"
   ]
  },
  {
   "cell_type": "code",
   "execution_count": null,
   "id": "a9e5428b",
   "metadata": {},
   "outputs": [],
   "source": []
  }
 ],
 "metadata": {
  "kernelspec": {
   "display_name": "gpu_test_3",
   "language": "python",
   "name": "gpu_test_3"
  },
  "language_info": {
   "codemirror_mode": {
    "name": "ipython",
    "version": 3
   },
   "file_extension": ".py",
   "mimetype": "text/x-python",
   "name": "python",
   "nbconvert_exporter": "python",
   "pygments_lexer": "ipython3",
   "version": "3.9.10"
  }
 },
 "nbformat": 4,
 "nbformat_minor": 5
}
