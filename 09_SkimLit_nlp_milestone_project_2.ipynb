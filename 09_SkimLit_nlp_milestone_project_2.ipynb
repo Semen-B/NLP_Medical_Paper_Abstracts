{
 "cells": [
  {
   "cell_type": "code",
   "execution_count": 1,
   "id": "78c500d4",
   "metadata": {},
   "outputs": [
    {
     "name": "stdout",
     "output_type": "stream",
     "text": [
      "GPU 0: NVIDIA GeForce RTX 3060 Laptop GPU (UUID: GPU-63841278-b94a-af1d-b385-7d84275529fb)\n"
     ]
    }
   ],
   "source": [
    "# Check for GPU\n",
    "!nvidia-smi -L\n"
   ]
  },
  {
   "cell_type": "code",
   "execution_count": 2,
   "id": "6b45d932",
   "metadata": {
    "scrolled": true
   },
   "outputs": [
    {
     "name": "stdout",
     "output_type": "stream",
     "text": [
      "On branch master\n",
      "Your branch is up to date with 'origin/master'.\n",
      "\n",
      "Changes not staged for commit:\n",
      "  (use \"git add <file>...\" to update what will be committed)\n",
      "  (use \"git restore <file>...\" to discard changes in working directory)\n",
      "\tmodified:   09_SkimLit_nlp_milestone_project_2.ipynb\n",
      "\n",
      "Untracked files:\n",
      "  (use \"git add <file>...\" to include in what will be committed)\n",
      "\t.ipynb_checkpoints/\n",
      "\t02. Neural Network Classification with TensorFlow.ipynb\n",
      "\t03. Convolutional Neural Networks and Computer Vision with TensorFlow.ipynb\n",
      "\t04_transfer_learning_in_tensorflow_part_1_feature_extraction.ipynb\n",
      "\t05_transfer_learning_in_tensorflow_part_2_fine_tuning.ipynb\n",
      "\t\"06. Transfer Learning with TensorFlow Part 3 Scaling up (\\360\\237\\215\\224\\360\\237\\221\\201 Food Vision mini).ipynb\"\n",
      "\t06_101_food_class_10_percent_saved_big_dog_model.zip\n",
      "\t06_101_food_class_10_percent_saved_big_dog_model.zip.1\n",
      "\t06_101_food_class_10_percent_saved_big_dog_model/\n",
      "\t07_efficientnetb0_feature_extract_model_mixed_precision.zip\n",
      "\t07_efficientnetb0_feature_extract_model_mixed_precision/\n",
      "\t07_food_vision_milestone_project_1.ipynb\n",
      "\t08_introduction_to_nlp_in_tensorflow.ipynb\n",
      "\t101_classes_10_percent_data_model_checkpoint.data-00000-of-00001\n",
      "\t101_classes_10_percent_data_model_checkpoint.index\n",
      "\t101_food_classes_10_percent.zip\n",
      "\t101_food_classes_10_percent/\n",
      "\t10_food_classes_10_percent.zip\n",
      "\t10_food_classes_10_percent.zip.1\n",
      "\t10_food_classes_10_percent/\n",
      "\t10_food_classes_1_percent.zip\n",
      "\t10_food_classes_1_percent.zip.1\n",
      "\t10_food_classes_1_percent/\n",
      "\t10_food_classes_all_data/\n",
      "\tBig_dog_model/\n",
      "\tNLP-Neural-Networks-for-Joint-Sentence-Classification-in-Medical-Paper-Abstracts/\n",
      "\tTransfer_lerning_myself_test.ipynb\n",
      "\tUntitled.ipynb\n",
      "\tUntitled1.ipynb\n",
      "\tUntitled2.ipynb\n",
      "\t__MACOSX/\n",
      "\t__pycache__/\n",
      "\tcheckpoint\n",
      "\tconfusion_matrix.png\n",
      "\tdesktop.ini\n",
      "\tfood_vision_model_checkpoints.data-00000-of-00001\n",
      "\tfood_vision_model_checkpoints.index\n",
      "\thelper_functions.py\n",
      "\thelper_functions.py.1\n",
      "\thelper_functions.py.2\n",
      "\thelper_functions.py.3\n",
      "\thelper_functions.py.4\n",
      "\tmodel_checkpoints_food_vision/\n",
      "\tmodel_checkpoints_food_vision_2/\n",
      "\tmy_LSTM/\n",
      "\tmy_LSTM_3/\n",
      "\tmy_LSTM_5/\n",
      "\tmy_LSTM_7/\n",
      "\tmy_LSTM_8/\n",
      "\tmy_dir_for_twiter_1/\n",
      "\tnlp_getting_started.zip\n",
      "\tpizza_steak/\n",
      "\tpubmed-rct/\n",
      "\tsample_submission.csv\n",
      "\tsaved_trained_model_multyclass/\n",
      "\tten_percent_model_checkpoints_weights/\n",
      "\ttensorflow_hub/\n",
      "\ttesla_model_3/\n",
      "\ttest.csv\n",
      "\ttrain.csv\n",
      "\ttraining_logs/\n",
      "\ttransfer_learning/\n",
      "\ttransfer_learning_7/\n",
      "\ttransfet_lerning/\n",
      "\n",
      "no changes added to commit (use \"git add\" and/or \"git commit -a\")\n"
     ]
    }
   ],
   "source": [
    "!git status"
   ]
  },
  {
   "cell_type": "code",
   "execution_count": 52,
   "id": "cd8a6fae",
   "metadata": {},
   "outputs": [
    {
     "name": "stderr",
     "output_type": "stream",
     "text": [
      "fatal: destination path 'NLP-Neural-Networks-for-Joint-Sentence-Classification-in-Medical-Paper-Abstracts' already exists and is not an empty directory.\n"
     ]
    }
   ],
   "source": [
    "! git clone https://github.com/Semen-B/NLP-Neural-Networks-for-Joint-Sentence-Classification-in-Medical-Paper-Abstracts.git"
   ]
  },
  {
   "cell_type": "code",
   "execution_count": 66,
   "id": "79fa9ad5",
   "metadata": {},
   "outputs": [
    {
     "name": "stderr",
     "output_type": "stream",
     "text": [
      "warning: LF will be replaced by CRLF in 09_SkimLit_nlp_milestone_project_2.ipynb.\n",
      "The file will have its original line endings in your working directory\n"
     ]
    }
   ],
   "source": [
    "! git add 09_SkimLit_nlp_milestone_project_2.ipynb"
   ]
  },
  {
   "cell_type": "code",
   "execution_count": 67,
   "id": "bec39327",
   "metadata": {},
   "outputs": [
    {
     "name": "stdout",
     "output_type": "stream",
     "text": [
      "[master 2978400] sixth commit\n",
      " 1 file changed, 126 insertions(+), 77 deletions(-)\n"
     ]
    }
   ],
   "source": [
    "! git commit -m \"sixth commit\""
   ]
  },
  {
   "cell_type": "code",
   "execution_count": 28,
   "id": "465635d5",
   "metadata": {},
   "outputs": [
    {
     "name": "stderr",
     "output_type": "stream",
     "text": [
      "error: remote origin already exists.\n"
     ]
    }
   ],
   "source": [
    "! git remote add origin https://github.com/Semen-B/NLP_Medical_Paper_Abstracts.git"
   ]
  },
  {
   "cell_type": "code",
   "execution_count": 62,
   "id": "2638cfd2",
   "metadata": {},
   "outputs": [],
   "source": [
    "! git branch -M master"
   ]
  },
  {
   "cell_type": "code",
   "execution_count": 68,
   "id": "abb19766",
   "metadata": {},
   "outputs": [
    {
     "name": "stdout",
     "output_type": "stream",
     "text": [
      "* master\n",
      "  tmp\n"
     ]
    }
   ],
   "source": [
    "! git branch"
   ]
  },
  {
   "cell_type": "code",
   "execution_count": 3,
   "id": "029dd88e",
   "metadata": {},
   "outputs": [
    {
     "name": "stdout",
     "output_type": "stream",
     "text": [
      "Branch 'master' set up to track remote branch 'master' from 'origin'."
     ]
    },
    {
     "name": "stderr",
     "output_type": "stream",
     "text": [
      "Everything up-to-date\n"
     ]
    },
    {
     "name": "stdout",
     "output_type": "stream",
     "text": [
      "\n"
     ]
    }
   ],
   "source": [
    "! git push -u origin master"
   ]
  },
  {
   "cell_type": "code",
   "execution_count": 65,
   "id": "07bf5105",
   "metadata": {},
   "outputs": [
    {
     "name": "stdout",
     "output_type": "stream",
     "text": [
      "Unstaged changes after reset:\n",
      "M\t09_SkimLit_nlp_milestone_project_2.ipynb\n"
     ]
    }
   ],
   "source": [
    "! git reset"
   ]
  },
  {
   "cell_type": "code",
   "execution_count": 70,
   "id": "f888a0f0",
   "metadata": {},
   "outputs": [
    {
     "name": "stderr",
     "output_type": "stream",
     "text": [
      "Cloning into 'pubmed-rct'...\n"
     ]
    }
   ],
   "source": [
    "!git clone https://github.com/Franck-Dernoncourt/pubmed-rct.git"
   ]
  },
  {
   "cell_type": "code",
   "execution_count": 4,
   "id": "2ff290fc",
   "metadata": {
    "scrolled": true
   },
   "outputs": [
    {
     "name": "stdout",
     "output_type": "stream",
     "text": [
      " Volume in drive C has no label.\n",
      " Volume Serial Number is AA66-8B4D\n",
      "\n",
      " Directory of C:\\Users\\semen\\Desktop\\pythonProject\\pubmed-rct\n",
      "\n",
      "05/01/2022  05:05 PM    <DIR>          .\n",
      "05/01/2022  05:05 PM    <DIR>          ..\n",
      "05/01/2022  05:14 PM    <DIR>          PubMed_200k_RCT\n",
      "05/01/2022  05:16 PM    <DIR>          PubMed_200k_RCT_numbers_replaced_with_at_sign\n",
      "05/01/2022  05:05 PM    <DIR>          PubMed_20k_RCT\n",
      "05/01/2022  05:05 PM    <DIR>          PubMed_20k_RCT_numbers_replaced_with_at_sign\n",
      "05/01/2022  05:05 PM             2,403 README.md\n",
      "               1 File(s)          2,403 bytes\n",
      "               6 Dir(s)  313,477,685,248 bytes free\n"
     ]
    }
   ],
   "source": [
    "!dir pubmed-rct"
   ]
  },
  {
   "cell_type": "code",
   "execution_count": 26,
   "id": "d7f80738",
   "metadata": {},
   "outputs": [
    {
     "name": "stdout",
     "output_type": "stream",
     "text": [
      " Volume in drive C has no label.\n",
      " Volume Serial Number is AA66-8B4D\n",
      "\n",
      " Directory of C:\\Users\\semen\\Desktop\\pythonProject\\pubmed-rct\\PubMed_20k_RCT_numbers_replaced_with_at_sign\n",
      "\n",
      "05/01/2022  05:05 PM    <DIR>          .\n",
      "05/01/2022  05:05 PM    <DIR>          ..\n",
      "05/01/2022  05:05 PM         4,880,409 dev.txt\n",
      "05/01/2022  05:05 PM         4,846,504 test.txt\n",
      "05/01/2022  05:05 PM        29,118,832 train.txt\n",
      "               3 File(s)     38,845,745 bytes\n",
      "               2 Dir(s)  313,476,956,160 bytes free\n"
     ]
    }
   ],
   "source": [
    "# Check what files are in the PubMed_20K dataset \n",
    "!dir pubmed-rct\\PubMed_20k_RCT_numbers_replaced_with_at_sign"
   ]
  },
  {
   "cell_type": "code",
   "execution_count": 6,
   "id": "36290cad",
   "metadata": {},
   "outputs": [],
   "source": [
    "# Create function to read the lines of a document\n",
    "def get_lines(filename):\n",
    "  \"\"\"\n",
    "  Reads filename (a text file) and returns the lines of text as a list.\n",
    "  \n",
    "  Args:\n",
    "      filename: a string containing the target filepath to read.\n",
    "  \n",
    "  Returns:\n",
    "      A list of strings with one string per line from the target filename.\n",
    "      For example:\n",
    "      [\"this is the first line of filename\",\n",
    "       \"this is the second line of filename\",\n",
    "       \"...\"]\n",
    "  \"\"\"\n",
    "  with open(filename, \"r\") as f:\n",
    "    return f.readlines()"
   ]
  },
  {
   "cell_type": "code",
   "execution_count": 7,
   "id": "dd023563",
   "metadata": {},
   "outputs": [
    {
     "ename": "NameError",
     "evalue": "name 'my_list' is not defined",
     "output_type": "error",
     "traceback": [
      "\u001b[1;31m---------------------------------------------------------------------------\u001b[0m",
      "\u001b[1;31mNameError\u001b[0m                                 Traceback (most recent call last)",
      "Input \u001b[1;32mIn [7]\u001b[0m, in \u001b[0;36m<module>\u001b[1;34m\u001b[0m\n\u001b[1;32m----> 1\u001b[0m sample \u001b[38;5;241m=\u001b[39m \u001b[43mmy_list\u001b[49m\u001b[38;5;241m.\u001b[39msplit(\u001b[38;5;124m'\u001b[39m\u001b[38;5;124m###\u001b[39m\u001b[38;5;124m'\u001b[39m)\n",
      "\u001b[1;31mNameError\u001b[0m: name 'my_list' is not defined"
     ]
    }
   ],
   "source": [
    "sample = my_list.split('###')"
   ]
  },
  {
   "cell_type": "code",
   "execution_count": 8,
   "id": "0bf70d67",
   "metadata": {},
   "outputs": [
    {
     "ename": "NameError",
     "evalue": "name 'sample' is not defined",
     "output_type": "error",
     "traceback": [
      "\u001b[1;31m---------------------------------------------------------------------------\u001b[0m",
      "\u001b[1;31mNameError\u001b[0m                                 Traceback (most recent call last)",
      "Input \u001b[1;32mIn [8]\u001b[0m, in \u001b[0;36m<module>\u001b[1;34m\u001b[0m\n\u001b[1;32m----> 1\u001b[0m \u001b[43msample\u001b[49m[\u001b[38;5;241m3\u001b[39m]\n",
      "\u001b[1;31mNameError\u001b[0m: name 'sample' is not defined"
     ]
    }
   ],
   "source": [
    "sample[3]"
   ]
  },
  {
   "cell_type": "code",
   "execution_count": 9,
   "id": "4d97fef6",
   "metadata": {
    "scrolled": true
   },
   "outputs": [
    {
     "ename": "NameError",
     "evalue": "name 'sample' is not defined",
     "output_type": "error",
     "traceback": [
      "\u001b[1;31m---------------------------------------------------------------------------\u001b[0m",
      "\u001b[1;31mNameError\u001b[0m                                 Traceback (most recent call last)",
      "Input \u001b[1;32mIn [9]\u001b[0m, in \u001b[0;36m<module>\u001b[1;34m\u001b[0m\n\u001b[0;32m      1\u001b[0m separator \u001b[38;5;241m=\u001b[39m \u001b[38;5;124m\"\u001b[39m\u001b[38;5;130;01m\\\\\u001b[39;00m\u001b[38;5;124mn\u001b[39m\u001b[38;5;124m'\u001b[39m\u001b[38;5;124m, \u001b[39m\u001b[38;5;124m'\u001b[39m\u001b[38;5;124m\"\u001b[39m\n\u001b[1;32m----> 2\u001b[0m semple_1 \u001b[38;5;241m=\u001b[39m \u001b[43msample\u001b[49m[\u001b[38;5;241m3\u001b[39m]\u001b[38;5;241m.\u001b[39msplit(separator)\n",
      "\u001b[1;31mNameError\u001b[0m: name 'sample' is not defined"
     ]
    }
   ],
   "source": [
    "separator = \"\\\\n', '\"\n",
    "semple_1 = sample[3].split(separator)"
   ]
  },
  {
   "cell_type": "code",
   "execution_count": 10,
   "id": "3646a771",
   "metadata": {},
   "outputs": [
    {
     "ename": "NameError",
     "evalue": "name 'semple_1' is not defined",
     "output_type": "error",
     "traceback": [
      "\u001b[1;31m---------------------------------------------------------------------------\u001b[0m",
      "\u001b[1;31mNameError\u001b[0m                                 Traceback (most recent call last)",
      "Input \u001b[1;32mIn [10]\u001b[0m, in \u001b[0;36m<module>\u001b[1;34m\u001b[0m\n\u001b[1;32m----> 1\u001b[0m \u001b[38;5;28;01mfor\u001b[39;00m i, m \u001b[38;5;129;01min\u001b[39;00m \u001b[38;5;28menumerate\u001b[39m(\u001b[43msemple_1\u001b[49m):\n\u001b[0;32m      2\u001b[0m     \u001b[38;5;28mprint\u001b[39m(\u001b[38;5;124mf\u001b[39m\u001b[38;5;124m'\u001b[39m\u001b[38;5;132;01m{\u001b[39;00mi, m\u001b[38;5;132;01m}\u001b[39;00m\u001b[38;5;130;01m\\n\u001b[39;00m\u001b[38;5;124m'\u001b[39m)\n",
      "\u001b[1;31mNameError\u001b[0m: name 'semple_1' is not defined"
     ]
    }
   ],
   "source": [
    "for i, m in enumerate(semple_1):\n",
    "    print(f'{i, m}\\n')"
   ]
  },
  {
   "cell_type": "code",
   "execution_count": 11,
   "id": "d29a4df1",
   "metadata": {},
   "outputs": [
    {
     "data": {
      "text/plain": [
       "[2, 3, 4]"
      ]
     },
     "execution_count": 11,
     "metadata": {},
     "output_type": "execute_result"
    }
   ],
   "source": [
    "lena = [1, 2, 3, 4, 5, 6]\n",
    "lena[1:-2]"
   ]
  },
  {
   "cell_type": "code",
   "execution_count": 12,
   "id": "4a419acd",
   "metadata": {
    "scrolled": true
   },
   "outputs": [],
   "source": [
    "def create_list_of_dic(filename):\n",
    "    my_list_dic=[]\n",
    "    my_list = str(get_lines(filename))\n",
    "    sample = my_list.split('###')\n",
    "    for f in range(len(sample)):\n",
    "        count = 0\n",
    "        separator = \"\\\\n\"\n",
    "        semple_1 = sample[f].split(separator)\n",
    "        total_lines = len(semple_1)-4\n",
    "        for i in semple_1[1:-2]:\n",
    "            temp_dic = {}\n",
    "            _key, value, *other = i.split('\\\\t')\n",
    "            temp_dic['target'] = ''.join(char for char in _key if char.isalnum())\n",
    "            temp_dic['text'] = value.lower()\n",
    "            temp_dic['line_number'] = count\n",
    "            temp_dic['total_lines'] = total_lines\n",
    "            my_list_dic.append(temp_dic)\n",
    "            count+=1\n",
    "    return my_list_dic"
   ]
  },
  {
   "cell_type": "code",
   "execution_count": 13,
   "id": "c2dbf86e",
   "metadata": {},
   "outputs": [
    {
     "data": {
      "text/plain": [
       "[{'target': 'OBJECTIVE',\n",
       "  'text': 'to investigate the efficacy of @ weeks of daily low-dose oral prednisolone in improving pain , mobility , and systemic low-grade inflammation in the short term and whether the effect would be sustained at @ weeks in older adults with moderate to severe knee osteoarthritis ( oa ) .',\n",
       "  'line_number': 0,\n",
       "  'total_lines': 11},\n",
       " {'target': 'METHODS',\n",
       "  'text': 'a total of @ patients with primary knee oa were randomized @:@ ; @ received @ mg/day of prednisolone and @ received placebo for @ weeks .',\n",
       "  'line_number': 1,\n",
       "  'total_lines': 11},\n",
       " {'target': 'METHODS',\n",
       "  'text': 'outcome measures included pain reduction and improvement in function scores and systemic inflammation markers .',\n",
       "  'line_number': 2,\n",
       "  'total_lines': 11},\n",
       " {'target': 'METHODS',\n",
       "  'text': 'pain was assessed using the visual analog pain scale ( @-@ mm ) .',\n",
       "  'line_number': 3,\n",
       "  'total_lines': 11},\n",
       " {'target': 'METHODS',\n",
       "  'text': 'secondary outcome measures included the western ontario and mcmaster universities osteoarthritis index scores , patient global assessment ( pga ) of the severity of knee oa , and @-min walk distance ( @mwd ) .',\n",
       "  'line_number': 4,\n",
       "  'total_lines': 11},\n",
       " {'target': 'METHODS',\n",
       "  'text': 'serum levels of interleukin @ ( il-@ ) , il-@ , tumor necrosis factor ( tnf ) - , and high-sensitivity c-reactive protein ( hscrp ) were measured .',\n",
       "  'line_number': 5,\n",
       "  'total_lines': 11},\n",
       " {'target': 'RESULTS',\n",
       "  'text': 'there was a clinically relevant reduction in the intervention group compared to the placebo group for knee pain , physical function , pga , and @mwd at @ weeks .',\n",
       "  'line_number': 6,\n",
       "  'total_lines': 11},\n",
       " {'target': 'RESULTS',\n",
       "  'text': 'the mean difference between treatment arms ( @ % ci ) was @ ( @-@ @ ) , p < @ ; @ ( @-@ @ ) , p < @ ; @ ( @-@ @ ) , p < @ ; and @ ( @-@ @ ) , p < @ , respectively .',\n",
       "  'line_number': 7,\n",
       "  'total_lines': 11},\n",
       " {'target': 'RESULTS',\n",
       "  'text': 'further , there was a clinically relevant reduction in the serum levels of il-@ , il-@ , tnf - , and hscrp at @ weeks in the intervention group when compared to the placebo group .',\n",
       "  'line_number': 8,\n",
       "  'total_lines': 11},\n",
       " {'target': 'RESULTS',\n",
       "  'text': 'these differences remained significant at @ weeks .',\n",
       "  'line_number': 9,\n",
       "  'total_lines': 11},\n",
       " {'target': 'RESULTS',\n",
       "  'text': 'the outcome measures in rheumatology clinical trials-osteoarthritis research society international responder rate was @ % in the intervention group and @ % in the placebo group ( p < @ ) .',\n",
       "  'line_number': 10,\n",
       "  'total_lines': 11},\n",
       " {'target': 'CONCLUSIONS',\n",
       "  'text': 'low-dose oral prednisolone had both a short-term and a longer sustained effect resulting in less knee pain , better physical function , and attenuation of systemic inflammation in older patients with knee oa ( clinicaltrials.gov identifier nct@ ) .',\n",
       "  'line_number': 11,\n",
       "  'total_lines': 11},\n",
       " {'target': 'BACKGROUND',\n",
       "  'text': 'emotional eating is associated with overeating and the development of obesity .',\n",
       "  'line_number': 0,\n",
       "  'total_lines': 10},\n",
       " {'target': 'BACKGROUND',\n",
       "  'text': 'yet , empirical evidence for individual ( trait ) differences in emotional eating and cognitive mechanisms that contribute to eating during sad mood remain equivocal .',\n",
       "  'line_number': 1,\n",
       "  'total_lines': 10},\n",
       " {'target': 'OBJECTIVE',\n",
       "  'text': 'the aim of this study was to test if attention bias for food moderates the effect of self-reported emotional eating during sad mood ( vs neutral mood ) on actual food intake .',\n",
       "  'line_number': 2,\n",
       "  'total_lines': 10},\n",
       " {'target': 'OBJECTIVE',\n",
       "  'text': 'it was expected that emotional eating is predictive of elevated attention for food and higher food intake after an experimentally induced sad mood and that attentional maintenance on food predicts food intake during a sad versus a neutral mood .',\n",
       "  'line_number': 3,\n",
       "  'total_lines': 10},\n",
       " {'target': 'METHODS',\n",
       "  'text': 'participants ( n = @ ) were randomly assigned to one of the two experimental mood induction conditions ( sad/neutral ) .',\n",
       "  'line_number': 4,\n",
       "  'total_lines': 10},\n",
       " {'target': 'METHODS',\n",
       "  'text': 'attentional biases for high caloric foods were measured by eye tracking during a visual probe task with pictorial food and neutral stimuli .',\n",
       "  'line_number': 5,\n",
       "  'total_lines': 10},\n",
       " {'target': 'METHODS',\n",
       "  'text': 'self-reported emotional eating was assessed with the dutch eating behavior questionnaire ( debq ) and ad libitum food intake was tested by a disguised food offer .',\n",
       "  'line_number': 6,\n",
       "  'total_lines': 10},\n",
       " {'target': 'RESULTS',\n",
       "  'text': 'hierarchical multivariate regression modeling showed that self-reported emotional eating did not account for changes in attention allocation for food or food intake in either condition .',\n",
       "  'line_number': 7,\n",
       "  'total_lines': 10},\n",
       " {'target': 'RESULTS',\n",
       "  'text': 'yet , attention maintenance on food cues was significantly related to increased intake specifically in the neutral condition , but not in the sad mood condition .',\n",
       "  'line_number': 8,\n",
       "  'total_lines': 10},\n",
       " {'target': 'CONCLUSIONS',\n",
       "  'text': 'the current findings show that self-reported emotional eating ( based on the debq ) might not validly predict who overeats when sad , at least not in a laboratory setting with healthy women .',\n",
       "  'line_number': 9,\n",
       "  'total_lines': 10},\n",
       " {'target': 'CONCLUSIONS',\n",
       "  'text': 'results further suggest that attention maintenance on food relates to eating motivation when in a neutral affective state , and might therefore be a cognitive mechanism contributing to increased food intake in general , but maybe not during sad mood .',\n",
       "  'line_number': 10,\n",
       "  'total_lines': 10},\n",
       " {'target': 'BACKGROUND',\n",
       "  'text': 'although working smoke alarms halve deaths in residential fires , many households do not keep alarms operational .',\n",
       "  'line_number': 0,\n",
       "  'total_lines': 14},\n",
       " {'target': 'BACKGROUND',\n",
       "  'text': 'we tested whether theory-based education increases alarm operability .',\n",
       "  'line_number': 1,\n",
       "  'total_lines': 14},\n",
       " {'target': 'METHODS',\n",
       "  'text': 'randomised multiarm trial , with a single arm randomly selected for use each day , in low-income neighbourhoods in maryland , usa .',\n",
       "  'line_number': 2,\n",
       "  'total_lines': 14},\n",
       " {'target': 'METHODS',\n",
       "  'text': \"intervention arms : ( @ ) full education combining a health belief module with a social-cognitive theory module that provided hands-on practice installing alarm batteries and using the alarm 's hush button ; ( @ ) hands-on practice social-cognitive module supplemented by typical fire department education ; ( @ ) current norm receiving typical fire department education only .\",\n",
       "  'line_number': 3,\n",
       "  'total_lines': 14},\n",
       " {'target': 'METHODS',\n",
       "  'text': 'four hundred and thirty-six homes recruited through churches or by knocking on doors in @-@ .',\n",
       "  'line_number': 4,\n",
       "  'total_lines': 14},\n",
       " {'target': 'METHODS',\n",
       "  'text': 'follow-up visits checked alarm operability in @ homes ( @ % ) @-@ @ years after installation .',\n",
       "  'line_number': 5,\n",
       "  'total_lines': 14},\n",
       " {'target': 'METHODS',\n",
       "  'text': 'number of homes with working alarms defined as alarms with working batteries or hard-wired and number of working alarms per home .',\n",
       "  'line_number': 6,\n",
       "  'total_lines': 14},\n",
       " {'target': 'METHODS',\n",
       "  'text': 'regressions controlled for alarm status preintervention ; demographics and beliefs about fire risks and alarm effectiveness .',\n",
       "  'line_number': 7,\n",
       "  'total_lines': 14},\n",
       " {'target': 'RESULTS',\n",
       "  'text': 'homes in the full education and practice arms were more likely to have a functioning smoke alarm at follow-up ( or = @ , @ % ci @ to @ ) and had an average of @ more working alarms per home ( @ % ci @ to @ ) .',\n",
       "  'line_number': 8,\n",
       "  'total_lines': 14},\n",
       " {'target': 'RESULTS',\n",
       "  'text': 'working alarms per home rose @ % .',\n",
       "  'line_number': 9,\n",
       "  'total_lines': 14},\n",
       " {'target': 'RESULTS',\n",
       "  'text': 'full education and practice had similar effectiveness ( p = @ on both outcome measures ) .',\n",
       "  'line_number': 10,\n",
       "  'total_lines': 14},\n",
       " {'target': 'CONCLUSIONS',\n",
       "  'text': 'without exceeding typical fire department installation time , installers can achieve greater smoke alarm operability .',\n",
       "  'line_number': 11,\n",
       "  'total_lines': 14},\n",
       " {'target': 'CONCLUSIONS',\n",
       "  'text': 'hands-on practice is key .',\n",
       "  'line_number': 12,\n",
       "  'total_lines': 14},\n",
       " {'target': 'CONCLUSIONS',\n",
       "  'text': 'two years after installation , for every three homes that received hands-on practice , one had an additional working alarm .',\n",
       "  'line_number': 13,\n",
       "  'total_lines': 14},\n",
       " {'target': 'BACKGROUND',\n",
       "  'text': 'http://www.clinicaltrials.gov number nct@ .',\n",
       "  'line_number': 14,\n",
       "  'total_lines': 14},\n",
       " {'target': 'OBJECTIVE',\n",
       "  'text': 'to evaluate the performance ( efficacy , safety and acceptability ) of a new micro-adherent absorbent dressing ( urgoclean ) compared with a hydrofiber dressing ( aquacel ) in the local management of venous leg ulcers , in the debridement stage .',\n",
       "  'line_number': 0,\n",
       "  'total_lines': 16},\n",
       " {'target': 'METHODS',\n",
       "  'text': 'a non-inferiority european randomised controlled clinical trial ( rct ) was conducted in @ centres , on patients presenting with venous or predominantly venous , mixed aetiology leg ulcers at their sloughy stage ( with more than @ % of the wound bed covered with slough at baseline ) .',\n",
       "  'line_number': 1,\n",
       "  'total_lines': 16},\n",
       " {'target': 'METHODS',\n",
       "  'text': 'patients were followed over a @-week period and assessed weekly .',\n",
       "  'line_number': 2,\n",
       "  'total_lines': 16},\n",
       " {'target': 'METHODS',\n",
       "  'text': 'the primary judgement criteria was the relative regression of the wound surface area after the @-week treatment period .',\n",
       "  'line_number': 3,\n",
       "  'total_lines': 16},\n",
       " {'target': 'METHODS',\n",
       "  'text': 'secondary endpoints were the relative reduction of sloughy tissue and the percentage of patients presenting with a debrided wound .',\n",
       "  'line_number': 4,\n",
       "  'total_lines': 16},\n",
       " {'target': 'RESULTS',\n",
       "  'text': 'altogether , @ patients were randomised to either urgoclean ( test group ; n = @ ) or aquacel ( control group ; n = @ ) dressings .',\n",
       "  'line_number': 5,\n",
       "  'total_lines': 16},\n",
       " {'target': 'RESULTS',\n",
       "  'text': 'regarding the wound healing process predictive factors ( wound area , duration , abpi value , recurrence ) , at baseline , the two groups were well balanced , for both wound and patient characteristics .',\n",
       "  'line_number': 6,\n",
       "  'total_lines': 16},\n",
       " {'target': 'RESULTS',\n",
       "  'text': 'compression therapy was administered to both groups and after a median @-day treatment period , the percentage of relative reduction of the wound surface area was very similar ( -@ % vs -@ % in the urgoclean and control groups , respectively ) .',\n",
       "  'line_number': 7,\n",
       "  'total_lines': 16},\n",
       " {'target': 'RESULTS',\n",
       "  'text': 'when considering the secondary criteria at week @ , the relative reduction of sloughy tissue was significantly higher in the urgoclean group than in the control group ( -@ % vs -@,@ % ; p = @ ) .',\n",
       "  'line_number': 8,\n",
       "  'total_lines': 16},\n",
       " {'target': 'RESULTS',\n",
       "  'text': 'the percentage of debrided wounds was also significantly higher in the test group ( @ % vs @ % ; p = @ ) .',\n",
       "  'line_number': 9,\n",
       "  'total_lines': 16},\n",
       " {'target': 'CONCLUSIONS',\n",
       "  'text': \"this ` earth ' rct confirmed that the urgoclean dressing has similar efficacy and safety compared to aquacel .\",\n",
       "  'line_number': 10,\n",
       "  'total_lines': 16},\n",
       " {'target': 'CONCLUSIONS',\n",
       "  'text': 'however , urgoclean also showed better autolytic properties than the control group in the management of venous leg ulcers at the sloughy stage .',\n",
       "  'line_number': 11,\n",
       "  'total_lines': 16}]"
      ]
     },
     "execution_count": 13,
     "metadata": {},
     "output_type": "execute_result"
    }
   ],
   "source": [
    "my_dic = create_list_of_dic('pubmed-rct/PubMed_20k_RCT_numbers_replaced_with_at_sign/train.txt')\n",
    "my_dic[:50]"
   ]
  },
  {
   "cell_type": "code",
   "execution_count": 14,
   "id": "8bb104de",
   "metadata": {},
   "outputs": [
    {
     "data": {
      "text/plain": [
       "180040"
      ]
     },
     "execution_count": 14,
     "metadata": {},
     "output_type": "execute_result"
    }
   ],
   "source": [
    "len(my_dic)"
   ]
  },
  {
   "cell_type": "code",
   "execution_count": 15,
   "id": "40d1f2a9",
   "metadata": {},
   "outputs": [
    {
     "ename": "NameError",
     "evalue": "name 'train_samples' is not defined",
     "output_type": "error",
     "traceback": [
      "\u001b[1;31m---------------------------------------------------------------------------\u001b[0m",
      "\u001b[1;31mNameError\u001b[0m                                 Traceback (most recent call last)",
      "Input \u001b[1;32mIn [15]\u001b[0m, in \u001b[0;36m<module>\u001b[1;34m\u001b[0m\n\u001b[0;32m      1\u001b[0m \u001b[38;5;66;03m# Check the first abstract of our training data\u001b[39;00m\n\u001b[1;32m----> 2\u001b[0m \u001b[43mtrain_samples\u001b[49m[:\u001b[38;5;241m50\u001b[39m]\n",
      "\u001b[1;31mNameError\u001b[0m: name 'train_samples' is not defined"
     ]
    }
   ],
   "source": [
    "# Check the first abstract of our training data\n",
    "train_samples[:50]"
   ]
  },
  {
   "cell_type": "code",
   "execution_count": null,
   "id": "9f491430",
   "metadata": {},
   "outputs": [],
   "source": [
    "! git add 09_SkimLit_nlp_milestone_project_2.ipynb"
   ]
  },
  {
   "cell_type": "code",
   "execution_count": 16,
   "id": "8cb60b11",
   "metadata": {},
   "outputs": [
    {
     "name": "stdout",
     "output_type": "stream",
     "text": [
      "On branch master\n",
      "Your branch is up to date with 'origin/master'.\n",
      "\n",
      "Changes not staged for commit:\n",
      "  (use \"git add <file>...\" to update what will be committed)\n",
      "  (use \"git restore <file>...\" to discard changes in working directory)\n",
      "\tmodified:   09_SkimLit_nlp_milestone_project_2.ipynb\n",
      "\n",
      "Untracked files:\n",
      "  (use \"git add <file>...\" to include in what will be committed)\n",
      "\t.ipynb_checkpoints/\n",
      "\t02. Neural Network Classification with TensorFlow.ipynb\n",
      "\t03. Convolutional Neural Networks and Computer Vision with TensorFlow.ipynb\n",
      "\t04_transfer_learning_in_tensorflow_part_1_feature_extraction.ipynb\n",
      "\t05_transfer_learning_in_tensorflow_part_2_fine_tuning.ipynb\n",
      "\t\"06. Transfer Learning with TensorFlow Part 3 Scaling up (\\360\\237\\215\\224\\360\\237\\221\\201 Food Vision mini).ipynb\"\n",
      "\t06_101_food_class_10_percent_saved_big_dog_model.zip\n",
      "\t06_101_food_class_10_percent_saved_big_dog_model.zip.1\n",
      "\t06_101_food_class_10_percent_saved_big_dog_model/\n",
      "\t07_efficientnetb0_feature_extract_model_mixed_precision.zip\n",
      "\t07_efficientnetb0_feature_extract_model_mixed_precision/\n",
      "\t07_food_vision_milestone_project_1.ipynb\n",
      "\t08_introduction_to_nlp_in_tensorflow.ipynb\n",
      "\t101_classes_10_percent_data_model_checkpoint.data-00000-of-00001\n",
      "\t101_classes_10_percent_data_model_checkpoint.index\n",
      "\t101_food_classes_10_percent.zip\n",
      "\t101_food_classes_10_percent/\n",
      "\t10_food_classes_10_percent.zip\n",
      "\t10_food_classes_10_percent.zip.1\n",
      "\t10_food_classes_10_percent/\n",
      "\t10_food_classes_1_percent.zip\n",
      "\t10_food_classes_1_percent.zip.1\n",
      "\t10_food_classes_1_percent/\n",
      "\t10_food_classes_all_data/\n",
      "\tBig_dog_model/\n",
      "\tNLP-Neural-Networks-for-Joint-Sentence-Classification-in-Medical-Paper-Abstracts/\n",
      "\tTransfer_lerning_myself_test.ipynb\n",
      "\tUntitled.ipynb\n",
      "\tUntitled1.ipynb\n",
      "\tUntitled2.ipynb\n",
      "\t__MACOSX/\n",
      "\t__pycache__/\n",
      "\tcheckpoint\n",
      "\tconfusion_matrix.png\n",
      "\tdesktop.ini\n",
      "\tfood_vision_model_checkpoints.data-00000-of-00001\n",
      "\tfood_vision_model_checkpoints.index\n",
      "\thelper_functions.py\n",
      "\thelper_functions.py.1\n",
      "\thelper_functions.py.2\n",
      "\thelper_functions.py.3\n",
      "\thelper_functions.py.4\n",
      "\tmodel_checkpoints_food_vision/\n",
      "\tmodel_checkpoints_food_vision_2/\n",
      "\tmy_LSTM/\n",
      "\tmy_LSTM_3/\n",
      "\tmy_LSTM_5/\n",
      "\tmy_LSTM_7/\n",
      "\tmy_LSTM_8/\n",
      "\tmy_dir_for_twiter_1/\n",
      "\tnlp_getting_started.zip\n",
      "\tpizza_steak/\n",
      "\tpubmed-rct/\n",
      "\tsample_submission.csv\n",
      "\tsaved_trained_model_multyclass/\n",
      "\tten_percent_model_checkpoints_weights/\n",
      "\ttensorflow_hub/\n",
      "\ttesla_model_3/\n",
      "\ttest.csv\n",
      "\ttrain.csv\n",
      "\ttraining_logs/\n",
      "\ttransfer_learning/\n",
      "\ttransfer_learning_7/\n",
      "\ttransfet_lerning/\n",
      "\n",
      "no changes added to commit (use \"git add\" and/or \"git commit -a\")\n"
     ]
    }
   ],
   "source": [
    "!git commit -m \"new commit accuracy\""
   ]
  },
  {
   "cell_type": "code",
   "execution_count": 18,
   "id": "7222917b",
   "metadata": {},
   "outputs": [],
   "source": [
    "def preprocess_text_with_line_numbers(filename):\n",
    "    \"\"\"Returns a list of dictionaries of abstract line data.\n",
    "\n",
    "    Takes in filename, reads its contents and sorts through each line,\n",
    "    extracting things like the target label, the text of the sentence,\n",
    "    how many sentences are in the current abstract and what sentence number\n",
    "    the target line is.\n",
    "\n",
    "    Args:\n",
    "      filename: a string of the target text file to read and extract line data\n",
    "      from.\n",
    "\n",
    "    Returns:\n",
    "      A list of dictionaries each containing a line from an abstract,\n",
    "      the lines label, the lines position in the abstract and the total number\n",
    "      of lines in the abstract where the line is from. For example:\n",
    "\n",
    "      [{\"target\": 'CONCLUSION',\n",
    "        \"text\": The study couldn't have gone better, turns out people are kinder than you think\",\n",
    "        \"line_number\": 8,\n",
    "        \"total_lines\": 8}]\n",
    "    \"\"\"\n",
    "    input_lines = get_lines(filename) # get all lines from filename\n",
    "    abstract_lines = \"\" # create an empty abstract\n",
    "    abstract_samples = [] # create an empty list of abstracts\n",
    "\n",
    "    # Loop through each line in target file\n",
    "    for line in input_lines:\n",
    "        if line.startswith(\"###\"): # check to see if line is an ID line\n",
    "            abstract_id = line\n",
    "            abstract_lines = \"\" # reset abstract string\n",
    "        elif line.isspace(): # check to see if line is a new line\n",
    "            abstract_line_split = abstract_lines.splitlines() # split abstract into separate lines\n",
    "\n",
    "            # Iterate through each line in abstract and count them at the same time\n",
    "            for abstract_line_number, abstract_line in enumerate(abstract_line_split):\n",
    "                line_data = {} # create empty dict to store data from line\n",
    "                target_text_split = abstract_line.split(\"\\t\") # split target label from text\n",
    "                line_data[\"target\"] = target_text_split[0] # get target label\n",
    "                line_data[\"text\"] = target_text_split[1].lower() # get target text and lower it\n",
    "                line_data[\"line_number\"] = abstract_line_number # what number line does the line appear in the abstract?\n",
    "                line_data[\"total_lines\"] = len(abstract_line_split) - 1 # how many total lines are in the abstract? (start from 0)\n",
    "                abstract_samples.append(line_data) # add line data to abstract samples list\n",
    "\n",
    "        else: # if the above conditions aren't fulfilled, the line contains a labelled sentence\n",
    "            abstract_lines += line\n",
    "\n",
    "    return abstract_samples"
   ]
  },
  {
   "cell_type": "code",
   "execution_count": 19,
   "id": "50c07f08",
   "metadata": {},
   "outputs": [],
   "source": [
    "data_dir = \"pubmed-rct/PubMed_20k_RCT_numbers_replaced_with_at_sign/\"\n",
    "train_samples = preprocess_text_with_line_numbers('pubmed-rct/PubMed_20k_RCT_numbers_replaced_with_at_sign/train.txt')\n",
    "val_samples = preprocess_text_with_line_numbers(data_dir + \"dev.txt\") # dev is another name for validation set\n",
    "test_samples = preprocess_text_with_line_numbers(data_dir + \"test.txt\")\n"
   ]
  },
  {
   "cell_type": "code",
   "execution_count": 20,
   "id": "18491a06",
   "metadata": {
    "scrolled": true
   },
   "outputs": [
    {
     "data": {
      "text/plain": [
       "[{'target': 'OBJECTIVE',\n",
       "  'text': 'to investigate the efficacy of @ weeks of daily low-dose oral prednisolone in improving pain , mobility , and systemic low-grade inflammation in the short term and whether the effect would be sustained at @ weeks in older adults with moderate to severe knee osteoarthritis ( oa ) .',\n",
       "  'line_number': 0,\n",
       "  'total_lines': 11},\n",
       " {'target': 'METHODS',\n",
       "  'text': 'a total of @ patients with primary knee oa were randomized @:@ ; @ received @ mg/day of prednisolone and @ received placebo for @ weeks .',\n",
       "  'line_number': 1,\n",
       "  'total_lines': 11},\n",
       " {'target': 'METHODS',\n",
       "  'text': 'outcome measures included pain reduction and improvement in function scores and systemic inflammation markers .',\n",
       "  'line_number': 2,\n",
       "  'total_lines': 11},\n",
       " {'target': 'METHODS',\n",
       "  'text': 'pain was assessed using the visual analog pain scale ( @-@ mm ) .',\n",
       "  'line_number': 3,\n",
       "  'total_lines': 11},\n",
       " {'target': 'METHODS',\n",
       "  'text': 'secondary outcome measures included the western ontario and mcmaster universities osteoarthritis index scores , patient global assessment ( pga ) of the severity of knee oa , and @-min walk distance ( @mwd ) .',\n",
       "  'line_number': 4,\n",
       "  'total_lines': 11},\n",
       " {'target': 'METHODS',\n",
       "  'text': 'serum levels of interleukin @ ( il-@ ) , il-@ , tumor necrosis factor ( tnf ) - , and high-sensitivity c-reactive protein ( hscrp ) were measured .',\n",
       "  'line_number': 5,\n",
       "  'total_lines': 11},\n",
       " {'target': 'RESULTS',\n",
       "  'text': 'there was a clinically relevant reduction in the intervention group compared to the placebo group for knee pain , physical function , pga , and @mwd at @ weeks .',\n",
       "  'line_number': 6,\n",
       "  'total_lines': 11},\n",
       " {'target': 'RESULTS',\n",
       "  'text': 'the mean difference between treatment arms ( @ % ci ) was @ ( @-@ @ ) , p < @ ; @ ( @-@ @ ) , p < @ ; @ ( @-@ @ ) , p < @ ; and @ ( @-@ @ ) , p < @ , respectively .',\n",
       "  'line_number': 7,\n",
       "  'total_lines': 11},\n",
       " {'target': 'RESULTS',\n",
       "  'text': 'further , there was a clinically relevant reduction in the serum levels of il-@ , il-@ , tnf - , and hscrp at @ weeks in the intervention group when compared to the placebo group .',\n",
       "  'line_number': 8,\n",
       "  'total_lines': 11},\n",
       " {'target': 'RESULTS',\n",
       "  'text': 'these differences remained significant at @ weeks .',\n",
       "  'line_number': 9,\n",
       "  'total_lines': 11},\n",
       " {'target': 'RESULTS',\n",
       "  'text': 'the outcome measures in rheumatology clinical trials-osteoarthritis research society international responder rate was @ % in the intervention group and @ % in the placebo group ( p < @ ) .',\n",
       "  'line_number': 10,\n",
       "  'total_lines': 11},\n",
       " {'target': 'CONCLUSIONS',\n",
       "  'text': 'low-dose oral prednisolone had both a short-term and a longer sustained effect resulting in less knee pain , better physical function , and attenuation of systemic inflammation in older patients with knee oa ( clinicaltrials.gov identifier nct@ ) .',\n",
       "  'line_number': 11,\n",
       "  'total_lines': 11},\n",
       " {'target': 'BACKGROUND',\n",
       "  'text': 'emotional eating is associated with overeating and the development of obesity .',\n",
       "  'line_number': 0,\n",
       "  'total_lines': 10},\n",
       " {'target': 'BACKGROUND',\n",
       "  'text': 'yet , empirical evidence for individual ( trait ) differences in emotional eating and cognitive mechanisms that contribute to eating during sad mood remain equivocal .',\n",
       "  'line_number': 1,\n",
       "  'total_lines': 10},\n",
       " {'target': 'OBJECTIVE',\n",
       "  'text': 'the aim of this study was to test if attention bias for food moderates the effect of self-reported emotional eating during sad mood ( vs neutral mood ) on actual food intake .',\n",
       "  'line_number': 2,\n",
       "  'total_lines': 10},\n",
       " {'target': 'OBJECTIVE',\n",
       "  'text': 'it was expected that emotional eating is predictive of elevated attention for food and higher food intake after an experimentally induced sad mood and that attentional maintenance on food predicts food intake during a sad versus a neutral mood .',\n",
       "  'line_number': 3,\n",
       "  'total_lines': 10},\n",
       " {'target': 'METHODS',\n",
       "  'text': 'participants ( n = @ ) were randomly assigned to one of the two experimental mood induction conditions ( sad/neutral ) .',\n",
       "  'line_number': 4,\n",
       "  'total_lines': 10},\n",
       " {'target': 'METHODS',\n",
       "  'text': 'attentional biases for high caloric foods were measured by eye tracking during a visual probe task with pictorial food and neutral stimuli .',\n",
       "  'line_number': 5,\n",
       "  'total_lines': 10},\n",
       " {'target': 'METHODS',\n",
       "  'text': 'self-reported emotional eating was assessed with the dutch eating behavior questionnaire ( debq ) and ad libitum food intake was tested by a disguised food offer .',\n",
       "  'line_number': 6,\n",
       "  'total_lines': 10},\n",
       " {'target': 'RESULTS',\n",
       "  'text': 'hierarchical multivariate regression modeling showed that self-reported emotional eating did not account for changes in attention allocation for food or food intake in either condition .',\n",
       "  'line_number': 7,\n",
       "  'total_lines': 10},\n",
       " {'target': 'RESULTS',\n",
       "  'text': 'yet , attention maintenance on food cues was significantly related to increased intake specifically in the neutral condition , but not in the sad mood condition .',\n",
       "  'line_number': 8,\n",
       "  'total_lines': 10},\n",
       " {'target': 'CONCLUSIONS',\n",
       "  'text': 'the current findings show that self-reported emotional eating ( based on the debq ) might not validly predict who overeats when sad , at least not in a laboratory setting with healthy women .',\n",
       "  'line_number': 9,\n",
       "  'total_lines': 10},\n",
       " {'target': 'CONCLUSIONS',\n",
       "  'text': 'results further suggest that attention maintenance on food relates to eating motivation when in a neutral affective state , and might therefore be a cognitive mechanism contributing to increased food intake in general , but maybe not during sad mood .',\n",
       "  'line_number': 10,\n",
       "  'total_lines': 10},\n",
       " {'target': 'BACKGROUND',\n",
       "  'text': 'although working smoke alarms halve deaths in residential fires , many households do not keep alarms operational .',\n",
       "  'line_number': 0,\n",
       "  'total_lines': 14},\n",
       " {'target': 'BACKGROUND',\n",
       "  'text': 'we tested whether theory-based education increases alarm operability .',\n",
       "  'line_number': 1,\n",
       "  'total_lines': 14},\n",
       " {'target': 'METHODS',\n",
       "  'text': 'randomised multiarm trial , with a single arm randomly selected for use each day , in low-income neighbourhoods in maryland , usa .',\n",
       "  'line_number': 2,\n",
       "  'total_lines': 14},\n",
       " {'target': 'METHODS',\n",
       "  'text': \"intervention arms : ( @ ) full education combining a health belief module with a social-cognitive theory module that provided hands-on practice installing alarm batteries and using the alarm 's hush button ; ( @ ) hands-on practice social-cognitive module supplemented by typical fire department education ; ( @ ) current norm receiving typical fire department education only .\",\n",
       "  'line_number': 3,\n",
       "  'total_lines': 14},\n",
       " {'target': 'METHODS',\n",
       "  'text': 'four hundred and thirty-six homes recruited through churches or by knocking on doors in @-@ .',\n",
       "  'line_number': 4,\n",
       "  'total_lines': 14},\n",
       " {'target': 'METHODS',\n",
       "  'text': 'follow-up visits checked alarm operability in @ homes ( @ % ) @-@ @ years after installation .',\n",
       "  'line_number': 5,\n",
       "  'total_lines': 14},\n",
       " {'target': 'METHODS',\n",
       "  'text': 'number of homes with working alarms defined as alarms with working batteries or hard-wired and number of working alarms per home .',\n",
       "  'line_number': 6,\n",
       "  'total_lines': 14},\n",
       " {'target': 'METHODS',\n",
       "  'text': 'regressions controlled for alarm status preintervention ; demographics and beliefs about fire risks and alarm effectiveness .',\n",
       "  'line_number': 7,\n",
       "  'total_lines': 14},\n",
       " {'target': 'RESULTS',\n",
       "  'text': 'homes in the full education and practice arms were more likely to have a functioning smoke alarm at follow-up ( or = @ , @ % ci @ to @ ) and had an average of @ more working alarms per home ( @ % ci @ to @ ) .',\n",
       "  'line_number': 8,\n",
       "  'total_lines': 14},\n",
       " {'target': 'RESULTS',\n",
       "  'text': 'working alarms per home rose @ % .',\n",
       "  'line_number': 9,\n",
       "  'total_lines': 14},\n",
       " {'target': 'RESULTS',\n",
       "  'text': 'full education and practice had similar effectiveness ( p = @ on both outcome measures ) .',\n",
       "  'line_number': 10,\n",
       "  'total_lines': 14},\n",
       " {'target': 'CONCLUSIONS',\n",
       "  'text': 'without exceeding typical fire department installation time , installers can achieve greater smoke alarm operability .',\n",
       "  'line_number': 11,\n",
       "  'total_lines': 14},\n",
       " {'target': 'CONCLUSIONS',\n",
       "  'text': 'hands-on practice is key .',\n",
       "  'line_number': 12,\n",
       "  'total_lines': 14},\n",
       " {'target': 'CONCLUSIONS',\n",
       "  'text': 'two years after installation , for every three homes that received hands-on practice , one had an additional working alarm .',\n",
       "  'line_number': 13,\n",
       "  'total_lines': 14},\n",
       " {'target': 'BACKGROUND',\n",
       "  'text': 'http://www.clinicaltrials.gov number nct@ .',\n",
       "  'line_number': 14,\n",
       "  'total_lines': 14},\n",
       " {'target': 'OBJECTIVE',\n",
       "  'text': 'to evaluate the performance ( efficacy , safety and acceptability ) of a new micro-adherent absorbent dressing ( urgoclean ) compared with a hydrofiber dressing ( aquacel ) in the local management of venous leg ulcers , in the debridement stage .',\n",
       "  'line_number': 0,\n",
       "  'total_lines': 16},\n",
       " {'target': 'METHODS',\n",
       "  'text': 'a non-inferiority european randomised controlled clinical trial ( rct ) was conducted in @ centres , on patients presenting with venous or predominantly venous , mixed aetiology leg ulcers at their sloughy stage ( with more than @ % of the wound bed covered with slough at baseline ) .',\n",
       "  'line_number': 1,\n",
       "  'total_lines': 16},\n",
       " {'target': 'METHODS',\n",
       "  'text': 'patients were followed over a @-week period and assessed weekly .',\n",
       "  'line_number': 2,\n",
       "  'total_lines': 16},\n",
       " {'target': 'METHODS',\n",
       "  'text': 'the primary judgement criteria was the relative regression of the wound surface area after the @-week treatment period .',\n",
       "  'line_number': 3,\n",
       "  'total_lines': 16},\n",
       " {'target': 'METHODS',\n",
       "  'text': 'secondary endpoints were the relative reduction of sloughy tissue and the percentage of patients presenting with a debrided wound .',\n",
       "  'line_number': 4,\n",
       "  'total_lines': 16},\n",
       " {'target': 'RESULTS',\n",
       "  'text': 'altogether , @ patients were randomised to either urgoclean ( test group ; n = @ ) or aquacel ( control group ; n = @ ) dressings .',\n",
       "  'line_number': 5,\n",
       "  'total_lines': 16},\n",
       " {'target': 'RESULTS',\n",
       "  'text': 'regarding the wound healing process predictive factors ( wound area , duration , abpi value , recurrence ) , at baseline , the two groups were well balanced , for both wound and patient characteristics .',\n",
       "  'line_number': 6,\n",
       "  'total_lines': 16},\n",
       " {'target': 'RESULTS',\n",
       "  'text': 'compression therapy was administered to both groups and after a median @-day treatment period , the percentage of relative reduction of the wound surface area was very similar ( -@ % vs -@ % in the urgoclean and control groups , respectively ) .',\n",
       "  'line_number': 7,\n",
       "  'total_lines': 16},\n",
       " {'target': 'RESULTS',\n",
       "  'text': 'when considering the secondary criteria at week @ , the relative reduction of sloughy tissue was significantly higher in the urgoclean group than in the control group ( -@ % vs -@,@ % ; p = @ ) .',\n",
       "  'line_number': 8,\n",
       "  'total_lines': 16},\n",
       " {'target': 'RESULTS',\n",
       "  'text': 'the percentage of debrided wounds was also significantly higher in the test group ( @ % vs @ % ; p = @ ) .',\n",
       "  'line_number': 9,\n",
       "  'total_lines': 16},\n",
       " {'target': 'CONCLUSIONS',\n",
       "  'text': \"this ` earth ' rct confirmed that the urgoclean dressing has similar efficacy and safety compared to aquacel .\",\n",
       "  'line_number': 10,\n",
       "  'total_lines': 16},\n",
       " {'target': 'CONCLUSIONS',\n",
       "  'text': 'however , urgoclean also showed better autolytic properties than the control group in the management of venous leg ulcers at the sloughy stage .',\n",
       "  'line_number': 11,\n",
       "  'total_lines': 16},\n",
       " {'target': 'CONCLUSIONS',\n",
       "  'text': 'the new urgoclean dressing therefore represents a promising therapeutic option within the current range of autolytic dressings available .',\n",
       "  'line_number': 12,\n",
       "  'total_lines': 16},\n",
       " {'target': 'BACKGROUND',\n",
       "  'text': 'this study was sponsored by a grant from the pharmaceutical company laboratoires urgo .',\n",
       "  'line_number': 13,\n",
       "  'total_lines': 16},\n",
       " {'target': 'BACKGROUND',\n",
       "  'text': 's. bohbot and o. tacca are employees of laboratoires urgo .',\n",
       "  'line_number': 14,\n",
       "  'total_lines': 16},\n",
       " {'target': 'BACKGROUND',\n",
       "  'text': 's. meaume , j. dissemond and g. perceau have received monetary compensation as presenters for laboratoires urgo .',\n",
       "  'line_number': 15,\n",
       "  'total_lines': 16},\n",
       " {'target': 'BACKGROUND',\n",
       "  'text': 'data management and statistical analyses were conducted independently by vertical ( paris , france ) .',\n",
       "  'line_number': 16,\n",
       "  'total_lines': 16},\n",
       " {'target': 'OBJECTIVE',\n",
       "  'text': 'eye movements ( em ) during recall of an aversive memory is a treatment element unique to eye movement desensitization and reprocessing ( emdr ) .',\n",
       "  'line_number': 0,\n",
       "  'total_lines': 11},\n",
       " {'target': 'OBJECTIVE',\n",
       "  'text': 'experimental studies have shown that em reduce memory vividness and/or emotionality shortly after the intervention .',\n",
       "  'line_number': 1,\n",
       "  'total_lines': 11},\n",
       " {'target': 'OBJECTIVE',\n",
       "  'text': 'however , it is unclear whether the immediate effects of the intervention reflect actual changes in memory .',\n",
       "  'line_number': 2,\n",
       "  'total_lines': 11},\n",
       " {'target': 'OBJECTIVE',\n",
       "  'text': 'the aim of this study was to test whether immediate reductions in memory vividness and emotionality persist at a @h follow up and whether the magnitude of these effects is related to the duration of the intervention .',\n",
       "  'line_number': 3,\n",
       "  'total_lines': 11},\n",
       " {'target': 'METHODS',\n",
       "  'text': \"seventy-three undergraduates recalled two negative autobiographical memories , one with em ( `` recall with em '' ) and one without ( `` recall only '' ) .\",\n",
       "  'line_number': 4,\n",
       "  'total_lines': 11},\n",
       " {'target': 'METHODS',\n",
       "  'text': 'half of participants recalled each memory for four periods of @s , the other half for eight periods of @s .',\n",
       "  'line_number': 5,\n",
       "  'total_lines': 11},\n",
       " {'target': 'METHODS',\n",
       "  'text': 'memory vividness/emotionality were self-rated at a pre-test , an immediate post-test , and a @h follow-up test .',\n",
       "  'line_number': 6,\n",
       "  'total_lines': 11},\n",
       " {'target': 'RESULTS',\n",
       "  'text': 'in both duration groups , recall with em , but not recall only , caused an immediate decrease in memory vividness .',\n",
       "  'line_number': 7,\n",
       "  'total_lines': 11},\n",
       " {'target': 'RESULTS',\n",
       "  'text': 'there were no immediate reductions in memory emotionality .',\n",
       "  'line_number': 8,\n",
       "  'total_lines': 11},\n",
       " {'target': 'RESULTS',\n",
       "  'text': \"furthermore , only the ` eight periods ' group showed that recall with em , but not recall only , caused a decrease in both memory emotionality and memory vividness from the pre-test to the follow-up .\",\n",
       "  'line_number': 9,\n",
       "  'total_lines': 11},\n",
       " {'target': 'CONCLUSIONS',\n",
       "  'text': 'only self-report measures were used .',\n",
       "  'line_number': 10,\n",
       "  'total_lines': 11},\n",
       " {'target': 'CONCLUSIONS',\n",
       "  'text': 'the findings suggest that recall with em causes @-hchanges in memory vividness/emotionality , which may explain part of the emdr treatment effect , and these effects are related to intervention duration .',\n",
       "  'line_number': 11,\n",
       "  'total_lines': 11},\n",
       " {'target': 'OBJECTIVE',\n",
       "  'text': 'few studies have tested the impact of motivational interviewing ( mi ) delivered by primary care providers on pediatric obesity .',\n",
       "  'line_number': 0,\n",
       "  'total_lines': 12},\n",
       " {'target': 'OBJECTIVE',\n",
       "  'text': 'this study tested the efficacy of mi delivered by providers and registered dietitians ( rds ) to parents of overweight children aged @ through @ .',\n",
       "  'line_number': 1,\n",
       "  'total_lines': 12},\n",
       " {'target': 'METHODS',\n",
       "  'text': 'forty-two practices from the pediatric research in office settings network of the american academy of pediatrics were randomly assigned to @ of @ groups .',\n",
       "  'line_number': 2,\n",
       "  'total_lines': 12},\n",
       " {'target': 'METHODS',\n",
       "  'text': 'group @ ( usual care ) measured bmi percentile at baseline and @ - and @-year follow-up .',\n",
       "  'line_number': 3,\n",
       "  'total_lines': 12},\n",
       " {'target': 'METHODS',\n",
       "  'text': 'group @ ( provider only ) delivered @ mi counseling sessions to parents of the index child over @ years .',\n",
       "  'line_number': 4,\n",
       "  'total_lines': 12},\n",
       " {'target': 'METHODS',\n",
       "  'text': 'group @ ( provider + rd ) delivered @ provider mi sessions plus @ mi sessions from a rd. .',\n",
       "  'line_number': 5,\n",
       "  'total_lines': 12},\n",
       " {'target': 'METHODS',\n",
       "  'text': 'the primary outcome was child bmi percentile at @-year follow up .',\n",
       "  'line_number': 6,\n",
       "  'total_lines': 12},\n",
       " {'target': 'RESULTS',\n",
       "  'text': 'at @-year follow-up , the adjusted bmi percentile was @ , @ , and @ for groups @ , @ , and @ , respectively .',\n",
       "  'line_number': 7,\n",
       "  'total_lines': 12},\n",
       " {'target': 'RESULTS',\n",
       "  'text': 'the group @ mean was significantly ( p = @ ) lower than group @ .',\n",
       "  'line_number': 8,\n",
       "  'total_lines': 12},\n",
       " {'target': 'RESULTS',\n",
       "  'text': 'mean changes from baseline in bmi percentile were @ , @ , and @ across groups @ , @ , and @ .',\n",
       "  'line_number': 9,\n",
       "  'total_lines': 12},\n",
       " {'target': 'CONCLUSIONS',\n",
       "  'text': 'mi delivered by providers and rds ( group @ ) resulted in statistically significant reductions in bmi percentile .',\n",
       "  'line_number': 10,\n",
       "  'total_lines': 12},\n",
       " {'target': 'CONCLUSIONS',\n",
       "  'text': 'research is needed to determine the clinical significance and persistence of the bmi effects observed .',\n",
       "  'line_number': 11,\n",
       "  'total_lines': 12},\n",
       " {'target': 'CONCLUSIONS',\n",
       "  'text': 'how the intervention can be brought to scale ( in particular , how to train physicians to use mi effectively and how best to train rds and integrate them into primary care settings ) also merits future research .',\n",
       "  'line_number': 12,\n",
       "  'total_lines': 12},\n",
       " {'target': 'BACKGROUND',\n",
       "  'text': 'antithrombin ( at ) concentrations are reduced after cardiac surgery with cardiopulmonary bypass compared with the preoperative levels .',\n",
       "  'line_number': 0,\n",
       "  'total_lines': 9},\n",
       " {'target': 'BACKGROUND',\n",
       "  'text': 'low postoperative at is associated with worse short - and mid-term clinical outcomes .',\n",
       "  'line_number': 1,\n",
       "  'total_lines': 9},\n",
       " {'target': 'BACKGROUND',\n",
       "  'text': 'the aim of the study is to evaluate the effects of at administration on activation of the coagulation and fibrinolytic systems , platelet function , and the inflammatory response in patients with low postoperative at levels .',\n",
       "  'line_number': 2,\n",
       "  'total_lines': 9},\n",
       " {'target': 'METHODS',\n",
       "  'text': 'sixty patients with postoperative at levels of less than @ % were randomly assigned to receive purified at ( @ iu in three administrations ) or placebo in the postoperative intensive care unit .',\n",
       "  'line_number': 3,\n",
       "  'total_lines': 9},\n",
       " {'target': 'METHODS',\n",
       "  'text': 'thirty patients with postoperative at levels greater than @ % were observed as controls .',\n",
       "  'line_number': 4,\n",
       "  'total_lines': 9},\n",
       " {'target': 'METHODS',\n",
       "  'text': 'interleukin @ ( a marker of inflammation ) , prothrombin fragment @-@ ( a marker of thrombin generation ) , plasmin-antiplasmin complex ( a marker of fibrinolysis ) , and platelet factor @ ( a marker of platelet activation ) were measured at six different times .',\n",
       "  'line_number': 5,\n",
       "  'total_lines': 9},\n",
       " {'target': 'RESULTS',\n",
       "  'text': 'compared with the no at group and control patients , patients receiving at showed significantly higher at values until @ hours after the last administration .',\n",
       "  'line_number': 6,\n",
       "  'total_lines': 9},\n",
       " {'target': 'RESULTS',\n",
       "  'text': 'analysis of variance for repeated measures showed a significant effect of study treatment in reducing prothrombin fragment @-@ ( p = @ ; interaction with time sample , p = @ ) and plasmin-antiplasmin complex ( p < @ ; interaction with time sample , p < @ ) values but not interleukin @ ( p = @ ; interaction with time sample , p = @ ) and platelet factor @ ( p = @ ; interaction with time sample , p = @ ) .',\n",
       "  'line_number': 7,\n",
       "  'total_lines': 9},\n",
       " {'target': 'RESULTS',\n",
       "  'text': 'no difference in chest tube drainage , reopening for bleeding , and blood transfusion was observed .',\n",
       "  'line_number': 8,\n",
       "  'total_lines': 9},\n",
       " {'target': 'CONCLUSIONS',\n",
       "  'text': 'antithrombin administration in patients with low at activity after surgery with cardiopulmonary bypass reduces postoperative thrombin generation and fibrinolysis with no effects on platelet activation and inflammatory response .',\n",
       "  'line_number': 9,\n",
       "  'total_lines': 9},\n",
       " {'target': 'OBJECTIVE',\n",
       "  'text': 'we evaluated patients at tertiary -lsb- both percutaneous coronary intervention ( pci ) and coronary artery bypass grafting ( cabg ) capable -rsb- and primary hospitals in the early-acs trial .',\n",
       "  'line_number': 0,\n",
       "  'total_lines': 10},\n",
       " {'target': 'BACKGROUND',\n",
       "  'text': 'early invasive management is recommended for high-risk non-st-segment elevation acute coronary syndromes .',\n",
       "  'line_number': 1,\n",
       "  'total_lines': 10},\n",
       " {'target': 'METHODS',\n",
       "  'text': \"we evaluated outcomes in @,@ patients presenting to : tertiary sites , primary sites with transfer to tertiary sites ( `` transferred '' ) and those who remained at primary sites ( `` non-transfer '' ) .\",\n",
       "  'line_number': 2,\n",
       "  'total_lines': 10},\n",
       " {'target': 'RESULTS',\n",
       "  'text': 'there were @ tertiary ( n = @,@ patients ) and @ primary hospitals -lsb- n = @,@ patients ( @ transferred ; @,@ non-transfer ) -rsb- .',\n",
       "  'line_number': 3,\n",
       "  'total_lines': 10},\n",
       " {'target': 'RESULTS',\n",
       "  'text': 'significant delays occurred in time from symptom onset to angiography ( @ hr ) , pci ( @h ) , and cabg ( @ hr ) for transferred patients ( p < @ ) .',\n",
       "  'line_number': 4,\n",
       "  'total_lines': 10},\n",
       " {'target': 'RESULTS',\n",
       "  'text': 'non-transfer patients had less @-day death/myocardial infarction -lsb- @ % vs. @ % ( tertiary ) ; adjusted odds ratio ( or ) : @ ( @-@ @ ) , p = @ -rsb- ; transferred ( @ % ) and tertiary patients were similar -lsb- adjusted or : @ ( @-@ @ ) , p = @ -rsb- .',\n",
       "  'line_number': 5,\n",
       "  'total_lines': 10},\n",
       " {'target': 'RESULTS',\n",
       "  'text': 'non-transfer patients had lower @-year mortality -lsb- @ % vs. @ % ( tertiary ) ; adjusted hazard ratio ( hr ) : @ ( @-@ @ ) , p = @ -rsb- : there was no difference between transferred and tertiary patients -lsb- @ % vs. @ % ; adjusted hr : @ ( @-@ @ ) , p = @ -rsb- .',\n",
       "  'line_number': 6,\n",
       "  'total_lines': 10},\n",
       " {'target': 'RESULTS',\n",
       "  'text': 'despite similar rates of catheterization , gusto severe/moderate bleeding within @ hr was less in non-transfer -lsb- @ % vs. @ % ( tertiary ) ; adjusted or : @ ( @-@ @ ) , p < @ -rsb- , whereas transferred ( @ % ) and tertiary patients were similar -lsb- adjusted or : @ ( @-@ @ ) , p = @ -rsb- .',\n",
       "  'line_number': 7,\n",
       "  'total_lines': 10},\n",
       " {'target': 'RESULTS',\n",
       "  'text': 'there was no difference in non-cabg bleeding .',\n",
       "  'line_number': 8,\n",
       "  'total_lines': 10},\n",
       " {'target': 'CONCLUSIONS',\n",
       "  'text': 'timely angiography and revascularization were often not achieved in transferred patients .',\n",
       "  'line_number': 9,\n",
       "  'total_lines': 10}]"
      ]
     },
     "execution_count": 20,
     "metadata": {},
     "output_type": "execute_result"
    }
   ],
   "source": [
    "# Check the first abstract of our training data\n",
    "train_samples[:100]"
   ]
  },
  {
   "cell_type": "code",
   "execution_count": 45,
   "id": "41a21fe6",
   "metadata": {},
   "outputs": [
    {
     "data": {
      "text/plain": [
       "180040"
      ]
     },
     "execution_count": 45,
     "metadata": {},
     "output_type": "execute_result"
    }
   ],
   "source": [
    "len(train_samples)"
   ]
  },
  {
   "cell_type": "code",
   "execution_count": 46,
   "id": "263ad87e",
   "metadata": {},
   "outputs": [],
   "source": [
    "import pandas as pd"
   ]
  },
  {
   "cell_type": "code",
   "execution_count": 50,
   "id": "60e6e85b",
   "metadata": {},
   "outputs": [
    {
     "data": {
      "text/plain": [
       "METHODS        59353\n",
       "RESULTS        57953\n",
       "CONCLUSIONS    27168\n",
       "BACKGROUND     21727\n",
       "OBJECTIVE      13839\n",
       "Name: target, dtype: int64"
      ]
     },
     "execution_count": 50,
     "metadata": {},
     "output_type": "execute_result"
    }
   ],
   "source": [
    "train_df['target'].value_counts()"
   ]
  },
  {
   "cell_type": "code",
   "execution_count": 51,
   "id": "085b4cdf",
   "metadata": {},
   "outputs": [
    {
     "data": {
      "text/plain": [
       "<AxesSubplot:ylabel='Frequency'>"
      ]
     },
     "execution_count": 51,
     "metadata": {},
     "output_type": "execute_result"
    },
    {
     "data": {
      "image/png": "[encoded data removed]",
      "text/plain": [
       "<Figure size 432x288 with 1 Axes>"
      ]
     },
     "metadata": {
      "needs_background": "light"
     },
     "output_type": "display_data"
    }
   ],
   "source": [
    "train_df.total_lines.plot(kind =\"hist\")"
   ]
  },
  {
   "cell_type": "code",
   "execution_count": 52,
   "id": "69460834",
   "metadata": {},
   "outputs": [],
   "source": [
    "train_samples = create_list_of_dic('pubmed-rct/PubMed_20k_RCT_numbers_replaced_with_at_sign/train.txt')\n",
    "val_samples = create_list_of_dic('pubmed-rct/PubMed_20k_RCT_numbers_replaced_with_at_sign/dev.txt')\n",
    "test_samples = create_list_of_dic('pubmed-rct/PubMed_20k_RCT_numbers_replaced_with_at_sign/test.txt')"
   ]
  },
  {
   "cell_type": "code",
   "execution_count": 53,
   "id": "346cd124",
   "metadata": {},
   "outputs": [],
   "source": [
    "import pandas as pd\n",
    "train_df = pd.DataFrame(train_samples)\n",
    "val_df = pd.DataFrame(val_samples)\n",
    "test_df = pd.DataFrame(test_samples)"
   ]
  },
  {
   "cell_type": "code",
   "execution_count": 54,
   "id": "6506b2b4",
   "metadata": {},
   "outputs": [],
   "source": [
    "import tensorflow as tf"
   ]
  },
  {
   "cell_type": "code",
   "execution_count": 55,
   "id": "7f49729b",
   "metadata": {},
   "outputs": [
    {
     "data": {
      "text/plain": [
       "array([[0., 0., 0., 1., 0.],\n",
       "       [0., 0., 1., 0., 0.],\n",
       "       [0., 0., 1., 0., 0.],\n",
       "       ...,\n",
       "       [0., 0., 0., 0., 1.],\n",
       "       [0., 1., 0., 0., 0.],\n",
       "       [0., 1., 0., 0., 0.]])"
      ]
     },
     "execution_count": 55,
     "metadata": {},
     "output_type": "execute_result"
    }
   ],
   "source": [
    "#One hot encode lables\n",
    "from sklearn.preprocessing import OneHotEncoder\n",
    "\n",
    "one_hot_encoder = OneHotEncoder(sparse=False)\n",
    "train_labesl_one_hot = one_hot_encoder.fit_transform(train_df[\"target\"].to_numpy().reshape(-1, 1))\n",
    "val_labesl_one_hot = one_hot_encoder.fit_transform(tf.expand_dims(val_df[\"target\"].to_numpy(), axis=-1))\n",
    "test_labesl_one_hot = one_hot_encoder.fit_transform(test_df[\"target\"].to_numpy().reshape(-1, 1))\n",
    "train_labesl_one_hot"
   ]
  },
  {
   "cell_type": "code",
   "execution_count": 56,
   "id": "f1eb0bb5",
   "metadata": {},
   "outputs": [
    {
     "data": {
      "text/plain": [
       "array([3, 2, 2, ..., 4, 1, 1])"
      ]
     },
     "execution_count": 56,
     "metadata": {},
     "output_type": "execute_result"
    }
   ],
   "source": [
    "from sklearn.preprocessing import LabelEncoder\n",
    "\n",
    "label_encoder = LabelEncoder()\n",
    "train_labels_encoded = label_encoder.fit_transform(train_df[\"target\"].to_numpy())\n",
    "val_labels_encoded = label_encoder.transform(val_df[\"target\"].to_numpy())\n",
    "test_labels_encoded = label_encoder.transform(test_df[\"target\"].to_numpy())\n",
    "\n",
    "# Check what training labels look like\n",
    "train_labels_encoded"
   ]
  },
  {
   "cell_type": "code",
   "execution_count": 57,
   "id": "dbb3d5c3",
   "metadata": {},
   "outputs": [
    {
     "data": {
      "text/plain": [
       "array(['BACKGROUND', 'CONCLUSIONS', 'METHODS', 'OBJECTIVE', 'RESULTS'],\n",
       "      dtype=object)"
      ]
     },
     "execution_count": 57,
     "metadata": {},
     "output_type": "execute_result"
    }
   ],
   "source": [
    "class_names = label_encoder.classes_\n",
    "class_names"
   ]
  },
  {
   "cell_type": "code",
   "execution_count": 58,
   "id": "767fe72b",
   "metadata": {},
   "outputs": [
    {
     "data": {
      "text/html": [
       "<div>\n",
       "<style scoped>\n",
       "    .dataframe tbody tr th:only-of-type {\n",
       "        vertical-align: middle;\n",
       "    }\n",
       "\n",
       "    .dataframe tbody tr th {\n",
       "        vertical-align: top;\n",
       "    }\n",
       "\n",
       "    .dataframe thead th {\n",
       "        text-align: right;\n",
       "    }\n",
       "</style>\n",
       "<table border=\"1\" class=\"dataframe\">\n",
       "  <thead>\n",
       "    <tr style=\"text-align: right;\">\n",
       "      <th></th>\n",
       "      <th>target</th>\n",
       "      <th>text</th>\n",
       "      <th>line_number</th>\n",
       "      <th>total_lines</th>\n",
       "    </tr>\n",
       "  </thead>\n",
       "  <tbody>\n",
       "    <tr>\n",
       "      <th>0</th>\n",
       "      <td>OBJECTIVE</td>\n",
       "      <td>to investigate the efficacy of @ weeks of dail...</td>\n",
       "      <td>0</td>\n",
       "      <td>11</td>\n",
       "    </tr>\n",
       "    <tr>\n",
       "      <th>1</th>\n",
       "      <td>METHODS</td>\n",
       "      <td>a total of @ patients with primary knee oa wer...</td>\n",
       "      <td>1</td>\n",
       "      <td>11</td>\n",
       "    </tr>\n",
       "    <tr>\n",
       "      <th>2</th>\n",
       "      <td>METHODS</td>\n",
       "      <td>outcome measures included pain reduction and i...</td>\n",
       "      <td>2</td>\n",
       "      <td>11</td>\n",
       "    </tr>\n",
       "    <tr>\n",
       "      <th>3</th>\n",
       "      <td>METHODS</td>\n",
       "      <td>pain was assessed using the visual analog pain...</td>\n",
       "      <td>3</td>\n",
       "      <td>11</td>\n",
       "    </tr>\n",
       "    <tr>\n",
       "      <th>4</th>\n",
       "      <td>METHODS</td>\n",
       "      <td>secondary outcome measures included the wester...</td>\n",
       "      <td>4</td>\n",
       "      <td>11</td>\n",
       "    </tr>\n",
       "    <tr>\n",
       "      <th>...</th>\n",
       "      <td>...</td>\n",
       "      <td>...</td>\n",
       "      <td>...</td>\n",
       "      <td>...</td>\n",
       "    </tr>\n",
       "    <tr>\n",
       "      <th>180035</th>\n",
       "      <td>RESULTS</td>\n",
       "      <td>for the absolute change in percent atheroma vo...</td>\n",
       "      <td>7</td>\n",
       "      <td>11</td>\n",
       "    </tr>\n",
       "    <tr>\n",
       "      <th>180036</th>\n",
       "      <td>RESULTS</td>\n",
       "      <td>for pav , a significantly greater percentage o...</td>\n",
       "      <td>8</td>\n",
       "      <td>11</td>\n",
       "    </tr>\n",
       "    <tr>\n",
       "      <th>180037</th>\n",
       "      <td>RESULTS</td>\n",
       "      <td>both strategies had acceptable side effect pro...</td>\n",
       "      <td>9</td>\n",
       "      <td>11</td>\n",
       "    </tr>\n",
       "    <tr>\n",
       "      <th>180038</th>\n",
       "      <td>CONCLUSIONS</td>\n",
       "      <td>compared with standard statin monotherapy , th...</td>\n",
       "      <td>10</td>\n",
       "      <td>11</td>\n",
       "    </tr>\n",
       "    <tr>\n",
       "      <th>180039</th>\n",
       "      <td>CONCLUSIONS</td>\n",
       "      <td>( plaque regression with cholesterol absorptio...</td>\n",
       "      <td>11</td>\n",
       "      <td>11</td>\n",
       "    </tr>\n",
       "  </tbody>\n",
       "</table>\n",
       "<p>180040 rows × 4 columns</p>\n",
       "</div>"
      ],
      "text/plain": [
       "             target                                               text  \\\n",
       "0         OBJECTIVE  to investigate the efficacy of @ weeks of dail...   \n",
       "1           METHODS  a total of @ patients with primary knee oa wer...   \n",
       "2           METHODS  outcome measures included pain reduction and i...   \n",
       "3           METHODS  pain was assessed using the visual analog pain...   \n",
       "4           METHODS  secondary outcome measures included the wester...   \n",
       "...             ...                                                ...   \n",
       "180035      RESULTS  for the absolute change in percent atheroma vo...   \n",
       "180036      RESULTS  for pav , a significantly greater percentage o...   \n",
       "180037      RESULTS  both strategies had acceptable side effect pro...   \n",
       "180038  CONCLUSIONS  compared with standard statin monotherapy , th...   \n",
       "180039  CONCLUSIONS  ( plaque regression with cholesterol absorptio...   \n",
       "\n",
       "        line_number  total_lines  \n",
       "0                 0           11  \n",
       "1                 1           11  \n",
       "2                 2           11  \n",
       "3                 3           11  \n",
       "4                 4           11  \n",
       "...             ...          ...  \n",
       "180035            7           11  \n",
       "180036            8           11  \n",
       "180037            9           11  \n",
       "180038           10           11  \n",
       "180039           11           11  \n",
       "\n",
       "[180040 rows x 4 columns]"
      ]
     },
     "execution_count": 58,
     "metadata": {},
     "output_type": "execute_result"
    }
   ],
   "source": [
    "train_df "
   ]
  },
  {
   "cell_type": "code",
   "execution_count": 70,
   "id": "42110f30",
   "metadata": {},
   "outputs": [],
   "source": [
    "from numpy import mean"
   ]
  },
  {
   "cell_type": "code",
   "execution_count": 73,
   "id": "84a074da",
   "metadata": {},
   "outputs": [
    {
     "data": {
      "text/plain": [
       "25.338269273494777"
      ]
     },
     "execution_count": 73,
     "metadata": {},
     "output_type": "execute_result"
    }
   ],
   "source": [
    "list_of_num = []\n",
    "for index in train_df.index:\n",
    "    list_of_num.append(train_df['text'][index].count(' '))\n",
    "    \n",
    "avg = mean(list_of_num)\n",
    "list_of_num, avg\n"
   ]
  },
  {
   "cell_type": "code",
   "execution_count": 89,
   "id": "4f721d11",
   "metadata": {},
   "outputs": [
    {
     "data": {
      "text/plain": [
       "<AxesSubplot:ylabel='Frequency'>"
      ]
     },
     "execution_count": 89,
     "metadata": {},
     "output_type": "execute_result"
    },
    {
     "data": {
      "image/png": "[encoded data removed]",
      "text/plain": [
       "<Figure size 720x576 with 1 Axes>"
      ]
     },
     "metadata": {
      "needs_background": "light"
     },
     "output_type": "display_data"
    }
   ],
   "source": [
    "df_hist = pd.DataFrame(list_of_num)\n",
    "df_hist.plot.hist(bins=200, alpha=0.7, figsize=(10, 8))"
   ]
  },
  {
   "cell_type": "code",
   "execution_count": 92,
   "id": "ae344138",
   "metadata": {},
   "outputs": [],
   "source": [
    "import tensorflow as tf\n",
    "from tensorflow.keras.layers.experimental.preprocessing import TextVectorization\n",
    "# Setup text vectorization with custom variables\n",
    "max_vocab_length = 10000 # max number of words to have in our vocabulary\n",
    "max_length = 40 # max length our sequences will be (e.g. how many words from a Tweet does our model see?)\n",
    "\n",
    "text_vectorizer = TextVectorization(max_tokens=max_vocab_length,\n",
    "                                    output_mode=\"int\",\n",
    "                                    output_sequence_length=max_length)"
   ]
  },
  {
   "cell_type": "code",
   "execution_count": 93,
   "id": "6766896b",
   "metadata": {},
   "outputs": [],
   "source": [
    "text_vectorizer.adapt(train_df['text'])"
   ]
  },
  {
   "cell_type": "code",
   "execution_count": 97,
   "id": "ee8b7b25",
   "metadata": {},
   "outputs": [
    {
     "data": {
      "text/plain": [
       "<tf.Tensor: shape=(40,), dtype=int64, numpy=\n",
       "array([ 299,   20,  784, 2628,   18,  457,    1,    5,   71,    4, 1046,\n",
       "        265,    0,    0,    0,    0,    0,    0,    0,    0,    0,    0,\n",
       "          0,    0,    0,    0,    0,    0,    0,    0,    0,    0,    0,\n",
       "          0,    0,    0,    0,    0,    0,    0], dtype=int64)>"
      ]
     },
     "execution_count": 97,
     "metadata": {},
     "output_type": "execute_result"
    }
   ],
   "source": [
    "text_vectorizer(train_df['text'][10000])"
   ]
  },
  {
   "cell_type": "code",
   "execution_count": 98,
   "id": "0e32da52",
   "metadata": {},
   "outputs": [
    {
     "name": "stdout",
     "output_type": "stream",
     "text": [
      "Number of words in vocab: 10000\n",
      "Top 5 most common words: ['', '[UNK]', 'the', 'and', 'of']\n",
      "Bottom 5 least common words: ['ethnically', 'ethambutol', 'ert', 'epicardial', 'ephedrine']\n"
     ]
    }
   ],
   "source": [
    "# Get the unique words in the vocabulary\n",
    "words_in_vocab = text_vectorizer.get_vocabulary()\n",
    "top_5_words = words_in_vocab[:5] # most common tokens (notice the [UNK] token for \"unknown\" words)\n",
    "bottom_5_words = words_in_vocab[-5:] # least common tokens\n",
    "print(f\"Number of words in vocab: {len(words_in_vocab)}\")\n",
    "print(f\"Top 5 most common words: {top_5_words}\") \n",
    "print(f\"Bottom 5 least common words: {bottom_5_words}\")"
   ]
  },
  {
   "cell_type": "code",
   "execution_count": 100,
   "id": "31af4792",
   "metadata": {},
   "outputs": [],
   "source": [
    "tf.random.set_seed(42)\n",
    "from tensorflow.keras import layers\n",
    "\n",
    "embedding = layers.Embedding(input_dim=max_vocab_length, # set input shape\n",
    "                             output_dim=128, # set size of embedding vector\n",
    "                             embeddings_initializer=\"uniform\", # default, intialize randomly\n",
    "                             input_length=max_length, # how long is each input\n",
    "                             name=\"embedding_1\") "
   ]
  },
  {
   "cell_type": "code",
   "execution_count": 102,
   "id": "cfc4cfe7",
   "metadata": {},
   "outputs": [
    {
     "data": {
      "text/plain": [
       "<tf.Tensor: shape=(128,), dtype=float32, numpy=\n",
       "array([ 0.03748605, -0.00021989, -0.04359752,  0.02412561, -0.00687733,\n",
       "       -0.00643288,  0.04683146, -0.03231154,  0.01906149,  0.00058554,\n",
       "       -0.03832903, -0.03910276, -0.04623865, -0.04948337,  0.01483753,\n",
       "        0.03817955, -0.04513848, -0.03937522, -0.01187236, -0.00577147,\n",
       "        0.03582468, -0.0335082 , -0.02434157,  0.0161026 ,  0.03354938,\n",
       "       -0.03796289,  0.0343806 , -0.02395328, -0.01672857,  0.02602958,\n",
       "        0.02377399,  0.03455451, -0.01289757, -0.03740299,  0.01408248,\n",
       "        0.01645428, -0.02191278,  0.02893208, -0.03673612, -0.03886055,\n",
       "       -0.02875739,  0.008676  , -0.03322427,  0.00662416,  0.00385163,\n",
       "       -0.03722645, -0.00656782,  0.03742001,  0.03201741, -0.02266761,\n",
       "        0.01882419,  0.00304293, -0.04187814,  0.01398506, -0.02172558,\n",
       "        0.02978731, -0.00608387, -0.03582561, -0.01819932,  0.02611626,\n",
       "       -0.03005253, -0.04457638, -0.03126935,  0.04606754,  0.0299225 ,\n",
       "       -0.00342657, -0.01053929, -0.03433595, -0.02961108, -0.03808407,\n",
       "       -0.03960342, -0.01128981,  0.02323544,  0.00897694,  0.04796406,\n",
       "       -0.03082354, -0.00990561,  0.03375633, -0.00232512,  0.02561359,\n",
       "        0.02840805, -0.02767366,  0.00866773, -0.02851802,  0.00066904,\n",
       "        0.01075522,  0.00350785,  0.02143717,  0.02940111, -0.03470248,\n",
       "        0.03902492,  0.0063001 ,  0.04769714,  0.01361766,  0.03502854,\n",
       "        0.00769162, -0.01836876,  0.01172452,  0.00593518, -0.02484953,\n",
       "       -0.02172772,  0.02130708,  0.02185449,  0.04992019, -0.00293899,\n",
       "       -0.01645871, -0.01881897,  0.02707623, -0.04264832,  0.02238416,\n",
       "       -0.04463668, -0.00600437,  0.04105082,  0.03135702,  0.0490644 ,\n",
       "        0.03259994,  0.01245366, -0.00730918,  0.04863559,  0.03251395,\n",
       "       -0.01434626,  0.00468625,  0.03306634, -0.00377696, -0.02785997,\n",
       "       -0.03495694,  0.01603654, -0.01352614], dtype=float32)>"
      ]
     },
     "execution_count": 102,
     "metadata": {},
     "output_type": "execute_result"
    }
   ],
   "source": [
    "sample_embed = embedding(text_vectorizer(train_df['text'][10000]))\n",
    "sample_embed[0]"
   ]
  },
  {
   "cell_type": "code",
   "execution_count": null,
   "id": "539ea5c3",
   "metadata": {},
   "outputs": [],
   "source": []
  },
  {
   "cell_type": "code",
   "execution_count": null,
   "id": "6fd9efc8",
   "metadata": {},
   "outputs": [],
   "source": []
  },
  {
   "cell_type": "code",
   "execution_count": null,
   "id": "1c72b8e5",
   "metadata": {},
   "outputs": [],
   "source": []
  },
  {
   "cell_type": "code",
   "execution_count": null,
   "id": "aa28f6e9",
   "metadata": {},
   "outputs": [],
   "source": []
  },
  {
   "cell_type": "code",
   "execution_count": null,
   "id": "18a97aee",
   "metadata": {},
   "outputs": [],
   "source": []
  },
  {
   "cell_type": "code",
   "execution_count": null,
   "id": "4083addc",
   "metadata": {},
   "outputs": [],
   "source": []
  },
  {
   "cell_type": "code",
   "execution_count": null,
   "id": "6d452feb",
   "metadata": {},
   "outputs": [],
   "source": []
  },
  {
   "cell_type": "code",
   "execution_count": null,
   "id": "3aedfb4e",
   "metadata": {},
   "outputs": [],
   "source": []
  },
  {
   "cell_type": "code",
   "execution_count": null,
   "id": "61c5d88d",
   "metadata": {},
   "outputs": [],
   "source": []
  },
  {
   "cell_type": "code",
   "execution_count": null,
   "id": "5c20589e",
   "metadata": {},
   "outputs": [],
   "source": []
  },
  {
   "cell_type": "code",
   "execution_count": null,
   "id": "e488c6de",
   "metadata": {},
   "outputs": [],
   "source": []
  },
  {
   "cell_type": "code",
   "execution_count": null,
   "id": "bebe2521",
   "metadata": {},
   "outputs": [],
   "source": []
  }
 ],
 "metadata": {
  "kernelspec": {
   "display_name": "gpu_test_3",
   "language": "python",
   "name": "gpu_test_3"
  },
  "language_info": {
   "codemirror_mode": {
    "name": "ipython",
    "version": 3
   },
   "file_extension": ".py",
   "mimetype": "text/x-python",
   "name": "python",
   "nbconvert_exporter": "python",
   "pygments_lexer": "ipython3",
   "version": "3.9.10"
  }
 },
 "nbformat": 4,
 "nbformat_minor": 5
}
